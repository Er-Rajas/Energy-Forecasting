{
 "cells": [
  {
   "cell_type": "markdown",
   "id": "f57cfd20",
   "metadata": {},
   "source": [
    "# 📊 India’s Renewable Energy Journey: A 3-Era State-wise Analysis\n",
    "### *An Exploratory Data Analysis of Clean Energy Generation Across Pre-COVID, COVID, and Post-COVID Periods (2018–2023)*\n",
    "\n",
    "---\n",
    "\n",
    "This project explores the evolution of renewable energy generation across Indian states over three distinct eras:\n",
    "- **Pre-COVID (2018–2019)**  \n",
    "- **COVID Era (2020–2021)**  \n",
    "- **Post-COVID Recovery (2022–2023)**\n",
    "\n",
    "Through comprehensive exploratory data analysis (EDA), we visualize and compare trends in state-wise renewable energy production, highlight regional disparities, and identify shifts in energy generation patterns triggered by the pandemic.  \n",
    "\n",
    "The study leverages spatial data, interactive visualizations, animated charts, and time-series comparisons to uncover insights into India’s clean energy transition during a critical period of socio-economic disruption and recovery.\n",
    "\n",
    "**Data Source**: Central Electricity Authority (CEA), India – State-wise Renewable Energy Generation Reports  \n",
    "**Tools Used**: Python (Pandas, Plotly, Matplotlib, Seaborn), Jupyter Notebook, OCR tools (pdfplumber, pytesseract), bar_chart_race\n",
    "\n",
    "---\n"
   ]
  },
  {
   "cell_type": "code",
   "execution_count": 219,
   "id": "d8f09be1",
   "metadata": {},
   "outputs": [],
   "source": [
    "import pandas as pd \n",
    "import matplotlib.pyplot as plt\n",
    "import seaborn as sns"
   ]
  },
  {
   "cell_type": "code",
   "execution_count": 220,
   "id": "8452b35e",
   "metadata": {},
   "outputs": [],
   "source": [
    "df_re_long = pd.read_csv(r\"C:\\Users\\rajas\\Documents\\GitHub\\Post-COVID-Energy-Forecasting\\data_set\\RE_LONG_FORMAT_2017_2023_WITH_GEO_CLEANED.csv\")\n",
    "df_re_long.columns=df_re_long.columns.str.strip().str.lower()"
   ]
  },
  {
   "cell_type": "code",
   "execution_count": 221,
   "id": "b1454caf",
   "metadata": {},
   "outputs": [],
   "source": [
    "def classify_period(year):\n",
    "   \n",
    "    if year in [2018,2019]:\n",
    "        return \"pre-covid (2018-19)\"\n",
    "    if year in [2020,2021]:\n",
    "        return \"During Covid (2020-21)\"\n",
    "    if year in [2022,2023] : \n",
    "        return \"Post Covid (2021-23)\"\n",
    "    else :\n",
    "        return \"unknown\""
   ]
  },
  {
   "cell_type": "code",
   "execution_count": 222,
   "id": "0feeceea",
   "metadata": {},
   "outputs": [],
   "source": [
    "df_re_long[\"period\"] = df_re_long['year'].apply(classify_period)"
   ]
  },
  {
   "cell_type": "markdown",
   "id": "7d7e99f5",
   "metadata": {},
   "source": [
    "-----------------------"
   ]
  },
  {
   "cell_type": "markdown",
   "id": "f3b94999",
   "metadata": {},
   "source": [
    "#Average Annual Renewable Energy Generation by Source and Period"
   ]
  },
  {
   "cell_type": "code",
   "execution_count": 223,
   "id": "487b4111",
   "metadata": {},
   "outputs": [],
   "source": [
    "summary = df_re_long.groupby([\"source\", \"period\"]).agg(\n",
    "    total_generation=(\"generation\", \"sum\"),\n",
    "    num_years=(\"year\", \"nunique\")\n",
    ")\n",
    "summary[\"avg_per_year\"] = summary[\"total_generation\"] / summary[\"num_years\"]"
   ]
  },
  {
   "cell_type": "code",
   "execution_count": 224,
   "id": "ff3e91ba",
   "metadata": {},
   "outputs": [
    {
     "data": {
      "application/vnd.microsoft.datawrangler.viewer.v0+json": {
       "columns": [
        {
         "name": "('source', 'period')",
         "rawType": "object",
         "type": "unknown"
        },
        {
         "name": "total_generation",
         "rawType": "float64",
         "type": "float"
        },
        {
         "name": "num_years",
         "rawType": "int64",
         "type": "integer"
        },
        {
         "name": "avg_per_year",
         "rawType": "float64",
         "type": "float"
        }
       ],
       "conversionMethod": "pd.DataFrame",
       "ref": "ab4c0d98-eb6a-446c-b7c1-27a94acef2f5",
       "rows": [
        [
         "('bio_power', 'During Covid (2020-21)')",
         "30545.22",
         "2",
         "15272.61"
        ],
        [
         "('bio_power', 'Post Covid (2021-23)')",
         "8393.16",
         "2",
         "4196.58"
        ],
        [
         "('bio_power', 'pre-covid (2018-19)')",
         "28260.71",
         "2",
         "14130.355"
        ],
        [
         "('large_hydro', 'During Covid (2020-21)')",
         "306068.64",
         "2",
         "153034.32"
        ],
        [
         "('large_hydro', 'Post Covid (2021-23)')",
         "254905.28",
         "2",
         "127452.64"
        ],
        [
         "('large_hydro', 'pre-covid (2018-19)')",
         "273768.556",
         "2",
         "136884.278"
        ],
        [
         "('small_hydro', 'During Covid (2020-21)')",
         "19709.64",
         "2",
         "9854.82"
        ],
        [
         "('small_hydro', 'Post Covid (2021-23)')",
         "17113.7",
         "2",
         "8556.85"
        ],
        [
         "('small_hydro', 'pre-covid (2018-19)')",
         "15508.92",
         "2",
         "7754.46"
        ],
        [
         "('solar', 'During Covid (2020-21)')",
         "110533.39",
         "2",
         "55266.695"
        ],
        [
         "('solar', 'Post Covid (2021-23)')",
         "136193.31",
         "2",
         "68096.655"
        ],
        [
         "('solar', 'pre-covid (2018-19)')",
         "58065.04",
         "2",
         "29032.52"
        ],
        [
         "('wind', 'During Covid (2020-21)')",
         "124796.34",
         "2",
         "62398.17"
        ],
        [
         "('wind', 'Post Covid (2021-23)')",
         "120108.98999999999",
         "2",
         "60054.494999999995"
        ],
        [
         "('wind', 'pre-covid (2018-19)')",
         "109297.7",
         "2",
         "54648.85"
        ]
       ],
       "shape": {
        "columns": 3,
        "rows": 15
       }
      },
      "text/html": [
       "<div>\n",
       "<style scoped>\n",
       "    .dataframe tbody tr th:only-of-type {\n",
       "        vertical-align: middle;\n",
       "    }\n",
       "\n",
       "    .dataframe tbody tr th {\n",
       "        vertical-align: top;\n",
       "    }\n",
       "\n",
       "    .dataframe thead th {\n",
       "        text-align: right;\n",
       "    }\n",
       "</style>\n",
       "<table border=\"1\" class=\"dataframe\">\n",
       "  <thead>\n",
       "    <tr style=\"text-align: right;\">\n",
       "      <th></th>\n",
       "      <th></th>\n",
       "      <th>total_generation</th>\n",
       "      <th>num_years</th>\n",
       "      <th>avg_per_year</th>\n",
       "    </tr>\n",
       "    <tr>\n",
       "      <th>source</th>\n",
       "      <th>period</th>\n",
       "      <th></th>\n",
       "      <th></th>\n",
       "      <th></th>\n",
       "    </tr>\n",
       "  </thead>\n",
       "  <tbody>\n",
       "    <tr>\n",
       "      <th rowspan=\"3\" valign=\"top\">bio_power</th>\n",
       "      <th>During Covid (2020-21)</th>\n",
       "      <td>30545.220</td>\n",
       "      <td>2</td>\n",
       "      <td>15272.610</td>\n",
       "    </tr>\n",
       "    <tr>\n",
       "      <th>Post Covid (2021-23)</th>\n",
       "      <td>8393.160</td>\n",
       "      <td>2</td>\n",
       "      <td>4196.580</td>\n",
       "    </tr>\n",
       "    <tr>\n",
       "      <th>pre-covid (2018-19)</th>\n",
       "      <td>28260.710</td>\n",
       "      <td>2</td>\n",
       "      <td>14130.355</td>\n",
       "    </tr>\n",
       "    <tr>\n",
       "      <th rowspan=\"3\" valign=\"top\">large_hydro</th>\n",
       "      <th>During Covid (2020-21)</th>\n",
       "      <td>306068.640</td>\n",
       "      <td>2</td>\n",
       "      <td>153034.320</td>\n",
       "    </tr>\n",
       "    <tr>\n",
       "      <th>Post Covid (2021-23)</th>\n",
       "      <td>254905.280</td>\n",
       "      <td>2</td>\n",
       "      <td>127452.640</td>\n",
       "    </tr>\n",
       "    <tr>\n",
       "      <th>pre-covid (2018-19)</th>\n",
       "      <td>273768.556</td>\n",
       "      <td>2</td>\n",
       "      <td>136884.278</td>\n",
       "    </tr>\n",
       "    <tr>\n",
       "      <th rowspan=\"3\" valign=\"top\">small_hydro</th>\n",
       "      <th>During Covid (2020-21)</th>\n",
       "      <td>19709.640</td>\n",
       "      <td>2</td>\n",
       "      <td>9854.820</td>\n",
       "    </tr>\n",
       "    <tr>\n",
       "      <th>Post Covid (2021-23)</th>\n",
       "      <td>17113.700</td>\n",
       "      <td>2</td>\n",
       "      <td>8556.850</td>\n",
       "    </tr>\n",
       "    <tr>\n",
       "      <th>pre-covid (2018-19)</th>\n",
       "      <td>15508.920</td>\n",
       "      <td>2</td>\n",
       "      <td>7754.460</td>\n",
       "    </tr>\n",
       "    <tr>\n",
       "      <th rowspan=\"3\" valign=\"top\">solar</th>\n",
       "      <th>During Covid (2020-21)</th>\n",
       "      <td>110533.390</td>\n",
       "      <td>2</td>\n",
       "      <td>55266.695</td>\n",
       "    </tr>\n",
       "    <tr>\n",
       "      <th>Post Covid (2021-23)</th>\n",
       "      <td>136193.310</td>\n",
       "      <td>2</td>\n",
       "      <td>68096.655</td>\n",
       "    </tr>\n",
       "    <tr>\n",
       "      <th>pre-covid (2018-19)</th>\n",
       "      <td>58065.040</td>\n",
       "      <td>2</td>\n",
       "      <td>29032.520</td>\n",
       "    </tr>\n",
       "    <tr>\n",
       "      <th rowspan=\"3\" valign=\"top\">wind</th>\n",
       "      <th>During Covid (2020-21)</th>\n",
       "      <td>124796.340</td>\n",
       "      <td>2</td>\n",
       "      <td>62398.170</td>\n",
       "    </tr>\n",
       "    <tr>\n",
       "      <th>Post Covid (2021-23)</th>\n",
       "      <td>120108.990</td>\n",
       "      <td>2</td>\n",
       "      <td>60054.495</td>\n",
       "    </tr>\n",
       "    <tr>\n",
       "      <th>pre-covid (2018-19)</th>\n",
       "      <td>109297.700</td>\n",
       "      <td>2</td>\n",
       "      <td>54648.850</td>\n",
       "    </tr>\n",
       "  </tbody>\n",
       "</table>\n",
       "</div>"
      ],
      "text/plain": [
       "                                    total_generation  num_years  avg_per_year\n",
       "source      period                                                           \n",
       "bio_power   During Covid (2020-21)         30545.220          2     15272.610\n",
       "            Post Covid (2021-23)            8393.160          2      4196.580\n",
       "            pre-covid (2018-19)            28260.710          2     14130.355\n",
       "large_hydro During Covid (2020-21)        306068.640          2    153034.320\n",
       "            Post Covid (2021-23)          254905.280          2    127452.640\n",
       "            pre-covid (2018-19)           273768.556          2    136884.278\n",
       "small_hydro During Covid (2020-21)         19709.640          2      9854.820\n",
       "            Post Covid (2021-23)           17113.700          2      8556.850\n",
       "            pre-covid (2018-19)            15508.920          2      7754.460\n",
       "solar       During Covid (2020-21)        110533.390          2     55266.695\n",
       "            Post Covid (2021-23)          136193.310          2     68096.655\n",
       "            pre-covid (2018-19)            58065.040          2     29032.520\n",
       "wind        During Covid (2020-21)        124796.340          2     62398.170\n",
       "            Post Covid (2021-23)          120108.990          2     60054.495\n",
       "            pre-covid (2018-19)           109297.700          2     54648.850"
      ]
     },
     "execution_count": 224,
     "metadata": {},
     "output_type": "execute_result"
    }
   ],
   "source": [
    "summary\n"
   ]
  },
  {
   "cell_type": "code",
   "execution_count": 225,
   "id": "99a9cc6e",
   "metadata": {},
   "outputs": [
    {
     "data": {
      "image/png": "[encoded data removed]",
      "text/plain": [
       "<Figure size 600x600 with 1 Axes>"
      ]
     },
     "metadata": {},
     "output_type": "display_data"
    }
   ],
   "source": [
    "plt.figure(figsize=(6, 6))\n",
    "sns.barplot(data=summary.reset_index(), x='source', y='avg_per_year', hue='period')\n",
    "plt.title(\"Average Annual Renewable Energy Generation by Source and Period\")\n",
    "plt.ylabel(\"Average Generation (MU)\")\n",
    "plt.xlabel(\"Source\")\n",
    "plt.xticks(rotation=45)\n",
    "plt.tight_layout()\n",
    "plt.show()\n"
   ]
  },
  {
   "cell_type": "markdown",
   "id": "7092972e",
   "metadata": {},
   "source": [
    "Plot 1: Average Annual Renewable Energy Generation by Source and Period\n",
    "Chart Type: Grouped Bar Chart\n",
    "\n",
    "Title: Average Annual Renewable Energy Generation by Source and Period\n",
    "\n",
    "Axes:\n",
    "\n",
    "X-axis: Source (bio_power, large_hydro, small_hydro, solar, wind)\n",
    "Y-axis: Average Generation (MU)\n",
    "Legend:\n",
    "\n",
    "period:\n",
    "During Covid (2020-21)\n",
    "Post Covid (2021-23)\n",
    "pre-covid (2018-19)"
   ]
  },
  {
   "cell_type": "markdown",
   "id": "23df457c",
   "metadata": {},
   "source": [
    "This chart shows the average annual generation for different renewable energy sources across three distinct periods: pre-Covid, During Covid, and Post Covid.\n",
    "\n",
    "large_hydro is clearly the dominant source of renewable energy generation among those shown, with significantly higher average generation than any other source in all periods.\n",
    "\n",
    "bio_power and small_hydro contribute the least to average renewable energy generation, with consistently low levels across all periods.\n",
    "\n",
    "Average generation from large_hydro was highest during the Covid period (2020-21), slightly lower in the Post Covid period, but still higher than pre-Covid levels.\n",
    "\n",
    "Solar energy generation shows a strong increasing trend across the periods, being lowest pre-Covid, increasing during Covid, and reaching its highest average in the Post Covid period.\n",
    "\n",
    "Wind energy generation also increased from the pre-Covid to the During Covid period. It slightly decreased in the Post Covid period compared to During Covid, but remained higher than pre-Covid levels.\n",
    "\n",
    "The contributions of bio_power and small_hydro remained relatively stable and low throughout the three periods."
   ]
  },
  {
   "cell_type": "markdown",
   "id": "2b363767",
   "metadata": {},
   "source": [
    "---------------------"
   ]
  },
  {
   "cell_type": "markdown",
   "id": "39225044",
   "metadata": {},
   "source": [
    "#Regional Comparison Over Time"
   ]
  },
  {
   "cell_type": "code",
   "execution_count": 226,
   "id": "186223c3",
   "metadata": {},
   "outputs": [],
   "source": [
    "regional_summary = df_re_long.groupby(['region','period']).agg(total_genration=(\"generation\",'sum')).reset_index()\n"
   ]
  },
  {
   "cell_type": "code",
   "execution_count": 227,
   "id": "fd68f898",
   "metadata": {},
   "outputs": [
    {
     "data": {
      "application/vnd.microsoft.datawrangler.viewer.v0+json": {
       "columns": [
        {
         "name": "index",
         "rawType": "int64",
         "type": "integer"
        },
        {
         "name": "region",
         "rawType": "object",
         "type": "string"
        },
        {
         "name": "period",
         "rawType": "object",
         "type": "string"
        },
        {
         "name": "total_genration",
         "rawType": "float64",
         "type": "float"
        }
       ],
       "conversionMethod": "pd.DataFrame",
       "ref": "89fd44a8-205b-4243-bca2-11c4b1237df9",
       "rows": [
        [
         "0",
         "ER",
         "During Covid (2020-21)",
         "47417.520000000004"
        ],
        [
         "1",
         "ER",
         "Post Covid (2021-23)",
         "37574.4"
        ],
        [
         "2",
         "ER",
         "pre-covid (2018-19)",
         "42637.4"
        ],
        [
         "3",
         "IS",
         "During Covid (2020-21)",
         "56.81"
        ],
        [
         "4",
         "IS",
         "Post Covid (2021-23)",
         "54.21"
        ],
        [
         "5",
         "IS",
         "pre-covid (2018-19)",
         "47.19"
        ],
        [
         "6",
         "NER",
         "During Covid (2020-21)",
         "11198.35"
        ],
        [
         "7",
         "NER",
         "Post Covid (2021-23)",
         "11939.550000000001"
        ],
        [
         "8",
         "NER",
         "pre-covid (2018-19)",
         "10954.322"
        ],
        [
         "9",
         "NR",
         "During Covid (2020-21)",
         "181218.78"
        ],
        [
         "10",
         "NR",
         "Post Covid (2021-23)",
         "146250.96"
        ],
        [
         "11",
         "NR",
         "pre-covid (2018-19)",
         "163620.978"
        ],
        [
         "12",
         "SR",
         "During Covid (2020-21)",
         "201792.80000000002"
        ],
        [
         "13",
         "SR",
         "Post Covid (2021-23)",
         "179546.97"
        ],
        [
         "14",
         "SR",
         "pre-covid (2018-19)",
         "157976.524"
        ],
        [
         "15",
         "WR",
         "During Covid (2020-21)",
         "149968.97"
        ],
        [
         "16",
         "WR",
         "Post Covid (2021-23)",
         "161348.35"
        ],
        [
         "17",
         "WR",
         "pre-covid (2018-19)",
         "109664.512"
        ]
       ],
       "shape": {
        "columns": 3,
        "rows": 18
       }
      },
      "text/html": [
       "<div>\n",
       "<style scoped>\n",
       "    .dataframe tbody tr th:only-of-type {\n",
       "        vertical-align: middle;\n",
       "    }\n",
       "\n",
       "    .dataframe tbody tr th {\n",
       "        vertical-align: top;\n",
       "    }\n",
       "\n",
       "    .dataframe thead th {\n",
       "        text-align: right;\n",
       "    }\n",
       "</style>\n",
       "<table border=\"1\" class=\"dataframe\">\n",
       "  <thead>\n",
       "    <tr style=\"text-align: right;\">\n",
       "      <th></th>\n",
       "      <th>region</th>\n",
       "      <th>period</th>\n",
       "      <th>total_genration</th>\n",
       "    </tr>\n",
       "  </thead>\n",
       "  <tbody>\n",
       "    <tr>\n",
       "      <th>0</th>\n",
       "      <td>ER</td>\n",
       "      <td>During Covid (2020-21)</td>\n",
       "      <td>47417.520</td>\n",
       "    </tr>\n",
       "    <tr>\n",
       "      <th>1</th>\n",
       "      <td>ER</td>\n",
       "      <td>Post Covid (2021-23)</td>\n",
       "      <td>37574.400</td>\n",
       "    </tr>\n",
       "    <tr>\n",
       "      <th>2</th>\n",
       "      <td>ER</td>\n",
       "      <td>pre-covid (2018-19)</td>\n",
       "      <td>42637.400</td>\n",
       "    </tr>\n",
       "    <tr>\n",
       "      <th>3</th>\n",
       "      <td>IS</td>\n",
       "      <td>During Covid (2020-21)</td>\n",
       "      <td>56.810</td>\n",
       "    </tr>\n",
       "    <tr>\n",
       "      <th>4</th>\n",
       "      <td>IS</td>\n",
       "      <td>Post Covid (2021-23)</td>\n",
       "      <td>54.210</td>\n",
       "    </tr>\n",
       "    <tr>\n",
       "      <th>5</th>\n",
       "      <td>IS</td>\n",
       "      <td>pre-covid (2018-19)</td>\n",
       "      <td>47.190</td>\n",
       "    </tr>\n",
       "    <tr>\n",
       "      <th>6</th>\n",
       "      <td>NER</td>\n",
       "      <td>During Covid (2020-21)</td>\n",
       "      <td>11198.350</td>\n",
       "    </tr>\n",
       "    <tr>\n",
       "      <th>7</th>\n",
       "      <td>NER</td>\n",
       "      <td>Post Covid (2021-23)</td>\n",
       "      <td>11939.550</td>\n",
       "    </tr>\n",
       "    <tr>\n",
       "      <th>8</th>\n",
       "      <td>NER</td>\n",
       "      <td>pre-covid (2018-19)</td>\n",
       "      <td>10954.322</td>\n",
       "    </tr>\n",
       "    <tr>\n",
       "      <th>9</th>\n",
       "      <td>NR</td>\n",
       "      <td>During Covid (2020-21)</td>\n",
       "      <td>181218.780</td>\n",
       "    </tr>\n",
       "    <tr>\n",
       "      <th>10</th>\n",
       "      <td>NR</td>\n",
       "      <td>Post Covid (2021-23)</td>\n",
       "      <td>146250.960</td>\n",
       "    </tr>\n",
       "    <tr>\n",
       "      <th>11</th>\n",
       "      <td>NR</td>\n",
       "      <td>pre-covid (2018-19)</td>\n",
       "      <td>163620.978</td>\n",
       "    </tr>\n",
       "    <tr>\n",
       "      <th>12</th>\n",
       "      <td>SR</td>\n",
       "      <td>During Covid (2020-21)</td>\n",
       "      <td>201792.800</td>\n",
       "    </tr>\n",
       "    <tr>\n",
       "      <th>13</th>\n",
       "      <td>SR</td>\n",
       "      <td>Post Covid (2021-23)</td>\n",
       "      <td>179546.970</td>\n",
       "    </tr>\n",
       "    <tr>\n",
       "      <th>14</th>\n",
       "      <td>SR</td>\n",
       "      <td>pre-covid (2018-19)</td>\n",
       "      <td>157976.524</td>\n",
       "    </tr>\n",
       "    <tr>\n",
       "      <th>15</th>\n",
       "      <td>WR</td>\n",
       "      <td>During Covid (2020-21)</td>\n",
       "      <td>149968.970</td>\n",
       "    </tr>\n",
       "    <tr>\n",
       "      <th>16</th>\n",
       "      <td>WR</td>\n",
       "      <td>Post Covid (2021-23)</td>\n",
       "      <td>161348.350</td>\n",
       "    </tr>\n",
       "    <tr>\n",
       "      <th>17</th>\n",
       "      <td>WR</td>\n",
       "      <td>pre-covid (2018-19)</td>\n",
       "      <td>109664.512</td>\n",
       "    </tr>\n",
       "  </tbody>\n",
       "</table>\n",
       "</div>"
      ],
      "text/plain": [
       "   region                  period  total_genration\n",
       "0      ER  During Covid (2020-21)        47417.520\n",
       "1      ER    Post Covid (2021-23)        37574.400\n",
       "2      ER     pre-covid (2018-19)        42637.400\n",
       "3      IS  During Covid (2020-21)           56.810\n",
       "4      IS    Post Covid (2021-23)           54.210\n",
       "5      IS     pre-covid (2018-19)           47.190\n",
       "6     NER  During Covid (2020-21)        11198.350\n",
       "7     NER    Post Covid (2021-23)        11939.550\n",
       "8     NER     pre-covid (2018-19)        10954.322\n",
       "9      NR  During Covid (2020-21)       181218.780\n",
       "10     NR    Post Covid (2021-23)       146250.960\n",
       "11     NR     pre-covid (2018-19)       163620.978\n",
       "12     SR  During Covid (2020-21)       201792.800\n",
       "13     SR    Post Covid (2021-23)       179546.970\n",
       "14     SR     pre-covid (2018-19)       157976.524\n",
       "15     WR  During Covid (2020-21)       149968.970\n",
       "16     WR    Post Covid (2021-23)       161348.350\n",
       "17     WR     pre-covid (2018-19)       109664.512"
      ]
     },
     "execution_count": 227,
     "metadata": {},
     "output_type": "execute_result"
    }
   ],
   "source": [
    "regional_summary"
   ]
  },
  {
   "cell_type": "code",
   "execution_count": 228,
   "id": "617185bc",
   "metadata": {},
   "outputs": [
    {
     "data": {
      "image/png": "[encoded data removed]",
      "text/plain": [
       "<Figure size 640x480 with 1 Axes>"
      ]
     },
     "metadata": {},
     "output_type": "display_data"
    }
   ],
   "source": [
    "sns.barplot(data=regional_summary, x =\"region\",y=\"total_genration\" ,hue=\"period\")\n",
    "plt.title(\"Total Generation by Region\")\n",
    "plt.ylabel(\"Total Generation (MU)\")\n",
    "plt.show()"
   ]
  },
  {
   "cell_type": "markdown",
   "id": "c189622b",
   "metadata": {},
   "source": [
    "Plot 2: Total Generation by Region\n",
    "Chart Type: Grouped Bar Chart\n",
    "\n",
    "Title: Total Generation by Region\n",
    "\n",
    "Axes:\n",
    "\n",
    "X-axis: Region (ER, IS, NER, NR, SR, WR)\n",
    "Y-axis: Total Generation (MU)\n",
    "Legend:\n",
    "\n",
    "Period:\n",
    "pre-covid (2018-19)\n",
    "During Covid (2020-21)\n",
    "Post Covid (2021-23)"
   ]
  },
  {
   "cell_type": "markdown",
   "id": "498dadd6",
   "metadata": {},
   "source": [
    "The chart compares the total generation across six different regions during three distinct periods: pre-Covid, During Covid, and Post Covid.\n",
    "\n",
    "IS and NER regions consistently show very low levels of total generation across all three periods compared to other regions.\n",
    "\n",
    "ER region's total generation appears relatively stable across the periods, with slight variations.\n",
    "\n",
    "NR, SR, and WR are the high-generation regions.\n",
    "\n",
    "NR shows an increase during the Covid period, which is maintained or slightly decreased in the Post Covid period, but remains higher than pre-Covid.\n",
    "\n",
    "SR has the highest generation overall and shows a peak during the Covid period, slightly decreasing in the Post Covid period but still higher than pre-Covid levels.\n",
    "\n",
    "WR demonstrates a notable increase in total generation in the Post Covid period compared to both the During Covid and pre-Covid periods."
   ]
  },
  {
   "cell_type": "markdown",
   "id": "e6bf0ee0",
   "metadata": {},
   "source": [
    "-----------------------"
   ]
  },
  {
   "cell_type": "markdown",
   "id": "b93778ab",
   "metadata": {},
   "source": [
    "#State Wise Generation Heatmap"
   ]
  },
  {
   "cell_type": "code",
   "execution_count": 229,
   "id": "58731d9b",
   "metadata": {},
   "outputs": [],
   "source": [
    "pivot = df_re_long.pivot_table(index=\"state\",columns=\"year\",values=\"generation\", aggfunc=\"sum\").fillna(0)"
   ]
  },
  {
   "cell_type": "code",
   "execution_count": 230,
   "id": "587579a9",
   "metadata": {},
   "outputs": [
    {
     "data": {
      "image/png": "[encoded data removed]",
      "text/plain": [
       "<Figure size 1500x1000 with 2 Axes>"
      ]
     },
     "metadata": {},
     "output_type": "display_data"
    },
    {
     "data": {
      "text/plain": [
       "<Figure size 640x480 with 0 Axes>"
      ]
     },
     "metadata": {},
     "output_type": "display_data"
    }
   ],
   "source": [
    "plt.figure(figsize=(15,10))\n",
    "sns.heatmap(pivot,cmap=\"BuPu\",linewidths=1)\n",
    "plt.title(\"State Wise RE Generation Heatmap\")\n",
    "plt.figure(facecolor=\"black\")\n",
    "plt.show()"
   ]
  },
  {
   "cell_type": "markdown",
   "id": "4950d980",
   "metadata": {},
   "source": [
    "Plot 3: State Wise RE Generation Heatmap\n",
    "Chart Type: Heatmap\n",
    "\n",
    "Title: State Wise RE Generation Heatmap\n",
    "\n",
    "Axes:\n",
    "\n",
    "Y-axis: State\n",
    "X-axis: Year (2018-2023)\n",
    "Color Intensity: Represents the level of Renewable Energy (RE) Generation (Higher values are darker purple, lower values are lighter blue)."
   ]
  },
  {
   "cell_type": "markdown",
   "id": "50f9d79a",
   "metadata": {},
   "source": [
    "Observations:\n",
    "\n",
    "This heatmap visualizes the Renewable Energy generation across various Indian states and union territories from 2018 to 2023.\n",
    "The majority of states show relatively low levels of RE generation throughout the years, indicated by the prevalent light blue color.\n",
    "Several states consistently demonstrate high levels of RE generation across all the years (2018-2023), standing out with darker shades of purple. These include:\n",
    "Himachal Pradesh\n",
    "Jammu and Kashmir\n",
    "Karnataka\n",
    "Tamil Nadu\n",
    "\n",
    "Rajasthan shows a significant increase in RE generation in the later years, particularly in 2022 and 2023, appearing much darker than in the earlier years.\n",
    "\n",
    "The heatmap effectively highlights the key states that are leading in Renewable Energy generation.\n",
    "Most other states show minimal changes in their low levels of RE generation over the observed period.\n"
   ]
  },
  {
   "cell_type": "markdown",
   "id": "02dba474",
   "metadata": {},
   "source": [
    "---------------------"
   ]
  },
  {
   "cell_type": "markdown",
   "id": "5c7e9057",
   "metadata": {},
   "source": [
    "#Top 10 State per source\n"
   ]
  },
  {
   "cell_type": "code",
   "execution_count": 231,
   "id": "8b597dd8",
   "metadata": {},
   "outputs": [
    {
     "data": {
      "image/png": "[encoded data removed]",
      "text/plain": [
       "<Figure size 811.111x1200 with 5 Axes>"
      ]
     },
     "metadata": {},
     "output_type": "display_data"
    }
   ],
   "source": [
    "top_states = df_re_long.groupby([\"source\",\"state\"]).agg(total_generation = (\"generation\",\"sum\")).reset_index()\n",
    "\n",
    "g= sns.catplot(data=top_states.sort_values(\"total_generation\",ascending = False).groupby(\"source\").head(10),x=\"total_generation\" , y=\"state\",col=\"source\",kind=\"bar\",col_wrap=2, sharex=False,height=4)\n",
    "g.set_titles(\"{col_name}\")\n",
    "g.fig.suptitle(\"Top 10 States by Source (2017-2023)\",y=1.05)\n",
    "plt.show()"
   ]
  },
  {
   "cell_type": "markdown",
   "id": "11b97f83",
   "metadata": {},
   "source": [
    "Plot 4: Top States by Source (2017-2023)\n",
    "Chart Type: Faceted Horizontal Bar Charts\n",
    "\n",
    "Title: Top 10 States by Source (2017-2023)\n",
    "\n",
    "Axes:\n",
    "\n",
    "Y-axis: State\n",
    "X-axis: Total Generation (for each respective source)\n",
    "Description:\n",
    "This plot consists of multiple horizontal bar charts, each representing a different renewable energy source (large_hydro, wind, solar, bio_power, small_hydro). Each chart shows the top states that have contributed the most to the total generation from that specific source between 2017 and 2023."
   ]
  },
  {
   "cell_type": "markdown",
   "id": "41a43f08",
   "metadata": {},
   "source": [
    "Observations:\n",
    "\n",
    "The charts highlight the leading states for each type of renewable energy generation.\n",
    "\n",
    "Large Hydro: Himachal Pradesh is the dominant state for large hydro generation by a significant margin. Other notable states include Jammu and Kashmir, Uttarakhand, Gujarat, and Karnataka.\n",
    "\n",
    "Wind: Tamil Nadu leads in wind power generation, followed closely by Gujarat and Karnataka. Andhra Pradesh, Rajasthan, and Maharashtra also have substantial wind generation.\n",
    "\n",
    "Solar: Rajasthan is the top state for solar generation, followed by Gujarat and Andhra Pradesh. Karnataka, Telangana, Madhya Pradesh, and Tamil Nadu also show considerable solar generation.\n",
    "\n",
    "Bio Power: Karnataka and Maharashtra appear to be the leading states for bio power. Uttar Pradesh and Punjab also contribute significantly.\n",
    "\n",
    "Small Hydro: Himachal Pradesh is the primary contributor to small hydro generation, followed by Karnataka and Uttarakhand. Jammu and Kashmir, Sikkim, and Maharashtra also play a role.\n",
    "\n",
    "Different states specialize in different types of renewable energy, reflecting geographical advantages and policy focus."
   ]
  },
  {
   "cell_type": "markdown",
   "id": "f583353f",
   "metadata": {},
   "source": [
    "-------------"
   ]
  },
  {
   "cell_type": "markdown",
   "id": "79f61dd0",
   "metadata": {},
   "source": [
    "#Correlation Matrix (for generation sources)"
   ]
  },
  {
   "cell_type": "code",
   "execution_count": 232,
   "id": "8b4e7597",
   "metadata": {},
   "outputs": [
    {
     "data": {
      "image/png": "[encoded data removed]",
      "text/plain": [
       "<Figure size 640x480 with 2 Axes>"
      ]
     },
     "metadata": {},
     "output_type": "display_data"
    }
   ],
   "source": [
    "df_corr = df_re_long.pivot_table(index=[\"year\", \"state\"], columns=\"source\", values=\"generation\", aggfunc=\"sum\")\n",
    "sns.heatmap(df_corr.corr(), annot=True, cmap=\"coolwarm\")\n",
    "plt.title(\"Correlation between Renewable Energy Sources\")\n",
    "plt.show()\n"
   ]
  },
  {
   "cell_type": "markdown",
   "id": "52bc1c53",
   "metadata": {},
   "source": [
    "Plot 5: Correlation between Renewable Energy Sources\n",
    "Chart Type: Correlation Heatmap\n",
    "\n",
    "Title: Correlation between Renewable Energy Sources\n",
    "\n",
    "Axes:\n",
    "\n",
    "X-axis: Renewable Energy Source\n",
    "Y-axis: Renewable Energy Source\n",
    "Color Intensity: Represents the correlation coefficient between the two sources (Red indicates strong positive correlation, Blue indicates weaker or negative correlation)."
   ]
  },
  {
   "cell_type": "markdown",
   "id": "da1ae61a",
   "metadata": {},
   "source": [
    "Observations:\n",
    "\n",
    "This heatmap visualizes the pairwise correlation coefficients between the different renewable energy sources.\n",
    "\n",
    "The diagonal cells show a correlation of 1, as expected, representing the perfect positive correlation of a source with itself.\n",
    "\n",
    "There is a strong positive correlation between large_hydro and small_hydro (coefficient = 0.81). This suggests that as generation from large hydro sources increases, generation from small hydro sources also tends to increase, and vice versa.\n",
    "\n",
    "There is a moderate positive correlation between solar and wind energy generation (coefficient = 0.61). This indicates a tendency for solar and wind generation to increase or decrease together, though not as strongly as large and small hydro.\n",
    "\n",
    "The correlations between bio_power and all other sources are relatively low (coefficients ranging from 0.031 to 0.25), suggesting that bio power generation levels do not strongly correlate with the generation levels of the other renewable sources shown.\n",
    "\n",
    "The correlations between the hydro sources (large and small) and the variable renewable sources (solar and wind) are relatively low (coefficients between 0.064 and 0.24). This is often expected as hydro can be more dispatchable, while solar and wind are intermittent.\n",
    "\n",
    "All observed off-diagonal correlations in this heatmap are positive, indicating that there are no strong inverse relationships between these renewable energy sources in this dataset."
   ]
  },
  {
   "cell_type": "markdown",
   "id": "8780f785",
   "metadata": {},
   "source": [
    "-------------------"
   ]
  },
  {
   "cell_type": "markdown",
   "id": "58531b56",
   "metadata": {},
   "source": [
    "#Bar Chart Race for Top 10 State by Top 10 States by Total Renewable Energy Generation (2017-2023)"
   ]
  },
  {
   "cell_type": "code",
   "execution_count": 233,
   "id": "3daad3a0",
   "metadata": {},
   "outputs": [],
   "source": [
    "import bar_chart_race as bcr\n",
    "from IPython.display import HTML"
   ]
  },
  {
   "cell_type": "code",
   "execution_count": 234,
   "id": "a6d76d17",
   "metadata": {},
   "outputs": [],
   "source": [
    "df_bcr = (\n",
    "    df_re_long.groupby([\"year\", \"state\"])\n",
    "    .agg({\"generation\": \"sum\"})\n",
    "    .reset_index()\n",
    "    .pivot(index=\"year\", columns=\"state\", values=\"generation\")\n",
    "    .fillna(0)\n",
    ")"
   ]
  },
  {
   "cell_type": "code",
   "execution_count": 235,
   "id": "b1e2b8c3",
   "metadata": {},
   "outputs": [],
   "source": [
    "from matplotlib.animation import FFMpegWriter\n",
    "import matplotlib as mpl\n",
    "mpl.rcParams['animation.ffmpeg_path'] = r\"C:\\ffmpeg-master-latest-win64-gpl\\ffmpeg-master-latest-win64-gpl\\bin\\ffmpeg.exe\"\n",
    "\n",
    "\n"
   ]
  },
  {
   "cell_type": "code",
   "execution_count": 236,
   "id": "d45c775e-516f-4c80-8106-d28367dfef8d",
   "metadata": {},
   "outputs": [
    {
     "name": "stderr",
     "output_type": "stream",
     "text": [
      "c:\\Users\\rajas\\AppData\\Local\\Programs\\Python\\Python312\\Lib\\site-packages\\bar_chart_race\\_make_chart.py:286: UserWarning:\n",
      "\n",
      "set_ticklabels() should only be used with a fixed number of ticks, i.e. after set_ticks() or using a FixedLocator.\n",
      "\n",
      "c:\\Users\\rajas\\AppData\\Local\\Programs\\Python\\Python312\\Lib\\site-packages\\bar_chart_race\\_make_chart.py:287: UserWarning:\n",
      "\n",
      "set_ticklabels() should only be used with a fixed number of ticks, i.e. after set_ticks() or using a FixedLocator.\n",
      "\n",
      "c:\\Users\\rajas\\AppData\\Local\\Programs\\Python\\Python312\\Lib\\site-packages\\bar_chart_race\\_make_chart.py:226: UserWarning:\n",
      "\n",
      "Some of your columns never make an appearance in the animation. To reduce color repetition, set `filter_column_colors` to `True`\n",
      "\n"
     ]
    },
    {
     "data": {
      "text/html": [
       "\n",
       "<video width=\"800\" controls>\n",
       "  <source src=\"RE_generation_race.MP4\" type=\"video/mp4\">\n",
       "  Your browser does not support the video tag.\n",
       "</video>\n"
      ],
      "text/plain": [
       "<IPython.core.display.HTML object>"
      ]
     },
     "execution_count": 236,
     "metadata": {},
     "output_type": "execute_result"
    }
   ],
   "source": [
    "bcr.bar_chart_race(\n",
    "    df=df_bcr,\n",
    "    filename='RE_generation_race.MP4',  # Use .gif instead of .mp4\n",
    "    orientation='h',\n",
    "    sort='desc',\n",
    "    n_bars=10,\n",
    "    fixed_order=False,\n",
    "    fixed_max=True,\n",
    "    steps_per_period=20,\n",
    "    interpolate_period=True,\n",
    "    period_fmt=None,\n",
    "    title='Top 10 States by Total Renewable Energy Generation (2017-2023)',\n",
    "    bar_size=.95,\n",
    "    period_length=2000\n",
    ")\n",
    "HTML(\"\"\"\n",
    "<video width=\"800\" controls>\n",
    "  <source src=\"RE_generation_race.MP4\" type=\"video/mp4\">\n",
    "  Your browser does not support the video tag.\n",
    "</video>\n",
    "\"\"\")"
   ]
  },
  {
   "cell_type": "markdown",
   "id": "91f154fc",
   "metadata": {},
   "source": [
    "------------------------------"
   ]
  },
  {
   "cell_type": "markdown",
   "id": "4c813420",
   "metadata": {},
   "source": [
    "#State-wise Renewable Energy Generation Over Time (2017–2023) (Interactive)"
   ]
  },
  {
   "cell_type": "code",
   "execution_count": 237,
   "id": "2f161d93-d426-41ec-9807-6537d87c636d",
   "metadata": {},
   "outputs": [],
   "source": [
    "df_re_long_geo = pd.read_csv(r\"C:\\Users\\rajas\\Documents\\GitHub\\Post-COVID-Energy-Forecasting\\data_set\\RE_LONG_FORMAT_2017_2023_WITH_GEO.csv\")"
   ]
  },
  {
   "cell_type": "code",
   "execution_count": 238,
   "id": "8202dec9-b379-49c6-8d0c-997a64cb51b3",
   "metadata": {},
   "outputs": [],
   "source": [
    "import plotly.express as px"
   ]
  },
  {
   "cell_type": "code",
   "execution_count": 239,
   "id": "ca162ec5",
   "metadata": {},
   "outputs": [],
   "source": [
    "df_re_long_geo.columns = df_re_long_geo.columns.str.strip().str.lower()\n",
    "df_re_long_geo.rename(columns={\n",
    "    'state': 'State',\n",
    "    'region': 'Region',\n",
    "    'latitude': 'Latitude',\n",
    "    'longitude': 'Longitude',\n",
    "    'generation': 'Generation',\n",
    "    'year': 'Dates'\n",
    "}, inplace=True)\n",
    "df_re_long_geo = df_re_long_geo.dropna(subset=['Latitude', 'Longitude', 'Generation'])\n"
   ]
  },
  {
   "cell_type": "code",
   "execution_count": 240,
   "id": "c80b8453",
   "metadata": {},
   "outputs": [
    {
     "data": {
      "application/vnd.plotly.v1+json": {
       "config": {
        "plotlyServerURL": "https://plot.ly"
       },
       "data": [
        {
         "geo": "geo",
         "hovertemplate": "<b>%{hovertext}</b><br><br>Region=NR<br>Dates=2017-18<br>Generation=%{marker.size}<br>Latitude=%{lat}<br>Longitude=%{lon}<extra></extra>",
         "hovertext": [
          "Chandigarh",
          "Delhi",
          "Haryana",
          "Himachal Pradesh",
          "Jammu and Kashmir",
          "Punjab",
          "Uttar Pradesh",
          "Uttarakhand",
          "Chandigarh",
          "Delhi",
          "Haryana",
          "Himachal Pradesh",
          "Jammu and Kashmir",
          "Punjab",
          "Uttar Pradesh",
          "Uttarakhand",
          "Chandigarh",
          "Delhi",
          "Haryana",
          "Himachal Pradesh",
          "Jammu and Kashmir",
          "Punjab",
          "Uttar Pradesh",
          "Uttarakhand",
          "Chandigarh",
          "Delhi",
          "Haryana",
          "Himachal Pradesh",
          "Jammu and Kashmir",
          "Punjab",
          "Uttar Pradesh",
          "Uttarakhand"
         ],
         "lat": {
          "bdata": "JCh+jLm7PkAVHcnlP7Q8QDsBTYQNDz1A7Z48LNQaP0Ck374OnONAQNk9eVioJT9A8IXJVMHYOkBwXwfOGRE+QCQofoy5uz5AFR3J5T+0PEA7AU2EDQ89QO2ePCzUGj9ApN++DpzjQEDZPXlYqCU/QPCFyVTB2DpAcF8HzhkRPkAkKH6Mubs+QBUdyeU/tDxAOwFNhA0PPUDtnjws1Bo/QKTfvg6c40BA2T15WKglP0DwhclUwdg6QHBfB84ZET5AJCh+jLm7PkAVHcnlP7Q8QDsBTYQNDz1A7Z48LNQaP0Ck374OnONAQNk9eVioJT9A8IXJVMHYOkBwXwfOGRE+QA==",
          "dtype": "f8"
         },
         "legendgroup": "NR",
         "lon": {
          "bdata": "J6CJsOExU0DD9Shcj0ZTQGgibHh6BVNAF0hQ/BhLU0Ai/fZ14CRTQEtZhjjW1VJAat5xio48VEAFNBE2PMFTQCegibDhMVNAw/UoXI9GU0BoImx4egVTQBdIUPwYS1NAIv32deAkU0BLWYY41tVSQGrecYqOPFRABTQRNjzBU0AnoImw4TFTQMP1KFyPRlNAaCJseHoFU0AXSFD8GEtTQCL99nXgJFNAS1mGONbVUkBq3nGKjjxUQAU0ETY8wVNAJ6CJsOExU0DD9Shcj0ZTQGgibHh6BVNAF0hQ/BhLU0Ai/fZ14CRTQEtZhjjW1VJAat5xio48VEAFNBE2PMFTQA==",
          "dtype": "f8"
         },
         "marker": {
          "color": "#636efa",
          "size": {
           "bdata": "AAAAAAAAAAAAAAAAAAAAAAAAAAAAAAAAAAAAAAAAAAAAAAAAAAAAAAAAAAAAAAAAAAAAAAAAAAAAAAAAAAAAAGZmZmZmZhlAj8L1KFwPJkDsUbgehetJQAAAAAAAAAAAAAAAAAAAAAAfhetRuKiSQLgehetRyH1ACtejcD0qaUAAAAAAAAAAAAAAAAAAAAAAAAAAAAA4aECPwvUoXCqcQAAAAAAAMHJACtejcD3SZUBI4XoUrgc5QHsUrkfhioBAAAAAAAAAAAAUrkfherxnQFK4HoXr4WhAAAAAAAAAAAAAAAAAAAAAAClcj8L1eolA7FG4HoWzpEDNzMzMzGxKQA==",
           "dtype": "f8"
          },
          "sizemode": "area",
          "sizeref": 102.0872,
          "symbol": "circle"
         },
         "mode": "markers",
         "name": "NR",
         "showlegend": true,
         "type": "scattergeo"
        },
        {
         "geo": "geo",
         "hovertemplate": "<b>%{hovertext}</b><br><br>Region=WR<br>Dates=2017-18<br>Generation=%{marker.size}<br>Latitude=%{lat}<br>Longitude=%{lon}<extra></extra>",
         "hovertext": [
          "Rajasthan",
          "Chhattisgarh",
          "Gujarat",
          "Madhya Pradesh",
          "Maharashtra",
          "Dadra and Nagar Haveli",
          "Daman and Diu",
          "Rajasthan",
          "Chhattisgarh",
          "Gujarat",
          "Madhya Pradesh",
          "Maharashtra",
          "Dadra and Nagar Haveli",
          "Daman and Diu",
          "Rajasthan",
          "Chhattisgarh",
          "Gujarat",
          "Madhya Pradesh",
          "Maharashtra",
          "Dadra and Nagar Haveli",
          "Daman and Diu",
          "Rajasthan",
          "Chhattisgarh",
          "Gujarat",
          "Madhya Pradesh",
          "Maharashtra",
          "Dadra and Nagar Haveli",
          "Daman and Diu"
         ],
         "lat": {
          "bdata": "EqW9wRcGO0AsZRniWEc1QKd5xyk6QjZAKe0NvjD5NkCq8dJNYsAzQK7YX3ZPLjRAduCcEaVtNEASpb3BFwY7QCxlGeJYRzVAp3nHKTpCNkAp7Q2+MPk2QKrx0k1iwDNArthfdk8uNEB24JwRpW00QBKlvcEXBjtALGUZ4lhHNUCneccpOkI2QCntDb4w+TZAqvHSTWLAM0Cu2F92Ty40QHbgnBGlbTRAEqW9wRcGO0AsZRniWEc1QKd5xyk6QjZAKe0NvjD5NkCq8dJNYsAzQK7YX3ZPLjRAduCcEaVtNEA=",
          "dtype": "f8"
         },
         "legendgroup": "WR",
         "lon": {
          "bdata": "GXPXEvKNUkAzxLEubndUQAfwFkhQzFFAgy9MpgqqU0BSJ6CJsO1SQFvTvOMUQVJA4JwRpb01UkAZc9cS8o1SQDPEsS5ud1RAB/AWSFDMUUCDL0ymCqpTQFInoImw7VJAW9O84xRBUkDgnBGlvTVSQBlz1xLyjVJAM8SxLm53VEAH8BZIUMxRQIMvTKYKqlNAUiegibDtUkBb07zjFEFSQOCcEaW9NVJAGXPXEvKNUkAzxLEubndUQAfwFkhQzFFAgy9MpgqqU0BSJ6CJsO1SQFvTvOMUQVJA4JwRpb01UkA=",
          "dtype": "f8"
         },
         "marker": {
          "color": "#EF553B",
          "size": {
           "bdata": "cT0K16PEs0AAAAAAAAAAAAAAAAAApcBAcT0K16NHrEA9CtejsNO3QAAAAAAAAAAAAAAAAAAAAACF61G4HuSlQB+F61G4HlhAhetRuB6LmUCuR+F6FFuWQAAAAAAAgopAAAAAAAAAEkA9CtejcD0uQI/C9ShcjxdAH4XrUbieM0DXo3A9ChdBQEjhehSuR1tAH4XrUbgCf0AAAAAAAAAAAAAAAAAAAAAAAAAAAADMcUAAAAAAAFCIQBSuR+F61DhA4XoUrkcBUEAAAAAAAEajQAAAAAAAAAAAAAAAAAAAAAA=",
           "dtype": "f8"
          },
          "sizemode": "area",
          "sizeref": 102.0872,
          "symbol": "circle"
         },
         "mode": "markers",
         "name": "WR",
         "showlegend": true,
         "type": "scattergeo"
        },
        {
         "geo": "geo",
         "hovertemplate": "<b>%{hovertext}</b><br><br>Region=SR<br>Dates=2017-18<br>Generation=%{marker.size}<br>Latitude=%{lat}<br>Longitude=%{lon}<extra></extra>",
         "hovertext": [
          "Andhra Pradesh",
          "Telangana",
          "Karnataka",
          "Kerala",
          "Tamil Nadu",
          "Lakshadweep",
          "Puducherry",
          "Andhra Pradesh",
          "Telangana",
          "Karnataka",
          "Kerala",
          "Tamil Nadu",
          "Lakshadweep",
          "Puducherry",
          "Andhra Pradesh",
          "Telangana",
          "Karnataka",
          "Kerala",
          "Tamil Nadu",
          "Lakshadweep",
          "Puducherry",
          "Andhra Pradesh",
          "Telangana",
          "Karnataka",
          "Kerala",
          "Tamil Nadu",
          "Lakshadweep",
          "Puducherry"
         ],
         "lat": {
          "bdata": "bAn5oGfTL0AGEhQ/xhwyQKYKRiV1oi5A+n5qvHSzJUCppE5AE0EmQFJJnYAmIiVAw9MrZRniJ0BsCfmgZ9MvQAYSFD/GHDJApgpGJXWiLkD6fmq8dLMlQKmkTkATQSZAUkmdgCYiJUDD0ytlGeInQGwJ+aBn0y9ABhIUP8YcMkCmCkYldaIuQPp+arx0syVAqaROQBNBJkBSSZ2AJiIlQMPTK2UZ4idAbAn5oGfTL0AGEhQ/xhwyQKYKRiV1oi5A+n5qvHSzJUCppE5AE0EmQFJJnYAmIiVAw9MrZRniJ0A=",
          "dtype": "f8"
         },
         "legendgroup": "SR",
         "lon": {
          "bdata": "j8L1KFzvU0AFNBE2PMFTQFInoImw7VJAhXzQs1kRU0CDL0ymCqpTQPd14JwRKVJA1lbsL7vzU0CPwvUoXO9TQAU0ETY8wVNAUiegibDtUkCFfNCzWRFTQIMvTKYKqlNA93XgnBEpUkDWVuwvu/NTQI/C9Shc71NABTQRNjzBU0BSJ6CJsO1SQIV80LNZEVNAgy9MpgqqU0D3deCcESlSQNZW7C+781NAj8L1KFzvU0AFNBE2PMFTQFInoImw7VJAhXzQs1kRU0CDL0ymCqpTQPd14JwRKVJA1lbsL7vzU0A=",
          "dtype": "f8"
         },
         "marker": {
          "color": "#00cc96",
          "size": {
           "bdata": "cT0K1+PItUCPwvUoXIdmQBSuR+F637lAAAAAAACwVUDhehSu53HGQAAAAAAAAAAAAAAAAAAAAADsUbgehZmmQI/C9ShcQ6dASOF6FK7fl0BxPQrXo/BGQOxRuB4FpqFAXI/C9Shc9z/2KFyPwvXwP3E9CtejeGFAH4XrUbj+R0C4HoXrUeyXQNejcD0KVYFAPQrXo3DtY0AAAAAAAAAAAAAAAAAAAAAAw/UoXI8ickBmZmZmZqZxQOxRuB6FmZdAAAAAAAAAAAAUrkfhelaDQAAAAAAAAAAAAAAAAAAAAAA=",
           "dtype": "f8"
          },
          "sizemode": "area",
          "sizeref": 102.0872,
          "symbol": "circle"
         },
         "mode": "markers",
         "name": "SR",
         "showlegend": true,
         "type": "scattergeo"
        },
        {
         "geo": "geo",
         "hovertemplate": "<b>%{hovertext}</b><br><br>Region=IS<br>Dates=2017-18<br>Generation=%{marker.size}<br>Latitude=%{lat}<br>Longitude=%{lon}<extra></extra>",
         "hovertext": [
          "Andaman Nicobar",
          "Andaman Nicobar",
          "Andaman Nicobar",
          "Andaman Nicobar"
         ],
         "lat": {
          "bdata": "CYofY+56J0AJih9j7nonQAmKH2PueidACYofY+56J0A=",
          "dtype": "f8"
         },
         "legendgroup": "IS",
         "lon": {
          "bdata": "UkmdgCYqV0BSSZ2AJipXQFJJnYAmKldAUkmdgCYqV0A=",
          "dtype": "f8"
         },
         "marker": {
          "color": "#ab63fa",
          "size": {
           "bdata": "AAAAAAAAAACPwvUoXI8VQD0K16NwvSZAAAAAAAAAAAA=",
           "dtype": "f8"
          },
          "sizemode": "area",
          "sizeref": 102.0872,
          "symbol": "circle"
         },
         "mode": "markers",
         "name": "IS",
         "showlegend": true,
         "type": "scattergeo"
        },
        {
         "geo": "geo",
         "hovertemplate": "<b>%{hovertext}</b><br><br>Region=ER<br>Dates=2017-18<br>Generation=%{marker.size}<br>Latitude=%{lat}<br>Longitude=%{lon}<extra></extra>",
         "hovertext": [
          "Bihar",
          "Jharkhand",
          "Odisha",
          "Sikkim",
          "West Bengal",
          "Bihar",
          "Jharkhand",
          "Odisha",
          "Sikkim",
          "West Bengal",
          "Bihar",
          "Jharkhand",
          "Odisha",
          "Sikkim",
          "West Bengal",
          "Bihar",
          "Jharkhand",
          "Odisha",
          "Sikkim",
          "West Bengal"
         ],
         "lat": {
          "bdata": "RiV1ApoYOUDqBDQRNpw3QGuad5yi8zRAnMQgsHKIO0Bbsb/snvw2QEYldQKaGDlA6gQ0ETacN0BrmnecovM0QJzEILByiDtAW7G/7J78NkBGJXUCmhg5QOoENBE2nDdAa5p3nKLzNECcxCCwcog7QFuxv+ye/DZARiV1ApoYOUDqBDQRNpw3QGuad5yi8zRAnMQgsHKIO0Bbsb/snvw2QA==",
          "dtype": "f8"
         },
         "legendgroup": "ER",
         "lon": {
          "bdata": "KxiV1AlUVUCgibDh6VFVQPyp8dJNRlVAuECC4scgVkAfhetRuPZVQCsYldQJVFVAoImw4elRVUD8qfHSTUZVQLhAguLHIFZAH4XrUbj2VUArGJXUCVRVQKCJsOHpUVVA/Knx0k1GVUC4QILixyBWQB+F61G49lVAKxiV1AlUVUCgibDh6VFVQPyp8dJNRlVAuECC4scgVkAfhetRuPZVQA==",
          "dtype": "f8"
         },
         "marker": {
          "color": "#FFA15A",
          "size": {
           "bdata": "AAAAAAAAAAAAAAAAAAAAAAAAAAAAAAAAAAAAAAAAAAAAAAAAAAAAANejcD0Kh1pA16NwPQrXL0Bcj8L1KORkQAAAAAAAAAAAAAAAAACAL0BSuB6F61EaQAAAAAAAAAAAZmZmZmZ+bkAK16NwPYo8QNejcD0Kf2NAuB6F61GoVUAAAAAAAAAAAOxRuB6FC0FAAAAAAAAAAABI4XoUriOSQA==",
           "dtype": "f8"
          },
          "sizemode": "area",
          "sizeref": 102.0872,
          "symbol": "circle"
         },
         "mode": "markers",
         "name": "ER",
         "showlegend": true,
         "type": "scattergeo"
        },
        {
         "geo": "geo",
         "hovertemplate": "<b>%{hovertext}</b><br><br>Region=NER<br>Dates=2017-18<br>Generation=%{marker.size}<br>Latitude=%{lat}<br>Longitude=%{lon}<extra></extra>",
         "hovertext": [
          "Arunachal Pradesh",
          "Assam",
          "Manipur",
          "Meghalaya",
          "Mizoram",
          "Nagaland",
          "Tripura",
          "Arunachal Pradesh",
          "Assam",
          "Manipur",
          "Meghalaya",
          "Mizoram",
          "Nagaland",
          "Tripura",
          "Arunachal Pradesh",
          "Assam",
          "Manipur",
          "Meghalaya",
          "Mizoram",
          "Nagaland",
          "Tripura",
          "Arunachal Pradesh",
          "Assam",
          "Manipur",
          "Meghalaya",
          "Mizoram",
          "Nagaland",
          "Tripura"
         ],
         "lat": {
          "bdata": "K4cW2c43PEDek4eFWjM6QO5aQj7oqThAZDvfT413OUAnMQisHCo3QLivA+eMKDpAqRPQRNjwN0ArhxbZzjc8QN6Th4VaMzpA7lpCPuipOEBkO99PjXc5QCcxCKwcKjdAuK8D54woOkCpE9BE2PA3QCuHFtnONzxA3pOHhVozOkDuWkI+6Kk4QGQ730+NdzlAJzEIrBwqN0C4rwPnjCg6QKkT0ETY8DdAK4cW2c43PEDek4eFWjM6QO5aQj7oqThAZDvfT413OUAnMQisHCo3QLivA+eMKDpAqRPQRNjwN0A=",
          "dtype": "f8"
         },
         "legendgroup": "NER",
         "lon": {
          "bdata": "2IFzRpSuV0CyLm6jATxXQFkXt9EAeldA5fIf0m/XVkCyLm6jATxXQE7RkVz+o1dAEHo2qz7/VkDYgXNGlK5XQLIubqMBPFdAWRe30QB6V0Dl8h/Sb9dWQLIubqMBPFdATtGRXP6jV0AQejarPv9WQNiBc0aUrldAsi5uowE8V0BZF7fRAHpXQOXyH9Jv11ZAsi5uowE8V0BO0ZFc/qNXQBB6Nqs+/1ZA2IFzRpSuV0CyLm6jATxXQFkXt9EAeldA5fIf0m/XVkCyLm6jATxXQE7RkVz+o1dAEHo2qz7/VkA=",
          "dtype": "f8"
         },
         "marker": {
          "color": "#19d3f3",
          "size": {
           "bdata": "AAAAAAAAAAAAAAAAAAAAAAAAAAAAAAAAAAAAAAAAAAAAAAAAAAAAAAAAAAAAAAAAAAAAAAAAAADhehSuR+HKP1yPwvUoXB1AexSuR+F6pD8AAAAAAAAAAAAAAAAAAAAAAAAAAAAAAAAAAAAAAAAAAHE9CtejcN0/AAAAAAAALEAAAAAAAAAAADMzMzMzs05AexSuR+F6SEA9CtejcA1VQClcj8L1SEJAAAAAAAAAAAAAAAAAAAAAAAAAAAAAAAAAAAAAAAAAAAAAAAAAAAAAAAAAAAAAAAAAAAAAAAAAAAA=",
           "dtype": "f8"
          },
          "sizemode": "area",
          "sizeref": 102.0872,
          "symbol": "circle"
         },
         "mode": "markers",
         "name": "NER",
         "showlegend": true,
         "type": "scattergeo"
        }
       ],
       "frames": [
        {
         "data": [
          {
           "geo": "geo",
           "hovertemplate": "<b>%{hovertext}</b><br><br>Region=NR<br>Dates=2017-18<br>Generation=%{marker.size}<br>Latitude=%{lat}<br>Longitude=%{lon}<extra></extra>",
           "hovertext": [
            "Chandigarh",
            "Delhi",
            "Haryana",
            "Himachal Pradesh",
            "Jammu and Kashmir",
            "Punjab",
            "Uttar Pradesh",
            "Uttarakhand",
            "Chandigarh",
            "Delhi",
            "Haryana",
            "Himachal Pradesh",
            "Jammu and Kashmir",
            "Punjab",
            "Uttar Pradesh",
            "Uttarakhand",
            "Chandigarh",
            "Delhi",
            "Haryana",
            "Himachal Pradesh",
            "Jammu and Kashmir",
            "Punjab",
            "Uttar Pradesh",
            "Uttarakhand",
            "Chandigarh",
            "Delhi",
            "Haryana",
            "Himachal Pradesh",
            "Jammu and Kashmir",
            "Punjab",
            "Uttar Pradesh",
            "Uttarakhand"
           ],
           "lat": {
            "bdata": "JCh+jLm7PkAVHcnlP7Q8QDsBTYQNDz1A7Z48LNQaP0Ck374OnONAQNk9eVioJT9A8IXJVMHYOkBwXwfOGRE+QCQofoy5uz5AFR3J5T+0PEA7AU2EDQ89QO2ePCzUGj9ApN++DpzjQEDZPXlYqCU/QPCFyVTB2DpAcF8HzhkRPkAkKH6Mubs+QBUdyeU/tDxAOwFNhA0PPUDtnjws1Bo/QKTfvg6c40BA2T15WKglP0DwhclUwdg6QHBfB84ZET5AJCh+jLm7PkAVHcnlP7Q8QDsBTYQNDz1A7Z48LNQaP0Ck374OnONAQNk9eVioJT9A8IXJVMHYOkBwXwfOGRE+QA==",
            "dtype": "f8"
           },
           "legendgroup": "NR",
           "lon": {
            "bdata": "J6CJsOExU0DD9Shcj0ZTQGgibHh6BVNAF0hQ/BhLU0Ai/fZ14CRTQEtZhjjW1VJAat5xio48VEAFNBE2PMFTQCegibDhMVNAw/UoXI9GU0BoImx4egVTQBdIUPwYS1NAIv32deAkU0BLWYY41tVSQGrecYqOPFRABTQRNjzBU0AnoImw4TFTQMP1KFyPRlNAaCJseHoFU0AXSFD8GEtTQCL99nXgJFNAS1mGONbVUkBq3nGKjjxUQAU0ETY8wVNAJ6CJsOExU0DD9Shcj0ZTQGgibHh6BVNAF0hQ/BhLU0Ai/fZ14CRTQEtZhjjW1VJAat5xio48VEAFNBE2PMFTQA==",
            "dtype": "f8"
           },
           "marker": {
            "color": "#636efa",
            "size": {
             "bdata": "AAAAAAAAAAAAAAAAAAAAAAAAAAAAAAAAAAAAAAAAAAAAAAAAAAAAAAAAAAAAAAAAAAAAAAAAAAAAAAAAAAAAAGZmZmZmZhlAj8L1KFwPJkDsUbgehetJQAAAAAAAAAAAAAAAAAAAAAAfhetRuKiSQLgehetRyH1ACtejcD0qaUAAAAAAAAAAAAAAAAAAAAAAAAAAAAA4aECPwvUoXCqcQAAAAAAAMHJACtejcD3SZUBI4XoUrgc5QHsUrkfhioBAAAAAAAAAAAAUrkfherxnQFK4HoXr4WhAAAAAAAAAAAAAAAAAAAAAAClcj8L1eolA7FG4HoWzpEDNzMzMzGxKQA==",
             "dtype": "f8"
            },
            "sizemode": "area",
            "sizeref": 102.0872,
            "symbol": "circle"
           },
           "mode": "markers",
           "name": "NR",
           "showlegend": true,
           "type": "scattergeo"
          },
          {
           "geo": "geo",
           "hovertemplate": "<b>%{hovertext}</b><br><br>Region=WR<br>Dates=2017-18<br>Generation=%{marker.size}<br>Latitude=%{lat}<br>Longitude=%{lon}<extra></extra>",
           "hovertext": [
            "Rajasthan",
            "Chhattisgarh",
            "Gujarat",
            "Madhya Pradesh",
            "Maharashtra",
            "Dadra and Nagar Haveli",
            "Daman and Diu",
            "Rajasthan",
            "Chhattisgarh",
            "Gujarat",
            "Madhya Pradesh",
            "Maharashtra",
            "Dadra and Nagar Haveli",
            "Daman and Diu",
            "Rajasthan",
            "Chhattisgarh",
            "Gujarat",
            "Madhya Pradesh",
            "Maharashtra",
            "Dadra and Nagar Haveli",
            "Daman and Diu",
            "Rajasthan",
            "Chhattisgarh",
            "Gujarat",
            "Madhya Pradesh",
            "Maharashtra",
            "Dadra and Nagar Haveli",
            "Daman and Diu"
           ],
           "lat": {
            "bdata": "EqW9wRcGO0AsZRniWEc1QKd5xyk6QjZAKe0NvjD5NkCq8dJNYsAzQK7YX3ZPLjRAduCcEaVtNEASpb3BFwY7QCxlGeJYRzVAp3nHKTpCNkAp7Q2+MPk2QKrx0k1iwDNArthfdk8uNEB24JwRpW00QBKlvcEXBjtALGUZ4lhHNUCneccpOkI2QCntDb4w+TZAqvHSTWLAM0Cu2F92Ty40QHbgnBGlbTRAEqW9wRcGO0AsZRniWEc1QKd5xyk6QjZAKe0NvjD5NkCq8dJNYsAzQK7YX3ZPLjRAduCcEaVtNEA=",
            "dtype": "f8"
           },
           "legendgroup": "WR",
           "lon": {
            "bdata": "GXPXEvKNUkAzxLEubndUQAfwFkhQzFFAgy9MpgqqU0BSJ6CJsO1SQFvTvOMUQVJA4JwRpb01UkAZc9cS8o1SQDPEsS5ud1RAB/AWSFDMUUCDL0ymCqpTQFInoImw7VJAW9O84xRBUkDgnBGlvTVSQBlz1xLyjVJAM8SxLm53VEAH8BZIUMxRQIMvTKYKqlNAUiegibDtUkBb07zjFEFSQOCcEaW9NVJAGXPXEvKNUkAzxLEubndUQAfwFkhQzFFAgy9MpgqqU0BSJ6CJsO1SQFvTvOMUQVJA4JwRpb01UkA=",
            "dtype": "f8"
           },
           "marker": {
            "color": "#EF553B",
            "size": {
             "bdata": "cT0K16PEs0AAAAAAAAAAAAAAAAAApcBAcT0K16NHrEA9CtejsNO3QAAAAAAAAAAAAAAAAAAAAACF61G4HuSlQB+F61G4HlhAhetRuB6LmUCuR+F6FFuWQAAAAAAAgopAAAAAAAAAEkA9CtejcD0uQI/C9ShcjxdAH4XrUbieM0DXo3A9ChdBQEjhehSuR1tAH4XrUbgCf0AAAAAAAAAAAAAAAAAAAAAAAAAAAADMcUAAAAAAAFCIQBSuR+F61DhA4XoUrkcBUEAAAAAAAEajQAAAAAAAAAAAAAAAAAAAAAA=",
             "dtype": "f8"
            },
            "sizemode": "area",
            "sizeref": 102.0872,
            "symbol": "circle"
           },
           "mode": "markers",
           "name": "WR",
           "showlegend": true,
           "type": "scattergeo"
          },
          {
           "geo": "geo",
           "hovertemplate": "<b>%{hovertext}</b><br><br>Region=SR<br>Dates=2017-18<br>Generation=%{marker.size}<br>Latitude=%{lat}<br>Longitude=%{lon}<extra></extra>",
           "hovertext": [
            "Andhra Pradesh",
            "Telangana",
            "Karnataka",
            "Kerala",
            "Tamil Nadu",
            "Lakshadweep",
            "Puducherry",
            "Andhra Pradesh",
            "Telangana",
            "Karnataka",
            "Kerala",
            "Tamil Nadu",
            "Lakshadweep",
            "Puducherry",
            "Andhra Pradesh",
            "Telangana",
            "Karnataka",
            "Kerala",
            "Tamil Nadu",
            "Lakshadweep",
            "Puducherry",
            "Andhra Pradesh",
            "Telangana",
            "Karnataka",
            "Kerala",
            "Tamil Nadu",
            "Lakshadweep",
            "Puducherry"
           ],
           "lat": {
            "bdata": "bAn5oGfTL0AGEhQ/xhwyQKYKRiV1oi5A+n5qvHSzJUCppE5AE0EmQFJJnYAmIiVAw9MrZRniJ0BsCfmgZ9MvQAYSFD/GHDJApgpGJXWiLkD6fmq8dLMlQKmkTkATQSZAUkmdgCYiJUDD0ytlGeInQGwJ+aBn0y9ABhIUP8YcMkCmCkYldaIuQPp+arx0syVAqaROQBNBJkBSSZ2AJiIlQMPTK2UZ4idAbAn5oGfTL0AGEhQ/xhwyQKYKRiV1oi5A+n5qvHSzJUCppE5AE0EmQFJJnYAmIiVAw9MrZRniJ0A=",
            "dtype": "f8"
           },
           "legendgroup": "SR",
           "lon": {
            "bdata": "j8L1KFzvU0AFNBE2PMFTQFInoImw7VJAhXzQs1kRU0CDL0ymCqpTQPd14JwRKVJA1lbsL7vzU0CPwvUoXO9TQAU0ETY8wVNAUiegibDtUkCFfNCzWRFTQIMvTKYKqlNA93XgnBEpUkDWVuwvu/NTQI/C9Shc71NABTQRNjzBU0BSJ6CJsO1SQIV80LNZEVNAgy9MpgqqU0D3deCcESlSQNZW7C+781NAj8L1KFzvU0AFNBE2PMFTQFInoImw7VJAhXzQs1kRU0CDL0ymCqpTQPd14JwRKVJA1lbsL7vzU0A=",
            "dtype": "f8"
           },
           "marker": {
            "color": "#00cc96",
            "size": {
             "bdata": "cT0K1+PItUCPwvUoXIdmQBSuR+F637lAAAAAAACwVUDhehSu53HGQAAAAAAAAAAAAAAAAAAAAADsUbgehZmmQI/C9ShcQ6dASOF6FK7fl0BxPQrXo/BGQOxRuB4FpqFAXI/C9Shc9z/2KFyPwvXwP3E9CtejeGFAH4XrUbj+R0C4HoXrUeyXQNejcD0KVYFAPQrXo3DtY0AAAAAAAAAAAAAAAAAAAAAAw/UoXI8ickBmZmZmZqZxQOxRuB6FmZdAAAAAAAAAAAAUrkfhelaDQAAAAAAAAAAAAAAAAAAAAAA=",
             "dtype": "f8"
            },
            "sizemode": "area",
            "sizeref": 102.0872,
            "symbol": "circle"
           },
           "mode": "markers",
           "name": "SR",
           "showlegend": true,
           "type": "scattergeo"
          },
          {
           "geo": "geo",
           "hovertemplate": "<b>%{hovertext}</b><br><br>Region=IS<br>Dates=2017-18<br>Generation=%{marker.size}<br>Latitude=%{lat}<br>Longitude=%{lon}<extra></extra>",
           "hovertext": [
            "Andaman Nicobar",
            "Andaman Nicobar",
            "Andaman Nicobar",
            "Andaman Nicobar"
           ],
           "lat": {
            "bdata": "CYofY+56J0AJih9j7nonQAmKH2PueidACYofY+56J0A=",
            "dtype": "f8"
           },
           "legendgroup": "IS",
           "lon": {
            "bdata": "UkmdgCYqV0BSSZ2AJipXQFJJnYAmKldAUkmdgCYqV0A=",
            "dtype": "f8"
           },
           "marker": {
            "color": "#ab63fa",
            "size": {
             "bdata": "AAAAAAAAAACPwvUoXI8VQD0K16NwvSZAAAAAAAAAAAA=",
             "dtype": "f8"
            },
            "sizemode": "area",
            "sizeref": 102.0872,
            "symbol": "circle"
           },
           "mode": "markers",
           "name": "IS",
           "showlegend": true,
           "type": "scattergeo"
          },
          {
           "geo": "geo",
           "hovertemplate": "<b>%{hovertext}</b><br><br>Region=ER<br>Dates=2017-18<br>Generation=%{marker.size}<br>Latitude=%{lat}<br>Longitude=%{lon}<extra></extra>",
           "hovertext": [
            "Bihar",
            "Jharkhand",
            "Odisha",
            "Sikkim",
            "West Bengal",
            "Bihar",
            "Jharkhand",
            "Odisha",
            "Sikkim",
            "West Bengal",
            "Bihar",
            "Jharkhand",
            "Odisha",
            "Sikkim",
            "West Bengal",
            "Bihar",
            "Jharkhand",
            "Odisha",
            "Sikkim",
            "West Bengal"
           ],
           "lat": {
            "bdata": "RiV1ApoYOUDqBDQRNpw3QGuad5yi8zRAnMQgsHKIO0Bbsb/snvw2QEYldQKaGDlA6gQ0ETacN0BrmnecovM0QJzEILByiDtAW7G/7J78NkBGJXUCmhg5QOoENBE2nDdAa5p3nKLzNECcxCCwcog7QFuxv+ye/DZARiV1ApoYOUDqBDQRNpw3QGuad5yi8zRAnMQgsHKIO0Bbsb/snvw2QA==",
            "dtype": "f8"
           },
           "legendgroup": "ER",
           "lon": {
            "bdata": "KxiV1AlUVUCgibDh6VFVQPyp8dJNRlVAuECC4scgVkAfhetRuPZVQCsYldQJVFVAoImw4elRVUD8qfHSTUZVQLhAguLHIFZAH4XrUbj2VUArGJXUCVRVQKCJsOHpUVVA/Knx0k1GVUC4QILixyBWQB+F61G49lVAKxiV1AlUVUCgibDh6VFVQPyp8dJNRlVAuECC4scgVkAfhetRuPZVQA==",
            "dtype": "f8"
           },
           "marker": {
            "color": "#FFA15A",
            "size": {
             "bdata": "AAAAAAAAAAAAAAAAAAAAAAAAAAAAAAAAAAAAAAAAAAAAAAAAAAAAANejcD0Kh1pA16NwPQrXL0Bcj8L1KORkQAAAAAAAAAAAAAAAAACAL0BSuB6F61EaQAAAAAAAAAAAZmZmZmZ+bkAK16NwPYo8QNejcD0Kf2NAuB6F61GoVUAAAAAAAAAAAOxRuB6FC0FAAAAAAAAAAABI4XoUriOSQA==",
             "dtype": "f8"
            },
            "sizemode": "area",
            "sizeref": 102.0872,
            "symbol": "circle"
           },
           "mode": "markers",
           "name": "ER",
           "showlegend": true,
           "type": "scattergeo"
          },
          {
           "geo": "geo",
           "hovertemplate": "<b>%{hovertext}</b><br><br>Region=NER<br>Dates=2017-18<br>Generation=%{marker.size}<br>Latitude=%{lat}<br>Longitude=%{lon}<extra></extra>",
           "hovertext": [
            "Arunachal Pradesh",
            "Assam",
            "Manipur",
            "Meghalaya",
            "Mizoram",
            "Nagaland",
            "Tripura",
            "Arunachal Pradesh",
            "Assam",
            "Manipur",
            "Meghalaya",
            "Mizoram",
            "Nagaland",
            "Tripura",
            "Arunachal Pradesh",
            "Assam",
            "Manipur",
            "Meghalaya",
            "Mizoram",
            "Nagaland",
            "Tripura",
            "Arunachal Pradesh",
            "Assam",
            "Manipur",
            "Meghalaya",
            "Mizoram",
            "Nagaland",
            "Tripura"
           ],
           "lat": {
            "bdata": "K4cW2c43PEDek4eFWjM6QO5aQj7oqThAZDvfT413OUAnMQisHCo3QLivA+eMKDpAqRPQRNjwN0ArhxbZzjc8QN6Th4VaMzpA7lpCPuipOEBkO99PjXc5QCcxCKwcKjdAuK8D54woOkCpE9BE2PA3QCuHFtnONzxA3pOHhVozOkDuWkI+6Kk4QGQ730+NdzlAJzEIrBwqN0C4rwPnjCg6QKkT0ETY8DdAK4cW2c43PEDek4eFWjM6QO5aQj7oqThAZDvfT413OUAnMQisHCo3QLivA+eMKDpAqRPQRNjwN0A=",
            "dtype": "f8"
           },
           "legendgroup": "NER",
           "lon": {
            "bdata": "2IFzRpSuV0CyLm6jATxXQFkXt9EAeldA5fIf0m/XVkCyLm6jATxXQE7RkVz+o1dAEHo2qz7/VkDYgXNGlK5XQLIubqMBPFdAWRe30QB6V0Dl8h/Sb9dWQLIubqMBPFdATtGRXP6jV0AQejarPv9WQNiBc0aUrldAsi5uowE8V0BZF7fRAHpXQOXyH9Jv11ZAsi5uowE8V0BO0ZFc/qNXQBB6Nqs+/1ZA2IFzRpSuV0CyLm6jATxXQFkXt9EAeldA5fIf0m/XVkCyLm6jATxXQE7RkVz+o1dAEHo2qz7/VkA=",
            "dtype": "f8"
           },
           "marker": {
            "color": "#19d3f3",
            "size": {
             "bdata": "AAAAAAAAAAAAAAAAAAAAAAAAAAAAAAAAAAAAAAAAAAAAAAAAAAAAAAAAAAAAAAAAAAAAAAAAAADhehSuR+HKP1yPwvUoXB1AexSuR+F6pD8AAAAAAAAAAAAAAAAAAAAAAAAAAAAAAAAAAAAAAAAAAHE9CtejcN0/AAAAAAAALEAAAAAAAAAAADMzMzMzs05AexSuR+F6SEA9CtejcA1VQClcj8L1SEJAAAAAAAAAAAAAAAAAAAAAAAAAAAAAAAAAAAAAAAAAAAAAAAAAAAAAAAAAAAAAAAAAAAAAAAAAAAA=",
             "dtype": "f8"
            },
            "sizemode": "area",
            "sizeref": 102.0872,
            "symbol": "circle"
           },
           "mode": "markers",
           "name": "NER",
           "showlegend": true,
           "type": "scattergeo"
          }
         ],
         "name": "2017-18"
        },
        {
         "data": [
          {
           "geo": "geo",
           "hovertemplate": "<b>%{hovertext}</b><br><br>Region=NR<br>Dates=2018-19<br>Generation=%{marker.size}<br>Latitude=%{lat}<br>Longitude=%{lon}<extra></extra>",
           "hovertext": [
            "Chandigarh",
            "Delhi",
            "Haryana",
            "Himachal Pradesh",
            "Jammu and Kashmir",
            "Ladkh",
            "Punjab",
            "Uttar Pradesh",
            "Uttarakhand",
            "Chandigarh",
            "Delhi",
            "Haryana",
            "Himachal Pradesh",
            "Jammu and Kashmir",
            "Ladkh",
            "Punjab",
            "Uttar Pradesh",
            "Uttarakhand",
            "Chandigarh",
            "Delhi",
            "Haryana",
            "Himachal Pradesh",
            "Jammu and Kashmir",
            "Ladkh",
            "Punjab",
            "Uttar Pradesh",
            "Uttarakhand",
            "Chandigarh",
            "Delhi",
            "Haryana",
            "Himachal Pradesh",
            "Jammu and Kashmir",
            "Ladkh",
            "Punjab",
            "Uttar Pradesh",
            "Uttarakhand",
            "Chandigarh",
            "Delhi",
            "Haryana",
            "Himachal Pradesh",
            "Jammu and Kashmir",
            "Ladkh",
            "Punjab",
            "Uttar Pradesh",
            "Uttarakhand"
           ],
           "lat": {
            "bdata": "JCh+jLm7PkAVHcnlP7Q8QDsBTYQNDz1A7Z48LNQaP0Ck374OnONAQE+vlGWIE0FA2T15WKglP0DwhclUwdg6QHBfB84ZET5AJCh+jLm7PkAVHcnlP7Q8QDsBTYQNDz1A7Z48LNQaP0Ck374OnONAQE+vlGWIE0FA2T15WKglP0DwhclUwdg6QHBfB84ZET5AJCh+jLm7PkAVHcnlP7Q8QDsBTYQNDz1A7Z48LNQaP0Ck374OnONAQE+vlGWIE0FA2T15WKglP0DwhclUwdg6QHBfB84ZET5AJCh+jLm7PkAVHcnlP7Q8QDsBTYQNDz1A7Z48LNQaP0Ck374OnONAQE+vlGWIE0FA2T15WKglP0DwhclUwdg6QHBfB84ZET5AJCh+jLm7PkAVHcnlP7Q8QDsBTYQNDz1A7Z48LNQaP0Ck374OnONAQE+vlGWIE0FA2T15WKglP0DwhclUwdg6QHBfB84ZET5A",
            "dtype": "f8"
           },
           "legendgroup": "NR",
           "lon": {
            "bdata": "J6CJsOExU0DD9Shcj0ZTQGgibHh6BVNAF0hQ/BhLU0Ai/fZ14CRTQGKh1jTvZFNAS1mGONbVUkBq3nGKjjxUQAU0ETY8wVNAJ6CJsOExU0DD9Shcj0ZTQGgibHh6BVNAF0hQ/BhLU0Ai/fZ14CRTQGKh1jTvZFNAS1mGONbVUkBq3nGKjjxUQAU0ETY8wVNAJ6CJsOExU0DD9Shcj0ZTQGgibHh6BVNAF0hQ/BhLU0Ai/fZ14CRTQGKh1jTvZFNAS1mGONbVUkBq3nGKjjxUQAU0ETY8wVNAJ6CJsOExU0DD9Shcj0ZTQGgibHh6BVNAF0hQ/BhLU0Ai/fZ14CRTQGKh1jTvZFNAS1mGONbVUkBq3nGKjjxUQAU0ETY8wVNAJ6CJsOExU0DD9Shcj0ZTQGgibHh6BVNAF0hQ/BhLU0Ai/fZ14CRTQGKh1jTvZFNAS1mGONbVUkBq3nGKjjxUQAU0ETY8wVNA",
            "dtype": "f8"
           },
           "marker": {
            "color": "#636efa",
            "size": {
             "bdata": "AAAAAAAAAAAAAAAAAAAAAAAAAAAAAAAAAAAAAAAAAAAAAAAAAAAAAAAAAAAAAAAAAAAAAAAAAAAAAAAAAAAAAAAAAAAAAAAAhetRuB4FK0ApXI/C9aglQK5H4XoUHlJAAAAAAAAAAAAAAAAAAAAAAAAAAAAAAAAAmpmZmZlTl0C4HoXrUUyTQHE9Ctej5HNAAAAAAAAAAAAAAAAAAAAAAHsUrkfhWm9Aj8L1KNzfoUAzMzMzM4NzQAAAAAAAAAAA7FG4HoXzdUAK16NwPUo/QLgehetRJoVAAAAAAAAAAAApXI/C9UxxQM3MzMzMMHVAAAAAAAAAAAAAAAAAAAAAAAAAAAAAAAAAcT0K16PIgkA9CtejcEyxQClcj8L1eFtAAAAAAAAAAAAAAAAAAAAAAAAAAAAAAAAAmpmZmZGI4UCuR+F6xADQQLgehetRUGNAZmZmZmbvsEA9CtejcGGSQMP1KFyP1spA",
             "dtype": "f8"
            },
            "sizemode": "area",
            "sizeref": 102.0872,
            "symbol": "circle"
           },
           "mode": "markers",
           "name": "NR",
           "showlegend": true,
           "type": "scattergeo"
          },
          {
           "geo": "geo",
           "hovertemplate": "<b>%{hovertext}</b><br><br>Region=WR<br>Dates=2018-19<br>Generation=%{marker.size}<br>Latitude=%{lat}<br>Longitude=%{lon}<extra></extra>",
           "hovertext": [
            "Rajasthan",
            "Chhattisgarh",
            "Gujarat",
            "Madhya Pradesh",
            "Maharashtra",
            "Dadra and Nagar Haveli",
            "Daman and Diu",
            "Goa",
            "Rajasthan",
            "Chhattisgarh",
            "Gujarat",
            "Madhya Pradesh",
            "Maharashtra",
            "Dadra and Nagar Haveli",
            "Daman and Diu",
            "Goa",
            "Rajasthan",
            "Chhattisgarh",
            "Gujarat",
            "Madhya Pradesh",
            "Maharashtra",
            "Dadra and Nagar Haveli",
            "Daman and Diu",
            "Goa",
            "Rajasthan",
            "Chhattisgarh",
            "Gujarat",
            "Madhya Pradesh",
            "Maharashtra",
            "Dadra and Nagar Haveli",
            "Daman and Diu",
            "Goa",
            "Rajasthan",
            "Chhattisgarh",
            "Gujarat",
            "Madhya Pradesh",
            "Maharashtra",
            "Dadra and Nagar Haveli",
            "Daman and Diu",
            "Goa"
           ],
           "lat": {
            "bdata": "EqW9wRcGO0AsZRniWEc1QKd5xyk6QjZAKe0NvjD5NkCq8dJNYsAzQK7YX3ZPLjRAduCcEaVtNEC3Yn/ZPZkuQBKlvcEXBjtALGUZ4lhHNUCneccpOkI2QCntDb4w+TZAqvHSTWLAM0Cu2F92Ty40QHbgnBGlbTRAt2J/2T2ZLkASpb3BFwY7QCxlGeJYRzVAp3nHKTpCNkAp7Q2+MPk2QKrx0k1iwDNArthfdk8uNEB24JwRpW00QLdif9k9mS5AEqW9wRcGO0AsZRniWEc1QKd5xyk6QjZAKe0NvjD5NkCq8dJNYsAzQK7YX3ZPLjRAduCcEaVtNEC3Yn/ZPZkuQBKlvcEXBjtALGUZ4lhHNUCneccpOkI2QCntDb4w+TZAqvHSTWLAM0Cu2F92Ty40QHbgnBGlbTRAt2J/2T2ZLkA=",
            "dtype": "f8"
           },
           "legendgroup": "WR",
           "lon": {
            "bdata": "GXPXEvKNUkAzxLEubndUQAfwFkhQzFFAgy9MpgqqU0BSJ6CJsO1SQFvTvOMUQVJA4JwRpb01UkAOLbKd74dSQBlz1xLyjVJAM8SxLm53VEAH8BZIUMxRQIMvTKYKqlNAUiegibDtUkBb07zjFEFSQOCcEaW9NVJADi2yne+HUkAZc9cS8o1SQDPEsS5ud1RAB/AWSFDMUUCDL0ymCqpTQFInoImw7VJAW9O84xRBUkDgnBGlvTVSQA4tsp3vh1JAGXPXEvKNUkAzxLEubndUQAfwFkhQzFFAgy9MpgqqU0BSJ6CJsO1SQFvTvOMUQVJA4JwRpb01UkAOLbKd74dSQBlz1xLyjVJAM8SxLm53VEAH8BZIUMxRQIMvTKYKqlNAUiegibDtUkBb07zjFEFSQOCcEaW9NVJADi2yne+HUkA=",
            "dtype": "f8"
           },
           "marker": {
            "color": "#EF553B",
            "size": {
             "bdata": "4XoUrscDuUAAAAAAAAAAAOxRuB6lPsZAMzMzM/Nls0BxPQrXI5e9QAAAAAAAAAAAAAAAAAAAAAAAAAAAAAAAAJqZmZlZ9bNAZmZmZmbydEBxPQrXo9SiQK5H4XqUTKdACtejcD09oUAK16NwPQoXQHE9Ctej8DJAAAAAAAAAAAC4HoXrUbgUQDMzMzMzA1RAXI/C9SiMVUDXo3A9Ci9iQMP1KFyPuIdAAAAAAAAAAAAAAAAAAAAAAAAAAAAAAAAAPQrXo3CRdUCF61G4Ho+AQEjhehSuF1RAZmZmZmZuZEDD9ShcD1KxQAAAAAAAAAAAAAAAAAAAAAAAAAAAAAAAADMzMzMz04VAw/UoXI9ibkAK16NwPUuQQKRwPQpXiapAj8L1KNzUs0AAAAAAAAAAAAAAAAAAAAAAAAAAAAAAAAA=",
             "dtype": "f8"
            },
            "sizemode": "area",
            "sizeref": 102.0872,
            "symbol": "circle"
           },
           "mode": "markers",
           "name": "WR",
           "showlegend": true,
           "type": "scattergeo"
          },
          {
           "geo": "geo",
           "hovertemplate": "<b>%{hovertext}</b><br><br>Region=SR<br>Dates=2018-19<br>Generation=%{marker.size}<br>Latitude=%{lat}<br>Longitude=%{lon}<extra></extra>",
           "hovertext": [
            "Andhra Pradesh",
            "Telangana",
            "Karnataka",
            "Kerala",
            "Tamil Nadu",
            "Lakshadweep",
            "Puducherry",
            "Andhra Pradesh",
            "Telangana",
            "Karnataka",
            "Kerala",
            "Tamil Nadu",
            "Lakshadweep",
            "Puducherry",
            "Andhra Pradesh",
            "Telangana",
            "Karnataka",
            "Kerala",
            "Tamil Nadu",
            "Lakshadweep",
            "Puducherry",
            "Andhra Pradesh",
            "Telangana",
            "Karnataka",
            "Kerala",
            "Tamil Nadu",
            "Lakshadweep",
            "Puducherry",
            "Andhra Pradesh",
            "Telangana",
            "Karnataka",
            "Kerala",
            "Tamil Nadu",
            "Lakshadweep",
            "Puducherry"
           ],
           "lat": {
            "bdata": "bAn5oGfTL0AGEhQ/xhwyQKYKRiV1oi5A+n5qvHSzJUCppE5AE0EmQFJJnYAmIiVAw9MrZRniJ0BsCfmgZ9MvQAYSFD/GHDJApgpGJXWiLkD6fmq8dLMlQKmkTkATQSZAUkmdgCYiJUDD0ytlGeInQGwJ+aBn0y9ABhIUP8YcMkCmCkYldaIuQPp+arx0syVAqaROQBNBJkBSSZ2AJiIlQMPTK2UZ4idAbAn5oGfTL0AGEhQ/xhwyQKYKRiV1oi5A+n5qvHSzJUCppE5AE0EmQFJJnYAmIiVAw9MrZRniJ0BsCfmgZ9MvQAYSFD/GHDJApgpGJXWiLkD6fmq8dLMlQKmkTkATQSZAUkmdgCYiJUDD0ytlGeInQA==",
            "dtype": "f8"
           },
           "legendgroup": "SR",
           "lon": {
            "bdata": "j8L1KFzvU0AFNBE2PMFTQFInoImw7VJAhXzQs1kRU0CDL0ymCqpTQPd14JwRKVJA1lbsL7vzU0CPwvUoXO9TQAU0ETY8wVNAUiegibDtUkCFfNCzWRFTQIMvTKYKqlNA93XgnBEpUkDWVuwvu/NTQI/C9Shc71NABTQRNjzBU0BSJ6CJsO1SQIV80LNZEVNAgy9MpgqqU0D3deCcESlSQNZW7C+781NAj8L1KFzvU0AFNBE2PMFTQFInoImw7VJAhXzQs1kRU0CDL0ymCqpTQPd14JwRKVJA1lbsL7vzU0CPwvUoXO9TQAU0ETY8wVNAUiegibDtUkCFfNCzWRFTQIMvTKYKqlNA93XgnBEpUkDWVuwvu/NTQA==",
            "dtype": "f8"
           },
           "marker": {
            "color": "#00cc96",
            "size": {
             "bdata": "zczMzOxSwUDhehSuRy1xQAAAAAAgGcNAXI/C9Sj8WkDNzMzMbJzIQAAAAAAAAAAAAAAAAAAAAAApXI/C9WWzQPYoXI9CqLhArkfhetSXvUD2KFyPwrVbQAAAAAAAxatAw/UoXI/C8T+kcD0K16MEQKRwPQrXI2hA9ihcj8KVSUCPwvUoXCycQGZmZmZmPIFA7FG4HoW/dUAAAAAAAAAAAAAAAAAAAAAAcT0K16NMgEBI4XoUrnt5QArXo3C9iKNAAAAAAAAAAAAfhetRuLJ4QAAAAAAAAAAAAAAAAAAAAAB7FK5H4cGhQD0K16NwQptAH4XrUdjNx0ApXI/CNZi8QKRwPQqXobRAAAAAAAAAAAAAAAAAAAAAAA==",
             "dtype": "f8"
            },
            "sizemode": "area",
            "sizeref": 102.0872,
            "symbol": "circle"
           },
           "mode": "markers",
           "name": "SR",
           "showlegend": true,
           "type": "scattergeo"
          },
          {
           "geo": "geo",
           "hovertemplate": "<b>%{hovertext}</b><br><br>Region=IS<br>Dates=2018-19<br>Generation=%{marker.size}<br>Latitude=%{lat}<br>Longitude=%{lon}<extra></extra>",
           "hovertext": [
            "Andaman Nicobar",
            "Andaman Nicobar",
            "Andaman Nicobar",
            "Andaman Nicobar",
            "Andaman Nicobar"
           ],
           "lat": {
            "bdata": "CYofY+56J0AJih9j7nonQAmKH2PueidACYofY+56J0AJih9j7nonQA==",
            "dtype": "f8"
           },
           "legendgroup": "IS",
           "lon": {
            "bdata": "UkmdgCYqV0BSSZ2AJipXQFJJnYAmKldAUkmdgCYqV0BSSZ2AJipXQA==",
            "dtype": "f8"
           },
           "marker": {
            "color": "#ab63fa",
            "size": {
             "bdata": "AAAAAAAAAAC4HoXrUbgrQFK4HoXrkTBAAAAAAAAAAAAAAAAAAAAAAA==",
             "dtype": "f8"
            },
            "sizemode": "area",
            "sizeref": 102.0872,
            "symbol": "circle"
           },
           "mode": "markers",
           "name": "IS",
           "showlegend": true,
           "type": "scattergeo"
          },
          {
           "geo": "geo",
           "hovertemplate": "<b>%{hovertext}</b><br><br>Region=ER<br>Dates=2018-19<br>Generation=%{marker.size}<br>Latitude=%{lat}<br>Longitude=%{lon}<extra></extra>",
           "hovertext": [
            "Bihar",
            "Jharkhand",
            "Odisha",
            "Sikkim",
            "West Bengal",
            "Bihar",
            "Jharkhand",
            "Odisha",
            "Sikkim",
            "West Bengal",
            "Bihar",
            "Jharkhand",
            "Odisha",
            "Sikkim",
            "West Bengal",
            "Bihar",
            "Jharkhand",
            "Odisha",
            "Sikkim",
            "West Bengal",
            "Bihar",
            "Jharkhand",
            "Odisha",
            "Sikkim",
            "West Bengal"
           ],
           "lat": {
            "bdata": "RiV1ApoYOUDqBDQRNpw3QGuad5yi8zRAnMQgsHKIO0Bbsb/snvw2QEYldQKaGDlA6gQ0ETacN0BrmnecovM0QJzEILByiDtAW7G/7J78NkBGJXUCmhg5QOoENBE2nDdAa5p3nKLzNECcxCCwcog7QFuxv+ye/DZARiV1ApoYOUDqBDQRNpw3QGuad5yi8zRAnMQgsHKIO0Bbsb/snvw2QEYldQKaGDlA6gQ0ETacN0BrmnecovM0QJzEILByiDtAW7G/7J78NkA=",
            "dtype": "f8"
           },
           "legendgroup": "ER",
           "lon": {
            "bdata": "KxiV1AlUVUCgibDh6VFVQPyp8dJNRlVAuECC4scgVkAfhetRuPZVQCsYldQJVFVAoImw4elRVUD8qfHSTUZVQLhAguLHIFZAH4XrUbj2VUArGJXUCVRVQKCJsOHpUVVA/Knx0k1GVUC4QILixyBWQB+F61G49lVAKxiV1AlUVUCgibDh6VFVQPyp8dJNRlVAuECC4scgVkAfhetRuPZVQCsYldQJVFVAoImw4elRVUD8qfHSTUZVQLhAguLHIFZAH4XrUbj2VUA=",
            "dtype": "f8"
           },
           "marker": {
            "color": "#FFA15A",
            "size": {
             "bdata": "j8L1KFyPKEAAAAAAAAAAAD0K16NwHU1AAAAAAAAAAAAAAAAAAAAAABSuR+F6fGZAZmZmZmYmM0AUrkfhenBwQAAAAAAAAAAAMzMzMzNTREA9CtejcL07QClcj8L1KPw/mpmZmZmhcEBcj8L1KBw8QDMzMzMzO2RASOF6FK7DcEDsUbgehevpP4XrUbgehVBAAAAAAAAAAAD2KFyPwg6UQAAAAAAAAAAAj8L1KFyfZkAzMzMzc3m6QFyPwvUIn8FAhetRuJ7PpkA=",
             "dtype": "f8"
            },
            "sizemode": "area",
            "sizeref": 102.0872,
            "symbol": "circle"
           },
           "mode": "markers",
           "name": "ER",
           "showlegend": true,
           "type": "scattergeo"
          },
          {
           "geo": "geo",
           "hovertemplate": "<b>%{hovertext}</b><br><br>Region=NER<br>Dates=2018-19<br>Generation=%{marker.size}<br>Latitude=%{lat}<br>Longitude=%{lon}<extra></extra>",
           "hovertext": [
            "Arunachal Pradesh",
            "Assam",
            "Manipur",
            "Meghalaya",
            "Mizoram",
            "Nagaland",
            "Tripura",
            "Arunachal Pradesh",
            "Assam",
            "Manipur",
            "Meghalaya",
            "Mizoram",
            "Nagaland",
            "Tripura",
            "Arunachal Pradesh",
            "Assam",
            "Manipur",
            "Meghalaya",
            "Mizoram",
            "Nagaland",
            "Tripura",
            "Arunachal Pradesh",
            "Assam",
            "Manipur",
            "Meghalaya",
            "Mizoram",
            "Nagaland",
            "Tripura",
            "Arunachal Pradesh",
            "Assam",
            "Manipur",
            "Meghalaya",
            "Mizoram",
            "Nagaland",
            "Tripura"
           ],
           "lat": {
            "bdata": "K4cW2c43PEDek4eFWjM6QO5aQj7oqThAZDvfT413OUAnMQisHCo3QLivA+eMKDpAqRPQRNjwN0ArhxbZzjc8QN6Th4VaMzpA7lpCPuipOEBkO99PjXc5QCcxCKwcKjdAuK8D54woOkCpE9BE2PA3QCuHFtnONzxA3pOHhVozOkDuWkI+6Kk4QGQ730+NdzlAJzEIrBwqN0C4rwPnjCg6QKkT0ETY8DdAK4cW2c43PEDek4eFWjM6QO5aQj7oqThAZDvfT413OUAnMQisHCo3QLivA+eMKDpAqRPQRNjwN0ArhxbZzjc8QN6Th4VaMzpA7lpCPuipOEBkO99PjXc5QCcxCKwcKjdAuK8D54woOkCpE9BE2PA3QA==",
            "dtype": "f8"
           },
           "legendgroup": "NER",
           "lon": {
            "bdata": "2IFzRpSuV0CyLm6jATxXQFkXt9EAeldA5fIf0m/XVkCyLm6jATxXQE7RkVz+o1dAEHo2qz7/VkDYgXNGlK5XQLIubqMBPFdAWRe30QB6V0Dl8h/Sb9dWQLIubqMBPFdATtGRXP6jV0AQejarPv9WQNiBc0aUrldAsi5uowE8V0BZF7fRAHpXQOXyH9Jv11ZAsi5uowE8V0BO0ZFc/qNXQBB6Nqs+/1ZA2IFzRpSuV0CyLm6jATxXQFkXt9EAeldA5fIf0m/XVkCyLm6jATxXQE7RkVz+o1dAEHo2qz7/VkDYgXNGlK5XQLIubqMBPFdAWRe30QB6V0Dl8h/Sb9dWQLIubqMBPFdATtGRXP6jV0AQejarPv9WQA==",
            "dtype": "f8"
           },
           "marker": {
            "color": "#19d3f3",
            "size": {
             "bdata": "AAAAAAAAAAAAAAAAAAAAAAAAAAAAAAAAAAAAAAAAAAAAAAAAAAAAAAAAAAAAAAAAAAAAAAAAAAAzMzMzMzPzP65H4XoUrhpAFK5H4XoU/j8AAAAAAAAAALgehetRuL4/AAAAAAAAAACPwvUoXI8cQJqZmZmZmeE/H4XrUbgeLEAAAAAAAAAAAOF6FK5HQUlAexSuR+H6Q0A9CtejcN1VQFyPwvUovFJAAAAAAAAAAAAAAAAAAAAAAAAAAAAAAAAAAAAAAAAAAAAAAAAAAAAAAAAAAAAAAAAAAAAAAAAAAACuR+F6FNyVQD0K16NweZpAexSuR+HUgkAK16NwPQyNQK5H4XoUDmVA16NwPQrvbEAAAAAAAAAAAA==",
             "dtype": "f8"
            },
            "sizemode": "area",
            "sizeref": 102.0872,
            "symbol": "circle"
           },
           "mode": "markers",
           "name": "NER",
           "showlegend": true,
           "type": "scattergeo"
          }
         ],
         "name": "2018-19"
        },
        {
         "data": [
          {
           "geo": "geo",
           "hovertemplate": "<b>%{hovertext}</b><br><br>Region=NR<br>Dates=2019-20<br>Generation=%{marker.size}<br>Latitude=%{lat}<br>Longitude=%{lon}<extra></extra>",
           "hovertext": [
            "Chandigarh",
            "Delhi",
            "Haryana",
            "Himachal Pradesh",
            "Jammu and Kashmir",
            "Ladkh",
            "Punjab",
            "Uttar Pradesh",
            "Uttarakhand",
            "Chandigarh",
            "Delhi",
            "Haryana",
            "Himachal Pradesh",
            "Jammu and Kashmir",
            "Ladkh",
            "Punjab",
            "Uttar Pradesh",
            "Uttarakhand",
            "Chandigarh",
            "Delhi",
            "Haryana",
            "Himachal Pradesh",
            "Jammu and Kashmir",
            "Ladkh",
            "Punjab",
            "Uttar Pradesh",
            "Uttarakhand",
            "Chandigarh",
            "Delhi",
            "Haryana",
            "Himachal Pradesh",
            "Jammu and Kashmir",
            "Ladkh",
            "Punjab",
            "Uttar Pradesh",
            "Uttarakhand",
            "Chandigarh",
            "Delhi",
            "Haryana",
            "Himachal Pradesh",
            "Jammu and Kashmir",
            "Ladkh",
            "Punjab",
            "Uttar Pradesh",
            "Uttarakhand"
           ],
           "lat": {
            "bdata": "JCh+jLm7PkAVHcnlP7Q8QDsBTYQNDz1A7Z48LNQaP0Ck374OnONAQE+vlGWIE0FA2T15WKglP0DwhclUwdg6QHBfB84ZET5AJCh+jLm7PkAVHcnlP7Q8QDsBTYQNDz1A7Z48LNQaP0Ck374OnONAQE+vlGWIE0FA2T15WKglP0DwhclUwdg6QHBfB84ZET5AJCh+jLm7PkAVHcnlP7Q8QDsBTYQNDz1A7Z48LNQaP0Ck374OnONAQE+vlGWIE0FA2T15WKglP0DwhclUwdg6QHBfB84ZET5AJCh+jLm7PkAVHcnlP7Q8QDsBTYQNDz1A7Z48LNQaP0Ck374OnONAQE+vlGWIE0FA2T15WKglP0DwhclUwdg6QHBfB84ZET5AJCh+jLm7PkAVHcnlP7Q8QDsBTYQNDz1A7Z48LNQaP0Ck374OnONAQE+vlGWIE0FA2T15WKglP0DwhclUwdg6QHBfB84ZET5A",
            "dtype": "f8"
           },
           "legendgroup": "NR",
           "lon": {
            "bdata": "J6CJsOExU0DD9Shcj0ZTQGgibHh6BVNAF0hQ/BhLU0Ai/fZ14CRTQGKh1jTvZFNAS1mGONbVUkBq3nGKjjxUQAU0ETY8wVNAJ6CJsOExU0DD9Shcj0ZTQGgibHh6BVNAF0hQ/BhLU0Ai/fZ14CRTQGKh1jTvZFNAS1mGONbVUkBq3nGKjjxUQAU0ETY8wVNAJ6CJsOExU0DD9Shcj0ZTQGgibHh6BVNAF0hQ/BhLU0Ai/fZ14CRTQGKh1jTvZFNAS1mGONbVUkBq3nGKjjxUQAU0ETY8wVNAJ6CJsOExU0DD9Shcj0ZTQGgibHh6BVNAF0hQ/BhLU0Ai/fZ14CRTQGKh1jTvZFNAS1mGONbVUkBq3nGKjjxUQAU0ETY8wVNAJ6CJsOExU0DD9Shcj0ZTQGgibHh6BVNAF0hQ/BhLU0Ai/fZ14CRTQGKh1jTvZFNAS1mGONbVUkBq3nGKjjxUQAU0ETY8wVNA",
            "dtype": "f8"
           },
           "marker": {
            "color": "#636efa",
            "size": {
             "bdata": "AAAAAAAAAAAAAAAAAAAAAAAAAAAAAAAAAAAAAAAAAAAAAAAAAAAAAAAAAAAAAAAAZmZmZmbmMEAAAAAAAAAAAAAAAAAAAAAAKVyPwvWoKkCamZmZmQlhQClcj8L1SF9AUrgehetRJ0AAAAAAAAAAAAAAAAAAAAAAexSuR+E4lUAzMzMzM5yWQFyPwvUoWHVAAAAAAAAAAAAAAAAAAAAAAArXo3A9bnRAXI/C9SjXoECuR+F6FLJ7QAAAAAAAAAAAXI/C9ShGhkDXo3A9CjdCQOxRuB6FMYdAAAAAAAAAAABSuB6F6/VxQOxRuB6Fl3FAAAAAAAAAAAAAAAAAAAAAAAAAAAAAAAAAuB6F61FchEApXI/CdZesQHE9CtejkFtAAAAAAAAAAAAAAAAAAAAAAAAAAAAAAAAAj8L1KFzw40DhehSuh6vRQBSuR+F65HBAFK5H4XoDtEBSuB6F68WQQHE9CtdDbcxA",
             "dtype": "f8"
            },
            "sizemode": "area",
            "sizeref": 102.0872,
            "symbol": "circle"
           },
           "mode": "markers",
           "name": "NR",
           "showlegend": true,
           "type": "scattergeo"
          },
          {
           "geo": "geo",
           "hovertemplate": "<b>%{hovertext}</b><br><br>Region=WR<br>Dates=2019-20<br>Generation=%{marker.size}<br>Latitude=%{lat}<br>Longitude=%{lon}<extra></extra>",
           "hovertext": [
            "Rajasthan",
            "Chhattisgarh",
            "Gujarat",
            "Madhya Pradesh",
            "Maharashtra",
            "Dadra and Nagar Haveli",
            "Daman and Diu",
            "Goa",
            "Rajasthan",
            "Chhattisgarh",
            "Gujarat",
            "Madhya Pradesh",
            "Maharashtra",
            "Dadra and Nagar Haveli",
            "Daman and Diu",
            "Goa",
            "Rajasthan",
            "Chhattisgarh",
            "Gujarat",
            "Madhya Pradesh",
            "Maharashtra",
            "Dadra and Nagar Haveli",
            "Daman and Diu",
            "Goa",
            "Rajasthan",
            "Chhattisgarh",
            "Gujarat",
            "Madhya Pradesh",
            "Maharashtra",
            "Dadra and Nagar Haveli",
            "Daman and Diu",
            "Goa",
            "Rajasthan",
            "Chhattisgarh",
            "Gujarat",
            "Madhya Pradesh",
            "Maharashtra",
            "Dadra and Nagar Haveli",
            "Daman and Diu",
            "Goa"
           ],
           "lat": {
            "bdata": "EqW9wRcGO0AsZRniWEc1QKd5xyk6QjZAKe0NvjD5NkCq8dJNYsAzQK7YX3ZPLjRAduCcEaVtNEC3Yn/ZPZkuQBKlvcEXBjtALGUZ4lhHNUCneccpOkI2QCntDb4w+TZAqvHSTWLAM0Cu2F92Ty40QHbgnBGlbTRAt2J/2T2ZLkASpb3BFwY7QCxlGeJYRzVAp3nHKTpCNkAp7Q2+MPk2QKrx0k1iwDNArthfdk8uNEB24JwRpW00QLdif9k9mS5AEqW9wRcGO0AsZRniWEc1QKd5xyk6QjZAKe0NvjD5NkCq8dJNYsAzQK7YX3ZPLjRAduCcEaVtNEC3Yn/ZPZkuQBKlvcEXBjtALGUZ4lhHNUCneccpOkI2QCntDb4w+TZAqvHSTWLAM0Cu2F92Ty40QHbgnBGlbTRAt2J/2T2ZLkA=",
            "dtype": "f8"
           },
           "legendgroup": "WR",
           "lon": {
            "bdata": "GXPXEvKNUkAzxLEubndUQAfwFkhQzFFAgy9MpgqqU0BSJ6CJsO1SQFvTvOMUQVJA4JwRpb01UkAOLbKd74dSQBlz1xLyjVJAM8SxLm53VEAH8BZIUMxRQIMvTKYKqlNAUiegibDtUkBb07zjFEFSQOCcEaW9NVJADi2yne+HUkAZc9cS8o1SQDPEsS5ud1RAB/AWSFDMUUCDL0ymCqpTQFInoImw7VJAW9O84xRBUkDgnBGlvTVSQA4tsp3vh1JAGXPXEvKNUkAzxLEubndUQAfwFkhQzFFAgy9MpgqqU0BSJ6CJsO1SQFvTvOMUQVJA4JwRpb01UkAOLbKd74dSQBlz1xLyjVJAM8SxLm53VEAH8BZIUMxRQIMvTKYKqlNAUiegibDtUkBb07zjFEFSQOCcEaW9NVJADi2yne+HUkA=",
            "dtype": "f8"
           },
           "marker": {
            "color": "#EF553B",
            "size": {
             "bdata": "zczMzMwLuEAAAAAAAAAAAHE9CtdD2spACtejcP1JsUDsUbgeRTC/QAAAAAAAAAAAAAAAAAAAAAAAAAAAAAAAAMP1KFyPYL5AH4XrUbhmdEAfhetRuF+sQClcj8J1UKtAj8L1KFyJokDD9Shcj8IYQBSuR+F61DVAPQrXo3A96j8AAAAAAIAjQAAAAAAAcFlAmpmZmZlZaECF61G4HsVuQBSuR+F6vIVAAAAAAAAAAAAAAAAAAAAAAAAAAAAAAAAA16NwPQpfeECamZmZmT2FQEjhehSut2FASOF6FK4vYECuR+F6lOqmQAAAAAAAAAAAAAAAAAAAAAAAAAAAAAAAAD0K16Nw8YJA4XoUrkeZbUBI4XoUria1QArXo3C9ibhArkfhepT4tkAAAAAAAAAAAAAAAAAAAAAAAAAAAAAAAAA=",
             "dtype": "f8"
            },
            "sizemode": "area",
            "sizeref": 102.0872,
            "symbol": "circle"
           },
           "mode": "markers",
           "name": "WR",
           "showlegend": true,
           "type": "scattergeo"
          },
          {
           "geo": "geo",
           "hovertemplate": "<b>%{hovertext}</b><br><br>Region=SR<br>Dates=2019-20<br>Generation=%{marker.size}<br>Latitude=%{lat}<br>Longitude=%{lon}<extra></extra>",
           "hovertext": [
            "Andhra Pradesh",
            "Telangana",
            "Karnataka",
            "Kerala",
            "Tamil Nadu",
            "Lakshadweep",
            "Puducherry",
            "Andhra Pradesh",
            "Telangana",
            "Karnataka",
            "Kerala",
            "Tamil Nadu",
            "Lakshadweep",
            "Puducherry",
            "Andhra Pradesh",
            "Telangana",
            "Karnataka",
            "Kerala",
            "Tamil Nadu",
            "Lakshadweep",
            "Puducherry",
            "Andhra Pradesh",
            "Telangana",
            "Karnataka",
            "Kerala",
            "Tamil Nadu",
            "Lakshadweep",
            "Puducherry",
            "Andhra Pradesh",
            "Telangana",
            "Karnataka",
            "Kerala",
            "Tamil Nadu",
            "Lakshadweep",
            "Puducherry"
           ],
           "lat": {
            "bdata": "bAn5oGfTL0AGEhQ/xhwyQKYKRiV1oi5A+n5qvHSzJUCppE5AE0EmQFJJnYAmIiVAw9MrZRniJ0BsCfmgZ9MvQAYSFD/GHDJApgpGJXWiLkD6fmq8dLMlQKmkTkATQSZAUkmdgCYiJUDD0ytlGeInQGwJ+aBn0y9ABhIUP8YcMkCmCkYldaIuQPp+arx0syVAqaROQBNBJkBSSZ2AJiIlQMPTK2UZ4idAbAn5oGfTL0AGEhQ/xhwyQKYKRiV1oi5A+n5qvHSzJUCppE5AE0EmQFJJnYAmIiVAw9MrZRniJ0BsCfmgZ9MvQAYSFD/GHDJApgpGJXWiLkD6fmq8dLMlQKmkTkATQSZAUkmdgCYiJUDD0ytlGeInQA==",
            "dtype": "f8"
           },
           "legendgroup": "SR",
           "lon": {
            "bdata": "j8L1KFzvU0AFNBE2PMFTQFInoImw7VJAhXzQs1kRU0CDL0ymCqpTQPd14JwRKVJA1lbsL7vzU0CPwvUoXO9TQAU0ETY8wVNAUiegibDtUkCFfNCzWRFTQIMvTKYKqlNA93XgnBEpUkDWVuwvu/NTQI/C9Shc71NABTQRNjzBU0BSJ6CJsO1SQIV80LNZEVNAgy9MpgqqU0D3deCcESlSQNZW7C+781NAj8L1KFzvU0AFNBE2PMFTQFInoImw7VJAhXzQs1kRU0CDL0ymCqpTQPd14JwRKVJA1lbsL7vzU0CPwvUoXO9TQAU0ETY8wVNAUiegibDtUkCFfNCzWRFTQIMvTKYKqlNA93XgnBEpUkDWVuwvu/NTQA==",
            "dtype": "f8"
           },
           "marker": {
            "color": "#00cc96",
            "size": {
             "bdata": "exSuR6HKvUAAAAAAAMhtQK5H4XpU0sNAcT0K16PwXUCkcD0Kd5fLQAAAAAAAAAAAAAAAAAAAAACPwvUoHN+2QFK4HoXrd7hAmpmZmZnqxUB7FK5H4fJhQHsUrkehUrNAH4XrUbge5T+PwvUoXI8QQNejcD0Ko3JAhetRuB4lR0BxPQrXo7edQHsUrkfhkoBAuB6F61F4bUAAAAAAAAAAAAAAAAAAAAAAcT0K16OoakApXI/C9bhuQM3MzMxMkaJAj8L1KFwPJkCF61G4Hml8QAAAAAAAAAAAAAAAAAAAAACPwvUo3IqnQNejcD0Km7FA9ihcjyJfy0DXo3A9Ck61QArXo3A9nbJAAAAAAAAAAAAAAAAAAAAAAA==",
             "dtype": "f8"
            },
            "sizemode": "area",
            "sizeref": 102.0872,
            "symbol": "circle"
           },
           "mode": "markers",
           "name": "SR",
           "showlegend": true,
           "type": "scattergeo"
          },
          {
           "geo": "geo",
           "hovertemplate": "<b>%{hovertext}</b><br><br>Region=IS<br>Dates=2019-20<br>Generation=%{marker.size}<br>Latitude=%{lat}<br>Longitude=%{lon}<extra></extra>",
           "hovertext": [
            "Andaman Nicobar",
            "Andaman Nicobar",
            "Andaman Nicobar",
            "Andaman Nicobar",
            "Andaman Nicobar"
           ],
           "lat": {
            "bdata": "CYofY+56J0AJih9j7nonQAmKH2PueidACYofY+56J0AJih9j7nonQA==",
            "dtype": "f8"
           },
           "legendgroup": "IS",
           "lon": {
            "bdata": "UkmdgCYqV0BSSZ2AJipXQFJJnYAmKldAUkmdgCYqV0BSSZ2AJipXQA==",
            "dtype": "f8"
           },
           "marker": {
            "color": "#ab63fa",
            "size": {
             "bdata": "AAAAAAAAAAAzMzMzMzMnQM3MzMzMzBZAAAAAAAAAAAAAAAAAAAAAAA==",
             "dtype": "f8"
            },
            "sizemode": "area",
            "sizeref": 102.0872,
            "symbol": "circle"
           },
           "mode": "markers",
           "name": "IS",
           "showlegend": true,
           "type": "scattergeo"
          },
          {
           "geo": "geo",
           "hovertemplate": "<b>%{hovertext}</b><br><br>Region=ER<br>Dates=2019-20<br>Generation=%{marker.size}<br>Latitude=%{lat}<br>Longitude=%{lon}<extra></extra>",
           "hovertext": [
            "Bihar",
            "Jharkhand",
            "Odisha",
            "Sikkim",
            "West Bengal",
            "Bihar",
            "Jharkhand",
            "Odisha",
            "Sikkim",
            "West Bengal",
            "Bihar",
            "Jharkhand",
            "Odisha",
            "Sikkim",
            "West Bengal",
            "Bihar",
            "Jharkhand",
            "Odisha",
            "Sikkim",
            "West Bengal",
            "Bihar",
            "Jharkhand",
            "Odisha",
            "Sikkim",
            "West Bengal"
           ],
           "lat": {
            "bdata": "RiV1ApoYOUDqBDQRNpw3QGuad5yi8zRAnMQgsHKIO0Bbsb/snvw2QEYldQKaGDlA6gQ0ETacN0BrmnecovM0QJzEILByiDtAW7G/7J78NkBGJXUCmhg5QOoENBE2nDdAa5p3nKLzNECcxCCwcog7QFuxv+ye/DZARiV1ApoYOUDqBDQRNpw3QGuad5yi8zRAnMQgsHKIO0Bbsb/snvw2QEYldQKaGDlA6gQ0ETacN0BrmnecovM0QJzEILByiDtAW7G/7J78NkA=",
            "dtype": "f8"
           },
           "legendgroup": "ER",
           "lon": {
            "bdata": "KxiV1AlUVUCgibDh6VFVQPyp8dJNRlVAuECC4scgVkAfhetRuPZVQCsYldQJVFVAoImw4elRVUD8qfHSTUZVQLhAguLHIFZAH4XrUbj2VUArGJXUCVRVQKCJsOHpUVVA/Knx0k1GVUC4QILixyBWQB+F61G49lVAKxiV1AlUVUCgibDh6VFVQPyp8dJNRlVAuECC4scgVkAfhetRuPZVQCsYldQJVFVAoImw4elRVUD8qfHSTUZVQLhAguLHIFZAH4XrUbj2VUA=",
            "dtype": "f8"
           },
           "marker": {
            "color": "#FFA15A",
            "size": {
             "bdata": "AAAAAAAAAAAAAAAAAAAAABSuR+F6VEtAAAAAAAAAAAAAAAAAAAAAAIXrUbgeBWRAuB6F61F4MUBxPQrXo6R2QAAAAAAAAAAAw/UoXI8SUEB7FK5H4foyQLgehetRuBVAZmZmZma6ckCPwvUoXE9OQOxRuB6F61xA4XoUrkdxZkB7FK5H4Xr0P/YoXI/CpVBAAAAAAAAAAADhehSuRzyUQAAAAAAAAAAAH4XrUbjeYkDsUbgexUi6QEjhehSuicVA9ihcj8LIpkA=",
             "dtype": "f8"
            },
            "sizemode": "area",
            "sizeref": 102.0872,
            "symbol": "circle"
           },
           "mode": "markers",
           "name": "ER",
           "showlegend": true,
           "type": "scattergeo"
          },
          {
           "geo": "geo",
           "hovertemplate": "<b>%{hovertext}</b><br><br>Region=NER<br>Dates=2019-20<br>Generation=%{marker.size}<br>Latitude=%{lat}<br>Longitude=%{lon}<extra></extra>",
           "hovertext": [
            "Arunachal Pradesh",
            "Assam",
            "Manipur",
            "Meghalaya",
            "Mizoram",
            "Nagaland",
            "Tripura",
            "Arunachal Pradesh",
            "Assam",
            "Manipur",
            "Meghalaya",
            "Mizoram",
            "Nagaland",
            "Tripura",
            "Arunachal Pradesh",
            "Assam",
            "Manipur",
            "Meghalaya",
            "Mizoram",
            "Nagaland",
            "Tripura",
            "Arunachal Pradesh",
            "Assam",
            "Manipur",
            "Meghalaya",
            "Mizoram",
            "Nagaland",
            "Tripura",
            "Arunachal Pradesh",
            "Assam",
            "Manipur",
            "Meghalaya",
            "Mizoram",
            "Nagaland",
            "Tripura"
           ],
           "lat": {
            "bdata": "K4cW2c43PEDek4eFWjM6QO5aQj7oqThAZDvfT413OUAnMQisHCo3QLivA+eMKDpAqRPQRNjwN0ArhxbZzjc8QN6Th4VaMzpA7lpCPuipOEBkO99PjXc5QCcxCKwcKjdAuK8D54woOkCpE9BE2PA3QCuHFtnONzxA3pOHhVozOkDuWkI+6Kk4QGQ730+NdzlAJzEIrBwqN0C4rwPnjCg6QKkT0ETY8DdAK4cW2c43PEDek4eFWjM6QO5aQj7oqThAZDvfT413OUAnMQisHCo3QLivA+eMKDpAqRPQRNjwN0ArhxbZzjc8QN6Th4VaMzpA7lpCPuipOEBkO99PjXc5QCcxCKwcKjdAuK8D54woOkCpE9BE2PA3QA==",
            "dtype": "f8"
           },
           "legendgroup": "NER",
           "lon": {
            "bdata": "2IFzRpSuV0CyLm6jATxXQFkXt9EAeldA5fIf0m/XVkCyLm6jATxXQE7RkVz+o1dAEHo2qz7/VkDYgXNGlK5XQLIubqMBPFdAWRe30QB6V0Dl8h/Sb9dWQLIubqMBPFdATtGRXP6jV0AQejarPv9WQNiBc0aUrldAsi5uowE8V0BZF7fRAHpXQOXyH9Jv11ZAsi5uowE8V0BO0ZFc/qNXQBB6Nqs+/1ZA2IFzRpSuV0CyLm6jATxXQFkXt9EAeldA5fIf0m/XVkCyLm6jATxXQE7RkVz+o1dAEHo2qz7/VkDYgXNGlK5XQLIubqMBPFdAWRe30QB6V0Dl8h/Sb9dWQLIubqMBPFdATtGRXP6jV0AQejarPv9WQA==",
            "dtype": "f8"
           },
           "marker": {
            "color": "#19d3f3",
            "size": {
             "bdata": "AAAAAAAAAAAAAAAAAAAAAAAAAAAAAAAAAAAAAAAAAAAAAAAAAAAAAAAAAAAAAAAAAAAAAAAAAACamZmZmZn5P4/C9ShcjxhACtejcD0KBUAAAAAAAAAAAClcj8L1KNw/AAAAAAAAAABxPQrXo3ALQHsUrkfheuQ/cT0K16NQSkAfhetRuB75Pz0K16NwXU9ASOF6FK7HSEBI4XoUrvdSQOxRuB6FqzhAAAAAAAAAAAAAAAAAAAAAAAAAAAAAAAAAAAAAAAAAAAAAAAAAAAAAAAAAAAAAAAAAAAAAAAAAAACkcD0K1+mbQB+F61G4LpRAPQrXo3DpdkC4HoXrUdKPQHE9CtejIGZAMzMzMzObZkAAAAAAAAAAAA==",
             "dtype": "f8"
            },
            "sizemode": "area",
            "sizeref": 102.0872,
            "symbol": "circle"
           },
           "mode": "markers",
           "name": "NER",
           "showlegend": true,
           "type": "scattergeo"
          }
         ],
         "name": "2019-20"
        },
        {
         "data": [
          {
           "geo": "geo",
           "hovertemplate": "<b>%{hovertext}</b><br><br>Region=NR<br>Dates=2020-21<br>Generation=%{marker.size}<br>Latitude=%{lat}<br>Longitude=%{lon}<extra></extra>",
           "hovertext": [
            "Chandigarh",
            "Delhi",
            "Haryana",
            "Himachal Pradesh",
            "Jammu and Kashmir",
            "Ladkh",
            "Punjab",
            "Uttar Pradesh",
            "Uttarakhand",
            "Chandigarh",
            "Delhi",
            "Haryana",
            "Himachal Pradesh",
            "Jammu and Kashmir",
            "Ladkh",
            "Punjab",
            "Uttar Pradesh",
            "Uttarakhand",
            "Chandigarh",
            "Delhi",
            "Haryana",
            "Himachal Pradesh",
            "Jammu and Kashmir",
            "Ladkh",
            "Punjab",
            "Uttar Pradesh",
            "Uttarakhand",
            "Chandigarh",
            "Delhi",
            "Haryana",
            "Himachal Pradesh",
            "Jammu and Kashmir",
            "Ladkh",
            "Punjab",
            "Uttar Pradesh",
            "Uttarakhand",
            "Chandigarh",
            "Delhi",
            "Haryana",
            "Himachal Pradesh",
            "Jammu and Kashmir",
            "Ladkh",
            "Punjab",
            "Uttar Pradesh",
            "Uttarakhand"
           ],
           "lat": {
            "bdata": "JCh+jLm7PkAVHcnlP7Q8QDsBTYQNDz1A7Z48LNQaP0Ck374OnONAQE+vlGWIE0FA2T15WKglP0DwhclUwdg6QHBfB84ZET5AJCh+jLm7PkAVHcnlP7Q8QDsBTYQNDz1A7Z48LNQaP0Ck374OnONAQE+vlGWIE0FA2T15WKglP0DwhclUwdg6QHBfB84ZET5AJCh+jLm7PkAVHcnlP7Q8QDsBTYQNDz1A7Z48LNQaP0Ck374OnONAQE+vlGWIE0FA2T15WKglP0DwhclUwdg6QHBfB84ZET5AJCh+jLm7PkAVHcnlP7Q8QDsBTYQNDz1A7Z48LNQaP0Ck374OnONAQE+vlGWIE0FA2T15WKglP0DwhclUwdg6QHBfB84ZET5AJCh+jLm7PkAVHcnlP7Q8QDsBTYQNDz1A7Z48LNQaP0Ck374OnONAQE+vlGWIE0FA2T15WKglP0DwhclUwdg6QHBfB84ZET5A",
            "dtype": "f8"
           },
           "legendgroup": "NR",
           "lon": {
            "bdata": "J6CJsOExU0DD9Shcj0ZTQGgibHh6BVNAF0hQ/BhLU0Ai/fZ14CRTQGKh1jTvZFNAS1mGONbVUkBq3nGKjjxUQAU0ETY8wVNAJ6CJsOExU0DD9Shcj0ZTQGgibHh6BVNAF0hQ/BhLU0Ai/fZ14CRTQGKh1jTvZFNAS1mGONbVUkBq3nGKjjxUQAU0ETY8wVNAJ6CJsOExU0DD9Shcj0ZTQGgibHh6BVNAF0hQ/BhLU0Ai/fZ14CRTQGKh1jTvZFNAS1mGONbVUkBq3nGKjjxUQAU0ETY8wVNAJ6CJsOExU0DD9Shcj0ZTQGgibHh6BVNAF0hQ/BhLU0Ai/fZ14CRTQGKh1jTvZFNAS1mGONbVUkBq3nGKjjxUQAU0ETY8wVNAJ6CJsOExU0DD9Shcj0ZTQGgibHh6BVNAF0hQ/BhLU0Ai/fZ14CRTQGKh1jTvZFNAS1mGONbVUkBq3nGKjjxUQAU0ETY8wVNA",
            "dtype": "f8"
           },
           "marker": {
            "color": "#636efa",
            "size": {
             "bdata": "AAAAAAAAAAAAAAAAAAAAAAAAAAAAAAAAAAAAAAAAAAAAAAAAAAAAAAAAAAAAAAAAAAAAAAAAAAAAAAAAAAAAAAAAAAAAAAAAUrgehetRJEBI4XoUrr9nQGZmZmZmXmRAw/UoXI9CQkDXo3A9CtciQAAAAAAAAAAAUrgehesxlUD2KFyPwgCdQArXo3A9mnRAAAAAAAAAAAAAAAAAAAAAAOF6FK5HSXFAw/UoXI+XoECuR+F6FN56QAAAAAAAAAAAcT0K16OShUCF61G4Hp1kQNejcD0Kr4lAAAAAAAAAAAAfhetRuJZtQOxRuB6FE3RAAAAAAAAAAAAAAAAAAAAAAAAAAAAAAAAAMzMzMzONiUB7FK5HYR2tQIXrUbgeVVVAAAAAAAAAAAAAAAAAAAAAAAAAAAAAAAAApHA9Ci9M4kBSuB6Fq5rQQI/C9Shcg3dA4XoUrgeLskBmZmZmZpGYQIXrUbg+jMpA",
             "dtype": "f8"
            },
            "sizemode": "area",
            "sizeref": 102.0872,
            "symbol": "circle"
           },
           "mode": "markers",
           "name": "NR",
           "showlegend": true,
           "type": "scattergeo"
          },
          {
           "geo": "geo",
           "hovertemplate": "<b>%{hovertext}</b><br><br>Region=WR<br>Dates=2020-21<br>Generation=%{marker.size}<br>Latitude=%{lat}<br>Longitude=%{lon}<extra></extra>",
           "hovertext": [
            "Rajasthan",
            "Chhattisgarh",
            "Gujarat",
            "Madhya Pradesh",
            "Maharashtra",
            "Dadra and Nagar Haveli",
            "Daman and Diu",
            "Goa",
            "Rajasthan",
            "Chhattisgarh",
            "Gujarat",
            "Madhya Pradesh",
            "Maharashtra",
            "Dadra and Nagar Haveli",
            "Daman and Diu",
            "Goa",
            "Rajasthan",
            "Chhattisgarh",
            "Gujarat",
            "Madhya Pradesh",
            "Maharashtra",
            "Dadra and Nagar Haveli",
            "Daman and Diu",
            "Goa",
            "Rajasthan",
            "Chhattisgarh",
            "Gujarat",
            "Madhya Pradesh",
            "Maharashtra",
            "Dadra and Nagar Haveli",
            "Daman and Diu",
            "Goa",
            "Rajasthan",
            "Chhattisgarh",
            "Gujarat",
            "Madhya Pradesh",
            "Maharashtra",
            "Dadra and Nagar Haveli",
            "Daman and Diu",
            "Goa"
           ],
           "lat": {
            "bdata": "EqW9wRcGO0AsZRniWEc1QKd5xyk6QjZAKe0NvjD5NkCq8dJNYsAzQK7YX3ZPLjRAduCcEaVtNEC3Yn/ZPZkuQBKlvcEXBjtALGUZ4lhHNUCneccpOkI2QCntDb4w+TZAqvHSTWLAM0Cu2F92Ty40QHbgnBGlbTRAt2J/2T2ZLkASpb3BFwY7QCxlGeJYRzVAp3nHKTpCNkAp7Q2+MPk2QKrx0k1iwDNArthfdk8uNEB24JwRpW00QLdif9k9mS5AEqW9wRcGO0AsZRniWEc1QKd5xyk6QjZAKe0NvjD5NkCq8dJNYsAzQK7YX3ZPLjRAduCcEaVtNEC3Yn/ZPZkuQBKlvcEXBjtALGUZ4lhHNUCneccpOkI2QCntDb4w+TZAqvHSTWLAM0Cu2F92Ty40QHbgnBGlbTRAt2J/2T2ZLkA=",
            "dtype": "f8"
           },
           "legendgroup": "WR",
           "lon": {
            "bdata": "GXPXEvKNUkAzxLEubndUQAfwFkhQzFFAgy9MpgqqU0BSJ6CJsO1SQFvTvOMUQVJA4JwRpb01UkAOLbKd74dSQBlz1xLyjVJAM8SxLm53VEAH8BZIUMxRQIMvTKYKqlNAUiegibDtUkBb07zjFEFSQOCcEaW9NVJADi2yne+HUkAZc9cS8o1SQDPEsS5ud1RAB/AWSFDMUUCDL0ymCqpTQFInoImw7VJAW9O84xRBUkDgnBGlvTVSQA4tsp3vh1JAGXPXEvKNUkAzxLEubndUQAfwFkhQzFFAgy9MpgqqU0BSJ6CJsO1SQFvTvOMUQVJA4JwRpb01UkAOLbKd74dSQBlz1xLyjVJAM8SxLm53VEAH8BZIUMxRQIMvTKYKqlNAUiegibDtUkBb07zjFEFSQOCcEaW9NVJADi2yne+HUkA=",
            "dtype": "f8"
           },
           "marker": {
            "color": "#EF553B",
            "size": {
             "bdata": "7FG4HkVMtkAAAAAAAAAAAPYoXI9CgclAZmZmZuaSrkAK16NwvfC4QAAAAAAAAAAAAAAAAAAAAAAAAAAAAAAAAIXrUbgeSMRAzczMzMwsd0DD9ShczxmyQOF6FK4HarBAUrgehesiqEDsUbgehesnQIXrUbgehT1AXI/C9Shc9z9I4XoUrkclQHE9CtejMGJArkfhehR+akBcj8L1KJxxQEjhehSuFYlAAAAAAAAAAAAAAAAAAAAAAAAAAAAAAAAApHA9CtfTeUDhehSuR3aRQEjhehSuR1JASOF6FK4nXkDsUbgeheeuQAAAAAAAAAAAj8L1KFwPJUAAAAAAAAAAAK5H4XoUWn1A16NwPQozekCPwvUoXImwQK5H4XpUTblAKVyPwnWstUAAAAAAAAAAAAAAAAAAAAAAAAAAAAAAAAA=",
             "dtype": "f8"
            },
            "sizemode": "area",
            "sizeref": 102.0872,
            "symbol": "circle"
           },
           "mode": "markers",
           "name": "WR",
           "showlegend": true,
           "type": "scattergeo"
          },
          {
           "geo": "geo",
           "hovertemplate": "<b>%{hovertext}</b><br><br>Region=SR<br>Dates=2020-21<br>Generation=%{marker.size}<br>Latitude=%{lat}<br>Longitude=%{lon}<extra></extra>",
           "hovertext": [
            "Andhra Pradesh",
            "Telangana",
            "Karnataka",
            "Kerala",
            "Tamil Nadu",
            "Lakshadweep",
            "Puducherry",
            "Andhra Pradesh",
            "Telangana",
            "Karnataka",
            "Kerala",
            "Tamil Nadu",
            "Lakshadweep",
            "Puducherry",
            "Andhra Pradesh",
            "Telangana",
            "Karnataka",
            "Kerala",
            "Tamil Nadu",
            "Lakshadweep",
            "Puducherry",
            "Andhra Pradesh",
            "Telangana",
            "Karnataka",
            "Kerala",
            "Tamil Nadu",
            "Lakshadweep",
            "Puducherry",
            "Andhra Pradesh",
            "Telangana",
            "Karnataka",
            "Kerala",
            "Tamil Nadu",
            "Lakshadweep",
            "Puducherry"
           ],
           "lat": {
            "bdata": "bAn5oGfTL0AGEhQ/xhwyQKYKRiV1oi5A+n5qvHSzJUCppE5AE0EmQFJJnYAmIiVAw9MrZRniJ0BsCfmgZ9MvQAYSFD/GHDJApgpGJXWiLkD6fmq8dLMlQKmkTkATQSZAUkmdgCYiJUDD0ytlGeInQGwJ+aBn0y9ABhIUP8YcMkCmCkYldaIuQPp+arx0syVAqaROQBNBJkBSSZ2AJiIlQMPTK2UZ4idAbAn5oGfTL0AGEhQ/xhwyQKYKRiV1oi5A+n5qvHSzJUCppE5AE0EmQFJJnYAmIiVAw9MrZRniJ0BsCfmgZ9MvQAYSFD/GHDJApgpGJXWiLkD6fmq8dLMlQKmkTkATQSZAUkmdgCYiJUDD0ytlGeInQA==",
            "dtype": "f8"
           },
           "legendgroup": "SR",
           "lon": {
            "bdata": "j8L1KFzvU0AFNBE2PMFTQFInoImw7VJAhXzQs1kRU0CDL0ymCqpTQPd14JwRKVJA1lbsL7vzU0CPwvUoXO9TQAU0ETY8wVNAUiegibDtUkCFfNCzWRFTQIMvTKYKqlNA93XgnBEpUkDWVuwvu/NTQI/C9Shc71NABTQRNjzBU0BSJ6CJsO1SQIV80LNZEVNAgy9MpgqqU0D3deCcESlSQNZW7C+781NAj8L1KFzvU0AFNBE2PMFTQFInoImw7VJAhXzQs1kRU0CDL0ymCqpTQPd14JwRKVJA1lbsL7vzU0CPwvUoXO9TQAU0ETY8wVNAUiegibDtUkCFfNCzWRFTQIMvTKYKqlNA93XgnBEpUkDWVuwvu/NTQA==",
            "dtype": "f8"
           },
           "marker": {
            "color": "#00cc96",
            "size": {
             "bdata": "AAAAAMCduUCF61G4Hp1rQK5H4Xp0xcJAPQrXo3BNYECF61G4fnLMQAAAAAAAAAAAAAAAAAAAAACamZmZGSy7QNejcD0Kz7hASOF6FG7byUDXo3A9CjdxQBSuR+F647dAzczMzMzM3D+PwvUoXI8ZQEjhehSu83VA4XoUrkfRUECPwvUoXC+hQHE9CtejBIRAcT0K16OYbkAAAAAAAAAAAAAAAAAAAAAAAAAAAADMcEBmZmZmZmJyQPYoXI/C4aVAuB6F61HYRkBmZmZmZu6GQAAAAAAAAAAAAAAAAAAAAAAK16NwPaCpQPYoXI/CeqxAzczMzKyVyEBxPQrXY+S5QClcj8K1XLRAAAAAAAAAAAAAAAAAAAAAAA==",
             "dtype": "f8"
            },
            "sizemode": "area",
            "sizeref": 102.0872,
            "symbol": "circle"
           },
           "mode": "markers",
           "name": "SR",
           "showlegend": true,
           "type": "scattergeo"
          },
          {
           "geo": "geo",
           "hovertemplate": "<b>%{hovertext}</b><br><br>Region=IS<br>Dates=2020-21<br>Generation=%{marker.size}<br>Latitude=%{lat}<br>Longitude=%{lon}<extra></extra>",
           "hovertext": [
            "Andaman Nicobar",
            "Andaman Nicobar",
            "Andaman Nicobar",
            "Andaman Nicobar",
            "Andaman Nicobar"
           ],
           "lat": {
            "bdata": "CYofY+56J0AJih9j7nonQAmKH2PueidACYofY+56J0AJih9j7nonQA==",
            "dtype": "f8"
           },
           "legendgroup": "IS",
           "lon": {
            "bdata": "UkmdgCYqV0BSSZ2AJipXQFJJnYAmKldAUkmdgCYqV0BSSZ2AJipXQA==",
            "dtype": "f8"
           },
           "marker": {
            "color": "#ab63fa",
            "size": {
             "bdata": "AAAAAAAAAABSuB6F69E4QOF6FK5HYS1AAAAAAAAAAAAAAAAAAAAAAA==",
             "dtype": "f8"
            },
            "sizemode": "area",
            "sizeref": 102.0872,
            "symbol": "circle"
           },
           "mode": "markers",
           "name": "IS",
           "showlegend": true,
           "type": "scattergeo"
          },
          {
           "geo": "geo",
           "hovertemplate": "<b>%{hovertext}</b><br><br>Region=ER<br>Dates=2020-21<br>Generation=%{marker.size}<br>Latitude=%{lat}<br>Longitude=%{lon}<extra></extra>",
           "hovertext": [
            "Bihar",
            "Jharkhand",
            "Odisha",
            "Sikkim",
            "West Bengal",
            "Bihar",
            "Jharkhand",
            "Odisha",
            "Sikkim",
            "West Bengal",
            "Bihar",
            "Jharkhand",
            "Odisha",
            "Sikkim",
            "West Bengal",
            "Bihar",
            "Jharkhand",
            "Odisha",
            "Sikkim",
            "West Bengal",
            "Bihar",
            "Jharkhand",
            "Odisha",
            "Sikkim",
            "West Bengal"
           ],
           "lat": {
            "bdata": "RiV1ApoYOUDqBDQRNpw3QGuad5yi8zRAnMQgsHKIO0Bbsb/snvw2QEYldQKaGDlA6gQ0ETacN0BrmnecovM0QJzEILByiDtAW7G/7J78NkBGJXUCmhg5QOoENBE2nDdAa5p3nKLzNECcxCCwcog7QFuxv+ye/DZARiV1ApoYOUDqBDQRNpw3QGuad5yi8zRAnMQgsHKIO0Bbsb/snvw2QEYldQKaGDlA6gQ0ETacN0BrmnecovM0QJzEILByiDtAW7G/7J78NkA=",
            "dtype": "f8"
           },
           "legendgroup": "ER",
           "lon": {
            "bdata": "KxiV1AlUVUCgibDh6VFVQPyp8dJNRlVAuECC4scgVkAfhetRuPZVQCsYldQJVFVAoImw4elRVUD8qfHSTUZVQLhAguLHIFZAH4XrUbj2VUArGJXUCVRVQKCJsOHpUVVA/Knx0k1GVUC4QILixyBWQB+F61G49lVAKxiV1AlUVUCgibDh6VFVQPyp8dJNRlVAuECC4scgVkAfhetRuPZVQCsYldQJVFVAoImw4elRVUD8qfHSTUZVQLhAguLHIFZAH4XrUbj2VUA=",
            "dtype": "f8"
           },
           "marker": {
            "color": "#FFA15A",
            "size": {
             "bdata": "AAAAAAAAAAAAAAAAAAAAAAAAAAAAAAAAAAAAAAAAAAAAAAAAAAAAAFyPwvUoFGRAKVyPwvUoMUBcj8L1KMR9QAAAAAAAAAAAexSuR+F6UkCamZmZmZlFQB+F61G4niJAzczMzMxsdkB7FK5H4fpLQKRwPQrXw1pAhetRuB7FNkAAAAAAAAAAAHsUrkfhWkVAAAAAAAAAAAB7FK5H4RaVQAAAAAAAAAAAexSuR+Hia0AfhetR+Mu6QAAAAADAP8VAw/UoXI8YqUA=",
             "dtype": "f8"
            },
            "sizemode": "area",
            "sizeref": 102.0872,
            "symbol": "circle"
           },
           "mode": "markers",
           "name": "ER",
           "showlegend": true,
           "type": "scattergeo"
          },
          {
           "geo": "geo",
           "hovertemplate": "<b>%{hovertext}</b><br><br>Region=NER<br>Dates=2020-21<br>Generation=%{marker.size}<br>Latitude=%{lat}<br>Longitude=%{lon}<extra></extra>",
           "hovertext": [
            "Arunachal Pradesh",
            "Assam",
            "Manipur",
            "Meghalaya",
            "Mizoram",
            "Nagaland",
            "Tripura",
            "Arunachal Pradesh",
            "Assam",
            "Manipur",
            "Meghalaya",
            "Mizoram",
            "Nagaland",
            "Tripura",
            "Arunachal Pradesh",
            "Assam",
            "Manipur",
            "Meghalaya",
            "Mizoram",
            "Nagaland",
            "Tripura",
            "Arunachal Pradesh",
            "Assam",
            "Manipur",
            "Meghalaya",
            "Mizoram",
            "Nagaland",
            "Tripura",
            "Arunachal Pradesh",
            "Assam",
            "Manipur",
            "Meghalaya",
            "Mizoram",
            "Nagaland",
            "Tripura"
           ],
           "lat": {
            "bdata": "K4cW2c43PEDek4eFWjM6QO5aQj7oqThAZDvfT413OUAnMQisHCo3QLivA+eMKDpAqRPQRNjwN0ArhxbZzjc8QN6Th4VaMzpA7lpCPuipOEBkO99PjXc5QCcxCKwcKjdAuK8D54woOkCpE9BE2PA3QCuHFtnONzxA3pOHhVozOkDuWkI+6Kk4QGQ730+NdzlAJzEIrBwqN0C4rwPnjCg6QKkT0ETY8DdAK4cW2c43PEDek4eFWjM6QO5aQj7oqThAZDvfT413OUAnMQisHCo3QLivA+eMKDpAqRPQRNjwN0ArhxbZzjc8QN6Th4VaMzpA7lpCPuipOEBkO99PjXc5QCcxCKwcKjdAuK8D54woOkCpE9BE2PA3QA==",
            "dtype": "f8"
           },
           "legendgroup": "NER",
           "lon": {
            "bdata": "2IFzRpSuV0CyLm6jATxXQFkXt9EAeldA5fIf0m/XVkCyLm6jATxXQE7RkVz+o1dAEHo2qz7/VkDYgXNGlK5XQLIubqMBPFdAWRe30QB6V0Dl8h/Sb9dWQLIubqMBPFdATtGRXP6jV0AQejarPv9WQNiBc0aUrldAsi5uowE8V0BZF7fRAHpXQOXyH9Jv11ZAsi5uowE8V0BO0ZFc/qNXQBB6Nqs+/1ZA2IFzRpSuV0CyLm6jATxXQFkXt9EAeldA5fIf0m/XVkCyLm6jATxXQE7RkVz+o1dAEHo2qz7/VkDYgXNGlK5XQLIubqMBPFdAWRe30QB6V0Dl8h/Sb9dWQLIubqMBPFdATtGRXP6jV0AQejarPv9WQA==",
            "dtype": "f8"
           },
           "marker": {
            "color": "#19d3f3",
            "size": {
             "bdata": "AAAAAAAAAAAAAAAAAAAAAAAAAAAAAAAAAAAAAAAAAAAAAAAAAAAAAAAAAAAAAAAAAAAAAAAAAACkcD0K16P4Pz0K16NwvSpA16NwPQrXHkAAAAAAAAAAAJqZmZmZmQNAAAAAAAAAAAApXI/C9SgYQJqZmZmZmeE/MzMzMzMTQ0AAAAAAAAAAAIXrUbgeZUxAUrgehesRP0DhehSuR3FRQClcj8L1KCNAAAAAAAAAAAAAAAAAAAAAAAAAAAAAAAAAAAAAAAAAAAAAAAAAAAAAAAAAAAAAAAAAAAAAAAAAAABI4XoUrvaqQFK4HoXr7XBAKVyPwvVsg0ApXI/C9f+RQDMzMzMz22NA7FG4HoV7aUAAAAAAAAAAAA==",
             "dtype": "f8"
            },
            "sizemode": "area",
            "sizeref": 102.0872,
            "symbol": "circle"
           },
           "mode": "markers",
           "name": "NER",
           "showlegend": true,
           "type": "scattergeo"
          }
         ],
         "name": "2020-21"
        },
        {
         "data": [
          {
           "geo": "geo",
           "hovertemplate": "<b>%{hovertext}</b><br><br>Region=NR<br>Dates=2021-22<br>Generation=%{marker.size}<br>Latitude=%{lat}<br>Longitude=%{lon}<extra></extra>",
           "hovertext": [
            "Chandigarh",
            "Delhi",
            "Haryana",
            "Himachal Pradesh",
            "Jammu and Kashmir",
            "Ladkh",
            "Punjab",
            "Uttar Pradesh",
            "Uttarakhand",
            "Chandigarh",
            "Delhi",
            "Haryana",
            "Himachal Pradesh",
            "Jammu and Kashmir",
            "Ladkh",
            "Punjab",
            "Uttar Pradesh",
            "Uttarakhand",
            "Chandigarh",
            "Delhi",
            "Haryana",
            "Himachal Pradesh",
            "Jammu and Kashmir",
            "Ladkh",
            "Punjab",
            "Uttar Pradesh",
            "Uttarakhand",
            "Chandigarh",
            "Delhi",
            "Haryana",
            "Himachal Pradesh",
            "Jammu and Kashmir",
            "Ladkh",
            "Punjab",
            "Uttar Pradesh",
            "Uttarakhand",
            "Chandigarh",
            "Delhi",
            "Haryana",
            "Himachal Pradesh",
            "Jammu and Kashmir",
            "Ladkh",
            "Punjab",
            "Uttar Pradesh",
            "Uttarakhand"
           ],
           "lat": {
            "bdata": "JCh+jLm7PkAVHcnlP7Q8QDsBTYQNDz1A7Z48LNQaP0Ck374OnONAQE+vlGWIE0FA2T15WKglP0DwhclUwdg6QHBfB84ZET5AJCh+jLm7PkAVHcnlP7Q8QDsBTYQNDz1A7Z48LNQaP0Ck374OnONAQE+vlGWIE0FA2T15WKglP0DwhclUwdg6QHBfB84ZET5AJCh+jLm7PkAVHcnlP7Q8QDsBTYQNDz1A7Z48LNQaP0Ck374OnONAQE+vlGWIE0FA2T15WKglP0DwhclUwdg6QHBfB84ZET5AJCh+jLm7PkAVHcnlP7Q8QDsBTYQNDz1A7Z48LNQaP0Ck374OnONAQE+vlGWIE0FA2T15WKglP0DwhclUwdg6QHBfB84ZET5AJCh+jLm7PkAVHcnlP7Q8QDsBTYQNDz1A7Z48LNQaP0Ck374OnONAQE+vlGWIE0FA2T15WKglP0DwhclUwdg6QHBfB84ZET5A",
            "dtype": "f8"
           },
           "legendgroup": "NR",
           "lon": {
            "bdata": "J6CJsOExU0DD9Shcj0ZTQGgibHh6BVNAF0hQ/BhLU0Ai/fZ14CRTQGKh1jTvZFNAS1mGONbVUkBq3nGKjjxUQAU0ETY8wVNAJ6CJsOExU0DD9Shcj0ZTQGgibHh6BVNAF0hQ/BhLU0Ai/fZ14CRTQGKh1jTvZFNAS1mGONbVUkBq3nGKjjxUQAU0ETY8wVNAJ6CJsOExU0DD9Shcj0ZTQGgibHh6BVNAF0hQ/BhLU0Ai/fZ14CRTQGKh1jTvZFNAS1mGONbVUkBq3nGKjjxUQAU0ETY8wVNAJ6CJsOExU0DD9Shcj0ZTQGgibHh6BVNAF0hQ/BhLU0Ai/fZ14CRTQGKh1jTvZFNAS1mGONbVUkBq3nGKjjxUQAU0ETY8wVNAJ6CJsOExU0DD9Shcj0ZTQGgibHh6BVNAF0hQ/BhLU0Ai/fZ14CRTQGKh1jTvZFNAS1mGONbVUkBq3nGKjjxUQAU0ETY8wVNA",
            "dtype": "f8"
           },
           "marker": {
            "color": "#636efa",
            "size": {
             "bdata": "AAAAAAAAAAAAAAAAAAAAAAAAAAAAAAAAAAAAAAAAAAAAAAAAAAAAAAAAAAAAAAAAAAAAAAAAAAAAAAAAAAAAAAAAAAAAAAAAH4XrUbgeHUBmZmZmZmZaQDMzMzMzI21AmpmZmZlZNkBcj8L1KFz7PwAAAAAAAAAA4XoUrkdriEBSuB6F67SVQClcj8L1eGJAAAAAAAAAAAAAAAAAAAAAAIXrUbgeDWBA9ihcj8Jqk0BmZmZmZnZxQAAAAAAAAAAAAAAAAACAiEDsUbgehctSQPYoXI/CFWRAAAAAAAAAAABI4XoUrrdbQFK4HoXrAVlAAAAAAAAAAAAAAAAAAAAAAAAAAAAAAAAArkfhehQuc0AAAAAAAJSDQKRwPQrXY15AAAAAAAAAAAAAAAAAAAAAAAAAAAAAAAAA9ihcj0Kb2UCamZmZuVTHQLgehetREHJAFK5H4fq3oEA9CtejcDmFQEjhehTuV8BA",
             "dtype": "f8"
            },
            "sizemode": "area",
            "sizeref": 102.0872,
            "symbol": "circle"
           },
           "mode": "markers",
           "name": "NR",
           "showlegend": true,
           "type": "scattergeo"
          },
          {
           "geo": "geo",
           "hovertemplate": "<b>%{hovertext}</b><br><br>Region=WR<br>Dates=2021-22<br>Generation=%{marker.size}<br>Latitude=%{lat}<br>Longitude=%{lon}<extra></extra>",
           "hovertext": [
            "Rajasthan",
            "Chhattisgarh",
            "Gujarat",
            "Madhya Pradesh",
            "Maharashtra",
            "Dadra and Nagar Haveli",
            "Daman and Diu",
            "Goa",
            "Rajasthan",
            "Chhattisgarh",
            "Gujarat",
            "Madhya Pradesh",
            "Maharashtra",
            "Dadra and Nagar Haveli",
            "Daman and Diu",
            "Goa",
            "Rajasthan",
            "Chhattisgarh",
            "Gujarat",
            "Madhya Pradesh",
            "Maharashtra",
            "Dadra and Nagar Haveli",
            "Daman and Diu",
            "Goa",
            "Rajasthan",
            "Chhattisgarh",
            "Gujarat",
            "Madhya Pradesh",
            "Maharashtra",
            "Dadra and Nagar Haveli",
            "Daman and Diu",
            "Goa",
            "Rajasthan",
            "Chhattisgarh",
            "Gujarat",
            "Madhya Pradesh",
            "Maharashtra",
            "Dadra and Nagar Haveli",
            "Daman and Diu",
            "Goa"
           ],
           "lat": {
            "bdata": "EqW9wRcGO0AsZRniWEc1QKd5xyk6QjZAKe0NvjD5NkCq8dJNYsAzQK7YX3ZPLjRAduCcEaVtNEC3Yn/ZPZkuQBKlvcEXBjtALGUZ4lhHNUCneccpOkI2QCntDb4w+TZAqvHSTWLAM0Cu2F92Ty40QHbgnBGlbTRAt2J/2T2ZLkASpb3BFwY7QCxlGeJYRzVAp3nHKTpCNkAp7Q2+MPk2QKrx0k1iwDNArthfdk8uNEB24JwRpW00QLdif9k9mS5AEqW9wRcGO0AsZRniWEc1QKd5xyk6QjZAKe0NvjD5NkCq8dJNYsAzQK7YX3ZPLjRAduCcEaVtNEC3Yn/ZPZkuQBKlvcEXBjtALGUZ4lhHNUCneccpOkI2QCntDb4w+TZAqvHSTWLAM0Cu2F92Ty40QHbgnBGlbTRAt2J/2T2ZLkA=",
            "dtype": "f8"
           },
           "legendgroup": "WR",
           "lon": {
            "bdata": "GXPXEvKNUkAzxLEubndUQAfwFkhQzFFAgy9MpgqqU0BSJ6CJsO1SQFvTvOMUQVJA4JwRpb01UkAOLbKd74dSQBlz1xLyjVJAM8SxLm53VEAH8BZIUMxRQIMvTKYKqlNAUiegibDtUkBb07zjFEFSQOCcEaW9NVJADi2yne+HUkAZc9cS8o1SQDPEsS5ud1RAB/AWSFDMUUCDL0ymCqpTQFInoImw7VJAW9O84xRBUkDgnBGlvTVSQA4tsp3vh1JAGXPXEvKNUkAzxLEubndUQAfwFkhQzFFAgy9MpgqqU0BSJ6CJsO1SQFvTvOMUQVJA4JwRpb01UkAOLbKd74dSQBlz1xLyjVJAM8SxLm53VEAH8BZIUMxRQIMvTKYKqlNAUiegibDtUkBb07zjFEFSQOCcEaW9NVJADi2yne+HUkA=",
            "dtype": "f8"
           },
           "marker": {
            "color": "#EF553B",
            "size": {
             "bdata": "pHA9ChensUAAAAAAAAAAAIXrUbgeb8VAhetRuJ5XpkCamZmZWX60QAAAAAAAAAAAAAAAAAAAAAAAAAAAAAAAANejcD2KYbpA16NwPQrfZ0BI4XoUrhCnQEjhehSuz55ArkfhehSNmEDNzMzMzIw0QD0K16Nw/TBAexSuR+F65D8fhetRuB7VP2ZmZmZmtl5AmpmZmZm5UUBSuB6F6/FZQM3MzMzMIHtAAAAAAAAAAAAAAAAAAAAAAAAAAAAAAAAA16NwPQrHaECkcD0K12OEQFK4HoXrUQBAMzMzMzMzM0BSuB6F6/mGQAAAAAAAAAAA7FG4HoXrFkAAAAAAAAAAANejcD0KN0pAhetRuB69bECkcD0K1ymWQClcj8J1lKJACtejcL2LqEAAAAAAAAAAAAAAAAAAAAAAAAAAAAAAAAA=",
             "dtype": "f8"
            },
            "sizemode": "area",
            "sizeref": 102.0872,
            "symbol": "circle"
           },
           "mode": "markers",
           "name": "WR",
           "showlegend": true,
           "type": "scattergeo"
          },
          {
           "geo": "geo",
           "hovertemplate": "<b>%{hovertext}</b><br><br>Region=SR<br>Dates=2021-22<br>Generation=%{marker.size}<br>Latitude=%{lat}<br>Longitude=%{lon}<extra></extra>",
           "hovertext": [
            "Andhra Pradesh",
            "Telangana",
            "Karnataka",
            "Kerala",
            "Tamil Nadu",
            "Lakshadweep",
            "Puducherry",
            "Andhra Pradesh",
            "Telangana",
            "Karnataka",
            "Kerala",
            "Tamil Nadu",
            "Lakshadweep",
            "Puducherry",
            "Andhra Pradesh",
            "Telangana",
            "Karnataka",
            "Kerala",
            "Tamil Nadu",
            "Lakshadweep",
            "Puducherry",
            "Andhra Pradesh",
            "Telangana",
            "Karnataka",
            "Kerala",
            "Tamil Nadu",
            "Lakshadweep",
            "Puducherry",
            "Andhra Pradesh",
            "Telangana",
            "Karnataka",
            "Kerala",
            "Tamil Nadu",
            "Lakshadweep",
            "Puducherry"
           ],
           "lat": {
            "bdata": "bAn5oGfTL0AGEhQ/xhwyQKYKRiV1oi5A+n5qvHSzJUCppE5AE0EmQFJJnYAmIiVAw9MrZRniJ0BsCfmgZ9MvQAYSFD/GHDJApgpGJXWiLkD6fmq8dLMlQKmkTkATQSZAUkmdgCYiJUDD0ytlGeInQGwJ+aBn0y9ABhIUP8YcMkCmCkYldaIuQPp+arx0syVAqaROQBNBJkBSSZ2AJiIlQMPTK2UZ4idAbAn5oGfTL0AGEhQ/xhwyQKYKRiV1oi5A+n5qvHSzJUCppE5AE0EmQFJJnYAmIiVAw9MrZRniJ0BsCfmgZ9MvQAYSFD/GHDJApgpGJXWiLkD6fmq8dLMlQKmkTkATQSZAUkmdgCYiJUDD0ytlGeInQA==",
            "dtype": "f8"
           },
           "legendgroup": "SR",
           "lon": {
            "bdata": "j8L1KFzvU0AFNBE2PMFTQFInoImw7VJAhXzQs1kRU0CDL0ymCqpTQPd14JwRKVJA1lbsL7vzU0CPwvUoXO9TQAU0ETY8wVNAUiegibDtUkCFfNCzWRFTQIMvTKYKqlNA93XgnBEpUkDWVuwvu/NTQI/C9Shc71NABTQRNjzBU0BSJ6CJsO1SQIV80LNZEVNAgy9MpgqqU0D3deCcESlSQNZW7C+781NAj8L1KFzvU0AFNBE2PMFTQFInoImw7VJAhXzQs1kRU0CDL0ymCqpTQPd14JwRKVJA1lbsL7vzU0CPwvUoXO9TQAU0ETY8wVNAUiegibDtUkCFfNCzWRFTQIMvTKYKqlNA93XgnBEpUkDWVuwvu/NTQA==",
            "dtype": "f8"
           },
           "marker": {
            "color": "#00cc96",
            "size": {
             "bdata": "SOF6FO69tEBI4XoUrp9kQB+F61H4aLpAPQrXo3AdV0CF61G4fifIQAAAAAAAAAAAAAAAAAAAAABI4XoULgOvQOF6FK7HiahA16NwPYp5uUBcj8L1KKRsQLgehetRgaxAMzMzMzMzwz97FK5H4XoYQJqZmZmZeWFAuB6F61E4QUDXo3A9CrOUQOF6FK5HNX5AKVyPwvV4YUAAAAAAAAAAAAAAAAAAAAAA9ihcj8I1XUCamZmZmblnQOF6FK5HR4xAH4XrUbgeOECuR+F6FKZzQAAAAAAAAAAAAAAAAAAAAAAK16NwPS+VQJqZmZkZTalAH4XrUTimukBxPQrXo82xQFyPwvWoM6NAAAAAAAAAAAAAAAAAAAAAAA==",
             "dtype": "f8"
            },
            "sizemode": "area",
            "sizeref": 102.0872,
            "symbol": "circle"
           },
           "mode": "markers",
           "name": "SR",
           "showlegend": true,
           "type": "scattergeo"
          },
          {
           "geo": "geo",
           "hovertemplate": "<b>%{hovertext}</b><br><br>Region=IS<br>Dates=2021-22<br>Generation=%{marker.size}<br>Latitude=%{lat}<br>Longitude=%{lon}<extra></extra>",
           "hovertext": [
            "Andaman Nicobar",
            "Andaman Nicobar",
            "Andaman Nicobar",
            "Andaman Nicobar",
            "Andaman Nicobar"
           ],
           "lat": {
            "bdata": "CYofY+56J0AJih9j7nonQAmKH2PueidACYofY+56J0AJih9j7nonQA==",
            "dtype": "f8"
           },
           "legendgroup": "IS",
           "lon": {
            "bdata": "UkmdgCYqV0BSSZ2AJipXQFJJnYAmKldAUkmdgCYqV0BSSZ2AJipXQA==",
            "dtype": "f8"
           },
           "marker": {
            "color": "#ab63fa",
            "size": {
             "bdata": "AAAAAAAAAAD2KFyPwnUjQGZmZmZmZhpAAAAAAAAAAAAAAAAAAAAAAA==",
             "dtype": "f8"
            },
            "sizemode": "area",
            "sizeref": 102.0872,
            "symbol": "circle"
           },
           "mode": "markers",
           "name": "IS",
           "showlegend": true,
           "type": "scattergeo"
          },
          {
           "geo": "geo",
           "hovertemplate": "<b>%{hovertext}</b><br><br>Region=ER<br>Dates=2021-22<br>Generation=%{marker.size}<br>Latitude=%{lat}<br>Longitude=%{lon}<extra></extra>",
           "hovertext": [
            "Bihar",
            "Jharkhand",
            "Odisha",
            "Sikkim",
            "West Bengal",
            "Bihar",
            "Jharkhand",
            "Odisha",
            "Sikkim",
            "West Bengal",
            "Bihar",
            "Jharkhand",
            "Odisha",
            "Sikkim",
            "West Bengal",
            "Bihar",
            "Jharkhand",
            "Odisha",
            "Sikkim",
            "West Bengal",
            "Bihar",
            "Jharkhand",
            "Odisha",
            "Sikkim",
            "West Bengal"
           ],
           "lat": {
            "bdata": "RiV1ApoYOUDqBDQRNpw3QGuad5yi8zRAnMQgsHKIO0Bbsb/snvw2QEYldQKaGDlA6gQ0ETacN0BrmnecovM0QJzEILByiDtAW7G/7J78NkBGJXUCmhg5QOoENBE2nDdAa5p3nKLzNECcxCCwcog7QFuxv+ye/DZARiV1ApoYOUDqBDQRNpw3QGuad5yi8zRAnMQgsHKIO0Bbsb/snvw2QEYldQKaGDlA6gQ0ETacN0BrmnecovM0QJzEILByiDtAW7G/7J78NkA=",
            "dtype": "f8"
           },
           "legendgroup": "ER",
           "lon": {
            "bdata": "KxiV1AlUVUCgibDh6VFVQPyp8dJNRlVAuECC4scgVkAfhetRuPZVQCsYldQJVFVAoImw4elRVUD8qfHSTUZVQLhAguLHIFZAH4XrUbj2VUArGJXUCVRVQKCJsOHpUVVA/Knx0k1GVUC4QILixyBWQB+F61G49lVAKxiV1AlUVUCgibDh6VFVQPyp8dJNRlVAuECC4scgVkAfhetRuPZVQCsYldQJVFVAoImw4elRVUD8qfHSTUZVQLhAguLHIFZAH4XrUbj2VUA=",
            "dtype": "f8"
           },
           "marker": {
            "color": "#FFA15A",
            "size": {
             "bdata": "AAAAAAAAAAAAAAAAAAAAAAAAAAAAAAAAAAAAAAAAAAAAAAAAAAAAAAAAAAAA8FNAUrgehevRIUCF61G4HqVxQAAAAAAAAAAAzczMzMyMSECkcD0K16MQQEjhehSuR9E/XI/C9Si0a0C4HoXrUbgYQPYoXI/C5VdAH4XrUbgeAUAAAAAAAAAAAOF6FK5HoUlAAAAAAAAAAADhehSuR1OHQAAAAAAAAAAApHA9Ctdbd0A9CtejcOWmQK5H4XpUtb9AXI/C9SjxnkA=",
             "dtype": "f8"
            },
            "sizemode": "area",
            "sizeref": 102.0872,
            "symbol": "circle"
           },
           "mode": "markers",
           "name": "ER",
           "showlegend": true,
           "type": "scattergeo"
          },
          {
           "geo": "geo",
           "hovertemplate": "<b>%{hovertext}</b><br><br>Region=NER<br>Dates=2021-22<br>Generation=%{marker.size}<br>Latitude=%{lat}<br>Longitude=%{lon}<extra></extra>",
           "hovertext": [
            "Arunachal Pradesh",
            "Assam",
            "Manipur",
            "Meghalaya",
            "Mizoram",
            "Nagaland",
            "Tripura",
            "Arunachal Pradesh",
            "Assam",
            "Manipur",
            "Meghalaya",
            "Mizoram",
            "Nagaland",
            "Tripura",
            "Arunachal Pradesh",
            "Assam",
            "Manipur",
            "Meghalaya",
            "Mizoram",
            "Nagaland",
            "Tripura",
            "Arunachal Pradesh",
            "Assam",
            "Manipur",
            "Meghalaya",
            "Mizoram",
            "Nagaland",
            "Tripura",
            "Arunachal Pradesh",
            "Assam",
            "Manipur",
            "Meghalaya",
            "Mizoram",
            "Nagaland",
            "Tripura"
           ],
           "lat": {
            "bdata": "K4cW2c43PEDek4eFWjM6QO5aQj7oqThAZDvfT413OUAnMQisHCo3QLivA+eMKDpAqRPQRNjwN0ArhxbZzjc8QN6Th4VaMzpA7lpCPuipOEBkO99PjXc5QCcxCKwcKjdAuK8D54woOkCpE9BE2PA3QCuHFtnONzxA3pOHhVozOkDuWkI+6Kk4QGQ730+NdzlAJzEIrBwqN0C4rwPnjCg6QKkT0ETY8DdAK4cW2c43PEDek4eFWjM6QO5aQj7oqThAZDvfT413OUAnMQisHCo3QLivA+eMKDpAqRPQRNjwN0ArhxbZzjc8QN6Th4VaMzpA7lpCPuipOEBkO99PjXc5QCcxCKwcKjdAuK8D54woOkCpE9BE2PA3QA==",
            "dtype": "f8"
           },
           "legendgroup": "NER",
           "lon": {
            "bdata": "2IFzRpSuV0CyLm6jATxXQFkXt9EAeldA5fIf0m/XVkCyLm6jATxXQE7RkVz+o1dAEHo2qz7/VkDYgXNGlK5XQLIubqMBPFdAWRe30QB6V0Dl8h/Sb9dWQLIubqMBPFdATtGRXP6jV0AQejarPv9WQNiBc0aUrldAsi5uowE8V0BZF7fRAHpXQOXyH9Jv11ZAsi5uowE8V0BO0ZFc/qNXQBB6Nqs+/1ZA2IFzRpSuV0CyLm6jATxXQFkXt9EAeldA5fIf0m/XVkCyLm6jATxXQE7RkVz+o1dAEHo2qz7/VkDYgXNGlK5XQLIubqMBPFdAWRe30QB6V0Dl8h/Sb9dWQLIubqMBPFdATtGRXP6jV0AQejarPv9WQA==",
            "dtype": "f8"
           },
           "marker": {
            "color": "#19d3f3",
            "size": {
             "bdata": "AAAAAAAAAAAAAAAAAAAAAAAAAAAAAAAAAAAAAAAAAAAAAAAAAAAAAAAAAAAAAAAAAAAAAAAAAAB7FK5H4XrsP8P1KFyPwj5AXI/C9ShcC0AAAAAAAAAAALgehetRuPI/AAAAAAAAAAD2KFyPwvUGQOxRuB6F68E/4XoUrkehNkAAAAAAAAAAAAAAAAAAwDVAw/UoXI/CH0CkcD0K1+M+QArXo3A9Cvc/AAAAAAAAAAAAAAAAAAAAAAAAAAAAAAAAAAAAAAAAAAAAAAAAAAAAAAAAAAAAAAAAAAAAAAAAAAD2KFyPQiWlQKRwPQrXA31AmpmZmZmdcECamZmZmZOBQJqZmZmZ2UNAFK5H4XqEUUAAAAAAAAAAAA==",
             "dtype": "f8"
            },
            "sizemode": "area",
            "sizeref": 102.0872,
            "symbol": "circle"
           },
           "mode": "markers",
           "name": "NER",
           "showlegend": true,
           "type": "scattergeo"
          }
         ],
         "name": "2021-22"
        },
        {
         "data": [
          {
           "geo": "geo",
           "hovertemplate": "<b>%{hovertext}</b><br><br>Region=NR<br>Dates=2022-23<br>Generation=%{marker.size}<br>Latitude=%{lat}<br>Longitude=%{lon}<extra></extra>",
           "hovertext": [
            "Chandigarh",
            "Delhi",
            "Haryana",
            "Himachal Pradesh",
            "Jammu and Kashmir",
            "Ladkh",
            "Punjab",
            "Uttar Pradesh",
            "Uttarakhand",
            "Chandigarh",
            "Delhi",
            "Haryana",
            "Himachal Pradesh",
            "Jammu and Kashmir",
            "Ladkh",
            "Punjab",
            "Uttar Pradesh",
            "Uttarakhand",
            "Chandigarh",
            "Delhi",
            "Haryana",
            "Himachal Pradesh",
            "Jammu and Kashmir",
            "Ladkh",
            "Punjab",
            "Uttar Pradesh",
            "Uttarakhand",
            "Chandigarh",
            "Delhi",
            "Haryana",
            "Himachal Pradesh",
            "Jammu and Kashmir",
            "Ladkh",
            "Punjab",
            "Uttar Pradesh",
            "Uttarakhand",
            "Chandigarh",
            "Delhi",
            "Haryana",
            "Himachal Pradesh",
            "Jammu and Kashmir",
            "Ladkh",
            "Punjab",
            "Uttar Pradesh",
            "Uttarakhand"
           ],
           "lat": {
            "bdata": "JCh+jLm7PkAVHcnlP7Q8QDsBTYQNDz1A7Z48LNQaP0Ck374OnONAQE+vlGWIE0FA2T15WKglP0DwhclUwdg6QHBfB84ZET5AJCh+jLm7PkAVHcnlP7Q8QDsBTYQNDz1A7Z48LNQaP0Ck374OnONAQE+vlGWIE0FA2T15WKglP0DwhclUwdg6QHBfB84ZET5AJCh+jLm7PkAVHcnlP7Q8QDsBTYQNDz1A7Z48LNQaP0Ck374OnONAQE+vlGWIE0FA2T15WKglP0DwhclUwdg6QHBfB84ZET5AJCh+jLm7PkAVHcnlP7Q8QDsBTYQNDz1A7Z48LNQaP0Ck374OnONAQE+vlGWIE0FA2T15WKglP0DwhclUwdg6QHBfB84ZET5AJCh+jLm7PkAVHcnlP7Q8QDsBTYQNDz1A7Z48LNQaP0Ck374OnONAQE+vlGWIE0FA2T15WKglP0DwhclUwdg6QHBfB84ZET5A",
            "dtype": "f8"
           },
           "legendgroup": "NR",
           "lon": {
            "bdata": "J6CJsOExU0DD9Shcj0ZTQGgibHh6BVNAF0hQ/BhLU0Ai/fZ14CRTQGKh1jTvZFNAS1mGONbVUkBq3nGKjjxUQAU0ETY8wVNAJ6CJsOExU0DD9Shcj0ZTQGgibHh6BVNAF0hQ/BhLU0Ai/fZ14CRTQGKh1jTvZFNAS1mGONbVUkBq3nGKjjxUQAU0ETY8wVNAJ6CJsOExU0DD9Shcj0ZTQGgibHh6BVNAF0hQ/BhLU0Ai/fZ14CRTQGKh1jTvZFNAS1mGONbVUkBq3nGKjjxUQAU0ETY8wVNAJ6CJsOExU0DD9Shcj0ZTQGgibHh6BVNAF0hQ/BhLU0Ai/fZ14CRTQGKh1jTvZFNAS1mGONbVUkBq3nGKjjxUQAU0ETY8wVNAJ6CJsOExU0DD9Shcj0ZTQGgibHh6BVNAF0hQ/BhLU0Ai/fZ14CRTQGKh1jTvZFNAS1mGONbVUkBq3nGKjjxUQAU0ETY8wVNA",
            "dtype": "f8"
           },
           "marker": {
            "color": "#636efa",
            "size": {
             "bdata": "AAAAAAAAAAAAAAAAAAAAAAAAAAAAAAAAAAAAAAAAAAAAAAAAAAAAAAAAAAAAAAAAAAAAAAAAAAAAAAAAAAAAAAAAAAAAAAAAuB6F61E4KUDsUbgehYNtQJqZmZmZWYFA4XoUrkdhTUAAAAAAAAAAAAAAAAAAAAAAuB6F61G1pUDXo3A9CrSsQM3MzMzMvHRAAAAAAAAAAAAAAAAAAAAAAM3MzMzMPG5AexSuR2FMpkAzMzMzM5N4QAAAAAAAAAAApHA9CtdThUCuR+F6FFZtQGZmZmZmFnZAAAAAAAAAAAAAAAAAAAAAAIXrUbgeQXZAAAAAAAAAAAAAAAAAAAAAAAAAAAAAAAAAexSuR+Eaf0BmZmZmZpZQQAAAAAAAAAAAAAAAAAAAAAAAAAAAAAAAAAAAAAAAAAAAw/UoXF/h4kAUrkfhWmLQQBSuR+F6LHlAZmZmZqYvsUC4HoXrUXCOQPYoXI/iJc5A",
             "dtype": "f8"
            },
            "sizemode": "area",
            "sizeref": 102.0872,
            "symbol": "circle"
           },
           "mode": "markers",
           "name": "NR",
           "showlegend": true,
           "type": "scattergeo"
          },
          {
           "geo": "geo",
           "hovertemplate": "<b>%{hovertext}</b><br><br>Region=WR<br>Dates=2022-23<br>Generation=%{marker.size}<br>Latitude=%{lat}<br>Longitude=%{lon}<extra></extra>",
           "hovertext": [
            "Rajasthan",
            "Chhattisgarh",
            "Gujarat",
            "Madhya Pradesh",
            "Maharashtra",
            "Goa",
            "Dadra and Nagar Haveli",
            "Daman and Diu",
            "Rajasthan",
            "Chhattisgarh",
            "Gujarat",
            "Madhya Pradesh",
            "Maharashtra",
            "Goa",
            "Dadra and Nagar Haveli",
            "Daman and Diu",
            "Rajasthan",
            "Chhattisgarh",
            "Gujarat",
            "Madhya Pradesh",
            "Maharashtra",
            "Goa",
            "Dadra and Nagar Haveli",
            "Daman and Diu",
            "Rajasthan",
            "Chhattisgarh",
            "Gujarat",
            "Madhya Pradesh",
            "Maharashtra",
            "Goa",
            "Dadra and Nagar Haveli",
            "Daman and Diu",
            "Rajasthan",
            "Chhattisgarh",
            "Gujarat",
            "Madhya Pradesh",
            "Maharashtra",
            "Goa",
            "Dadra and Nagar Haveli",
            "Daman and Diu"
           ],
           "lat": {
            "bdata": "EqW9wRcGO0AsZRniWEc1QKd5xyk6QjZAKe0NvjD5NkCq8dJNYsAzQLdif9k9mS5Arthfdk8uNEB24JwRpW00QBKlvcEXBjtALGUZ4lhHNUCneccpOkI2QCntDb4w+TZAqvHSTWLAM0C3Yn/ZPZkuQK7YX3ZPLjRAduCcEaVtNEASpb3BFwY7QCxlGeJYRzVAp3nHKTpCNkAp7Q2+MPk2QKrx0k1iwDNAt2J/2T2ZLkCu2F92Ty40QHbgnBGlbTRAEqW9wRcGO0AsZRniWEc1QKd5xyk6QjZAKe0NvjD5NkCq8dJNYsAzQLdif9k9mS5Arthfdk8uNEB24JwRpW00QBKlvcEXBjtALGUZ4lhHNUCneccpOkI2QCntDb4w+TZAqvHSTWLAM0C3Yn/ZPZkuQK7YX3ZPLjRAduCcEaVtNEA=",
            "dtype": "f8"
           },
           "legendgroup": "WR",
           "lon": {
            "bdata": "GXPXEvKNUkAzxLEubndUQAfwFkhQzFFAgy9MpgqqU0BSJ6CJsO1SQA4tsp3vh1JAW9O84xRBUkDgnBGlvTVSQBlz1xLyjVJAM8SxLm53VEAH8BZIUMxRQIMvTKYKqlNAUiegibDtUkAOLbKd74dSQFvTvOMUQVJA4JwRpb01UkAZc9cS8o1SQDPEsS5ud1RAB/AWSFDMUUCDL0ymCqpTQFInoImw7VJADi2yne+HUkBb07zjFEFSQOCcEaW9NVJAGXPXEvKNUkAzxLEubndUQAfwFkhQzFFAgy9MpgqqU0BSJ6CJsO1SQA4tsp3vh1JAW9O84xRBUkDgnBGlvTVSQBlz1xLyjVJAM8SxLm53VEAH8BZIUMxRQIMvTKYKqlNAUiegibDtUkAOLbKd74dSQFvTvOMUQVJA4JwRpb01UkA=",
            "dtype": "f8"
           },
           "marker": {
            "color": "#EF553B",
            "size": {
             "bdata": "XI/C9Wjft0AAAAAAAAAAAEjhehSOwdJAH4XrUbiGsUDD9ShcD0u8QAAAAAAAAAAAAAAAAAAAAAAAAAAAAAAAAClcj8JN1eBAj8L1KFzbg0Bcj8L1qC/EQJqZmZmZ/q1AmpmZmdkjsUA9CtejcL0tQGZmZmZmZjtAZmZmZmZmO0CuR+F6FK4cQD0K16NwfWNAMzMzMzOjakDsUbgehV92QKRwPQrX9YdAAAAAAAAAAAAAAAAAAAAAAAAAAAAAAAAAzczMzMzQeEBmZmZmZqqSQAAAAAAAAAAA4XoUrkdhQ0CPwvUoXI9tQAAAAAAAAAAAw/UoXI/CCUDD9Shcj8IJQD0K16NwO45ApHA9CterbUBxPQrXI/W3QLgehesRjbxA16NwPUoGt0AAAAAAAAAAAAAAAAAAAAAAAAAAAAAAAAA=",
             "dtype": "f8"
            },
            "sizemode": "area",
            "sizeref": 102.0872,
            "symbol": "circle"
           },
           "mode": "markers",
           "name": "WR",
           "showlegend": true,
           "type": "scattergeo"
          },
          {
           "geo": "geo",
           "hovertemplate": "<b>%{hovertext}</b><br><br>Region=SR<br>Dates=2022-23<br>Generation=%{marker.size}<br>Latitude=%{lat}<br>Longitude=%{lon}<extra></extra>",
           "hovertext": [
            "Andhra Pradesh",
            "Telangana",
            "Karnataka",
            "Kerala",
            "Tamil Nadu",
            "Lakshadweep",
            "Puducherry",
            "Andhra Pradesh",
            "Telangana",
            "Karnataka",
            "Kerala",
            "Tamil Nadu",
            "Lakshadweep",
            "Puducherry",
            "Andhra Pradesh",
            "Telangana",
            "Karnataka",
            "Kerala",
            "Tamil Nadu",
            "Lakshadweep",
            "Puducherry",
            "Andhra Pradesh",
            "Telangana",
            "Karnataka",
            "Kerala",
            "Tamil Nadu",
            "Lakshadweep",
            "Puducherry",
            "Andhra Pradesh",
            "Telangana",
            "Karnataka",
            "Kerala",
            "Tamil Nadu",
            "Lakshadweep",
            "Puducherry"
           ],
           "lat": {
            "bdata": "bAn5oGfTL0AGEhQ/xhwyQKYKRiV1oi5A+n5qvHSzJUCppE5AE0EmQFJJnYAmIiVAw9MrZRniJ0BsCfmgZ9MvQAYSFD/GHDJApgpGJXWiLkD6fmq8dLMlQKmkTkATQSZAUkmdgCYiJUDD0ytlGeInQGwJ+aBn0y9ABhIUP8YcMkCmCkYldaIuQPp+arx0syVAqaROQBNBJkBSSZ2AJiIlQMPTK2UZ4idAbAn5oGfTL0AGEhQ/xhwyQKYKRiV1oi5A+n5qvHSzJUCppE5AE0EmQFJJnYAmIiVAw9MrZRniJ0BsCfmgZ9MvQAYSFD/GHDJApgpGJXWiLkD6fmq8dLMlQKmkTkATQSZAUkmdgCYiJUDD0ytlGeInQA==",
            "dtype": "f8"
           },
           "legendgroup": "SR",
           "lon": {
            "bdata": "j8L1KFzvU0AFNBE2PMFTQFInoImw7VJAhXzQs1kRU0CDL0ymCqpTQPd14JwRKVJA1lbsL7vzU0CPwvUoXO9TQAU0ETY8wVNAUiegibDtUkCFfNCzWRFTQIMvTKYKqlNA93XgnBEpUkDWVuwvu/NTQI/C9Shc71NABTQRNjzBU0BSJ6CJsO1SQIV80LNZEVNAgy9MpgqqU0D3deCcESlSQNZW7C+781NAj8L1KFzvU0AFNBE2PMFTQFInoImw7VJAhXzQs1kRU0CDL0ymCqpTQPd14JwRKVJA1lbsL7vzU0CPwvUoXO9TQAU0ETY8wVNAUiegibDtUkCFfNCzWRFTQIMvTKYKqlNA93XgnBEpUkDWVuwvu/NTQA==",
            "dtype": "f8"
           },
           "marker": {
            "color": "#00cc96",
            "size": {
             "bdata": "KVyPwnUCvUBI4XoUrnNxQLgehevxd8NACtejcD1qZkBmZmZmdoTQQAAAAAAAAAAAAAAAAAAAAAAfhetRuMy/QClcj8J1WbpA7FG4HuWky0AAAAAAAH6LQLgeheuxZcJAmpmZmZmZuT97FK5H4XooQGZmZmZmrnlAPQrXo3DtVkCamZmZGQuiQB+F61G4wolAj8L1KFyLckAAAAAAAAAAAAAAAAAAAAAArkfhehRuS0B7FK5H4Xo1QJqZmZmZuVpAAAAAAAAAAADsUbgehbtfQAAAAAAAAAAAAAAAAAAAAABcj8L1KEetQLgehesRerdAUrgehauyyUAAAAAAADW/QOxRuB7FTbdAAAAAAAAAAAAAAAAAAAAAAA==",
             "dtype": "f8"
            },
            "sizemode": "area",
            "sizeref": 102.0872,
            "symbol": "circle"
           },
           "mode": "markers",
           "name": "SR",
           "showlegend": true,
           "type": "scattergeo"
          },
          {
           "geo": "geo",
           "hovertemplate": "<b>%{hovertext}</b><br><br>Region=IS<br>Dates=2022-23<br>Generation=%{marker.size}<br>Latitude=%{lat}<br>Longitude=%{lon}<extra></extra>",
           "hovertext": [
            "Andaman Nicobar",
            "Andaman Nicobar",
            "Andaman Nicobar",
            "Andaman Nicobar",
            "Andaman Nicobar"
           ],
           "lat": {
            "bdata": "CYofY+56J0AJih9j7nonQAmKH2PueidACYofY+56J0AJih9j7nonQA==",
            "dtype": "f8"
           },
           "legendgroup": "IS",
           "lon": {
            "bdata": "UkmdgCYqV0BSSZ2AJipXQFJJnYAmKldAUkmdgCYqV0BSSZ2AJipXQA==",
            "dtype": "f8"
           },
           "marker": {
            "color": "#ab63fa",
            "size": {
             "bdata": "AAAAAAAAAABxPQrXo/A3QOF6FK5H4StAAAAAAAAAAAAAAAAAAAAAAA==",
             "dtype": "f8"
            },
            "sizemode": "area",
            "sizeref": 102.0872,
            "symbol": "circle"
           },
           "mode": "markers",
           "name": "IS",
           "showlegend": true,
           "type": "scattergeo"
          },
          {
           "geo": "geo",
           "hovertemplate": "<b>%{hovertext}</b><br><br>Region=ER<br>Dates=2022-23<br>Generation=%{marker.size}<br>Latitude=%{lat}<br>Longitude=%{lon}<extra></extra>",
           "hovertext": [
            "Bihar",
            "Jharkhand",
            "Odisha",
            "Sikkim",
            "West Bengal",
            "Bihar",
            "Jharkhand",
            "Odisha",
            "Sikkim",
            "West Bengal",
            "Bihar",
            "Jharkhand",
            "Odisha",
            "Sikkim",
            "West Bengal",
            "Bihar",
            "Jharkhand",
            "Odisha",
            "Sikkim",
            "West Bengal",
            "Bihar",
            "Jharkhand",
            "Odisha",
            "Sikkim",
            "West Bengal"
           ],
           "lat": {
            "bdata": "RiV1ApoYOUDqBDQRNpw3QGuad5yi8zRAnMQgsHKIO0Bbsb/snvw2QEYldQKaGDlA6gQ0ETacN0BrmnecovM0QJzEILByiDtAW7G/7J78NkBGJXUCmhg5QOoENBE2nDdAa5p3nKLzNECcxCCwcog7QFuxv+ye/DZARiV1ApoYOUDqBDQRNpw3QGuad5yi8zRAnMQgsHKIO0Bbsb/snvw2QEYldQKaGDlA6gQ0ETacN0BrmnecovM0QJzEILByiDtAW7G/7J78NkA=",
            "dtype": "f8"
           },
           "legendgroup": "ER",
           "lon": {
            "bdata": "KxiV1AlUVUCgibDh6VFVQPyp8dJNRlVAuECC4scgVkAfhetRuPZVQCsYldQJVFVAoImw4elRVUD8qfHSTUZVQLhAguLHIFZAH4XrUbj2VUArGJXUCVRVQKCJsOHpUVVA/Knx0k1GVUC4QILixyBWQB+F61G49lVAKxiV1AlUVUCgibDh6VFVQPyp8dJNRlVAuECC4scgVkAfhetRuPZVQCsYldQJVFVAoImw4elRVUD8qfHSTUZVQLhAguLHIFZAH4XrUbj2VUA=",
            "dtype": "f8"
           },
           "marker": {
            "color": "#FFA15A",
            "size": {
             "bdata": "AAAAAAAAAAAAAAAAAAAAAAAAAAAAAAAAAAAAAAAAAAAAAAAAAAAAAClcj8L1MGVAMzMzMzOzM0BSuB6F6xGGQAAAAAAAAAAAw/UoXI9CX0DD9Shcj0IpQAAAAAAAAAAAH4XrUbiOekAzMzMzM7MoQK5H4XoUjmlAAAAAAAAAAAAAAAAAAAAAAJqZmZmZeU5AAAAAAAAAAAAAAAAAAAAAAAAAAAAAAAAA7FG4HoUXc0DD9Shcz1a1QOxRuB5l2MZAKVyPwnW/qkA=",
             "dtype": "f8"
            },
            "sizemode": "area",
            "sizeref": 102.0872,
            "symbol": "circle"
           },
           "mode": "markers",
           "name": "ER",
           "showlegend": true,
           "type": "scattergeo"
          },
          {
           "geo": "geo",
           "hovertemplate": "<b>%{hovertext}</b><br><br>Region=NER<br>Dates=2022-23<br>Generation=%{marker.size}<br>Latitude=%{lat}<br>Longitude=%{lon}<extra></extra>",
           "hovertext": [
            "Arunachal Pradesh",
            "Assam",
            "Manipur",
            "Meghalaya",
            "Mizoram",
            "Nagaland",
            "Tripura",
            "Arunachal Pradesh",
            "Assam",
            "Manipur",
            "Meghalaya",
            "Mizoram",
            "Nagaland",
            "Tripura",
            "Arunachal Pradesh",
            "Assam",
            "Manipur",
            "Meghalaya",
            "Mizoram",
            "Nagaland",
            "Tripura",
            "Arunachal Pradesh",
            "Assam",
            "Manipur",
            "Meghalaya",
            "Mizoram",
            "Nagaland",
            "Tripura",
            "Arunachal Pradesh",
            "Assam",
            "Manipur",
            "Meghalaya",
            "Mizoram",
            "Nagaland",
            "Tripura"
           ],
           "lat": {
            "bdata": "K4cW2c43PEDek4eFWjM6QO5aQj7oqThAZDvfT413OUAnMQisHCo3QLivA+eMKDpAqRPQRNjwN0ArhxbZzjc8QN6Th4VaMzpA7lpCPuipOEBkO99PjXc5QCcxCKwcKjdAuK8D54woOkCpE9BE2PA3QCuHFtnONzxA3pOHhVozOkDuWkI+6Kk4QGQ730+NdzlAJzEIrBwqN0C4rwPnjCg6QKkT0ETY8DdAK4cW2c43PEDek4eFWjM6QO5aQj7oqThAZDvfT413OUAnMQisHCo3QLivA+eMKDpAqRPQRNjwN0ArhxbZzjc8QN6Th4VaMzpA7lpCPuipOEBkO99PjXc5QCcxCKwcKjdAuK8D54woOkCpE9BE2PA3QA==",
            "dtype": "f8"
           },
           "legendgroup": "NER",
           "lon": {
            "bdata": "2IFzRpSuV0CyLm6jATxXQFkXt9EAeldA5fIf0m/XVkCyLm6jATxXQE7RkVz+o1dAEHo2qz7/VkDYgXNGlK5XQLIubqMBPFdAWRe30QB6V0Dl8h/Sb9dWQLIubqMBPFdATtGRXP6jV0AQejarPv9WQNiBc0aUrldAsi5uowE8V0BZF7fRAHpXQOXyH9Jv11ZAsi5uowE8V0BO0ZFc/qNXQBB6Nqs+/1ZA2IFzRpSuV0CyLm6jATxXQFkXt9EAeldA5fIf0m/XVkCyLm6jATxXQE7RkVz+o1dAEHo2qz7/VkDYgXNGlK5XQLIubqMBPFdAWRe30QB6V0Dl8h/Sb9dWQLIubqMBPFdATtGRXP6jV0AQejarPv9WQA==",
            "dtype": "f8"
           },
           "marker": {
            "color": "#19d3f3",
            "size": {
             "bdata": "AAAAAAAAAAAAAAAAAAAAAAAAAAAAAAAAAAAAAAAAAAAAAAAAAAAAAAAAAAAAAAAAAAAAAAAAAACF61G4HkU2QDMzMzMzC2tA16NwPQpXIEAAAAAAAAAAAK5H4XoUrglAAAAAAAAAAABSuB6F61EaQGZmZmZmZgRAFK5H4XpUT0AAAAAAAAAAAClcj8L16FFASOF6FK6HTUDNzMzMzPxbQAAAAAAAAAAAAAAAAAAAAAAAAAAAAAAAAAAAAAAAAAAAAAAAAAAAAAAAAAAAAAAAAAAAAAAAAAAAAAAAAAAAAAA9Ctej8NSyQJqZmZmZGX5ASOF6FK7ffUAAAAAAAKKOQFyPwvUohGlApHA9CtcrZkAAAAAAAAAAAA==",
             "dtype": "f8"
            },
            "sizemode": "area",
            "sizeref": 102.0872,
            "symbol": "circle"
           },
           "mode": "markers",
           "name": "NER",
           "showlegend": true,
           "type": "scattergeo"
          }
         ],
         "name": "2022-23"
        }
       ],
       "layout": {
        "geo": {
         "center": {},
         "countrycolor": "Black",
         "domain": {
          "x": [
           0,
           1
          ],
          "y": [
           0,
           1
          ]
         },
         "lakecolor": "lightblue",
         "landcolor": "lightgray",
         "lataxis": {
          "range": [
           6,
           38
          ]
         },
         "lonaxis": {
          "range": [
           68,
           98
          ]
         },
         "projection": {
          "type": "natural earth"
         },
         "scope": "asia",
         "showcountries": true,
         "showlakes": true,
         "showland": true,
         "showocean": false,
         "subunitcolor": "black"
        },
        "legend": {
         "itemsizing": "constant",
         "title": {
          "text": "Region"
         },
         "tracegroupgap": 0
        },
        "sliders": [
         {
          "active": 0,
          "currentvalue": {
           "prefix": "Dates="
          },
          "len": 0.9,
          "pad": {
           "b": 10,
           "t": 60
          },
          "steps": [
           {
            "args": [
             [
              "2017-18"
             ],
             {
              "frame": {
               "duration": 0,
               "redraw": true
              },
              "fromcurrent": true,
              "mode": "immediate",
              "transition": {
               "duration": 0,
               "easing": "linear"
              }
             }
            ],
            "label": "2017-18",
            "method": "animate"
           },
           {
            "args": [
             [
              "2018-19"
             ],
             {
              "frame": {
               "duration": 0,
               "redraw": true
              },
              "fromcurrent": true,
              "mode": "immediate",
              "transition": {
               "duration": 0,
               "easing": "linear"
              }
             }
            ],
            "label": "2018-19",
            "method": "animate"
           },
           {
            "args": [
             [
              "2019-20"
             ],
             {
              "frame": {
               "duration": 0,
               "redraw": true
              },
              "fromcurrent": true,
              "mode": "immediate",
              "transition": {
               "duration": 0,
               "easing": "linear"
              }
             }
            ],
            "label": "2019-20",
            "method": "animate"
           },
           {
            "args": [
             [
              "2020-21"
             ],
             {
              "frame": {
               "duration": 0,
               "redraw": true
              },
              "fromcurrent": true,
              "mode": "immediate",
              "transition": {
               "duration": 0,
               "easing": "linear"
              }
             }
            ],
            "label": "2020-21",
            "method": "animate"
           },
           {
            "args": [
             [
              "2021-22"
             ],
             {
              "frame": {
               "duration": 0,
               "redraw": true
              },
              "fromcurrent": true,
              "mode": "immediate",
              "transition": {
               "duration": 0,
               "easing": "linear"
              }
             }
            ],
            "label": "2021-22",
            "method": "animate"
           },
           {
            "args": [
             [
              "2022-23"
             ],
             {
              "frame": {
               "duration": 0,
               "redraw": true
              },
              "fromcurrent": true,
              "mode": "immediate",
              "transition": {
               "duration": 0,
               "easing": "linear"
              }
             }
            ],
            "label": "2022-23",
            "method": "animate"
           }
          ],
          "x": 0.1,
          "xanchor": "left",
          "y": 0,
          "yanchor": "top"
         }
        ],
        "template": {
         "data": {
          "bar": [
           {
            "error_x": {
             "color": "#2a3f5f"
            },
            "error_y": {
             "color": "#2a3f5f"
            },
            "marker": {
             "line": {
              "color": "#E5ECF6",
              "width": 0.5
             },
             "pattern": {
              "fillmode": "overlay",
              "size": 10,
              "solidity": 0.2
             }
            },
            "type": "bar"
           }
          ],
          "barpolar": [
           {
            "marker": {
             "line": {
              "color": "#E5ECF6",
              "width": 0.5
             },
             "pattern": {
              "fillmode": "overlay",
              "size": 10,
              "solidity": 0.2
             }
            },
            "type": "barpolar"
           }
          ],
          "carpet": [
           {
            "aaxis": {
             "endlinecolor": "#2a3f5f",
             "gridcolor": "white",
             "linecolor": "white",
             "minorgridcolor": "white",
             "startlinecolor": "#2a3f5f"
            },
            "baxis": {
             "endlinecolor": "#2a3f5f",
             "gridcolor": "white",
             "linecolor": "white",
             "minorgridcolor": "white",
             "startlinecolor": "#2a3f5f"
            },
            "type": "carpet"
           }
          ],
          "choropleth": [
           {
            "colorbar": {
             "outlinewidth": 0,
             "ticks": ""
            },
            "type": "choropleth"
           }
          ],
          "contour": [
           {
            "colorbar": {
             "outlinewidth": 0,
             "ticks": ""
            },
            "colorscale": [
             [
              0,
              "#0d0887"
             ],
             [
              0.1111111111111111,
              "#46039f"
             ],
             [
              0.2222222222222222,
              "#7201a8"
             ],
             [
              0.3333333333333333,
              "#9c179e"
             ],
             [
              0.4444444444444444,
              "#bd3786"
             ],
             [
              0.5555555555555556,
              "#d8576b"
             ],
             [
              0.6666666666666666,
              "#ed7953"
             ],
             [
              0.7777777777777778,
              "#fb9f3a"
             ],
             [
              0.8888888888888888,
              "#fdca26"
             ],
             [
              1,
              "#f0f921"
             ]
            ],
            "type": "contour"
           }
          ],
          "contourcarpet": [
           {
            "colorbar": {
             "outlinewidth": 0,
             "ticks": ""
            },
            "type": "contourcarpet"
           }
          ],
          "heatmap": [
           {
            "colorbar": {
             "outlinewidth": 0,
             "ticks": ""
            },
            "colorscale": [
             [
              0,
              "#0d0887"
             ],
             [
              0.1111111111111111,
              "#46039f"
             ],
             [
              0.2222222222222222,
              "#7201a8"
             ],
             [
              0.3333333333333333,
              "#9c179e"
             ],
             [
              0.4444444444444444,
              "#bd3786"
             ],
             [
              0.5555555555555556,
              "#d8576b"
             ],
             [
              0.6666666666666666,
              "#ed7953"
             ],
             [
              0.7777777777777778,
              "#fb9f3a"
             ],
             [
              0.8888888888888888,
              "#fdca26"
             ],
             [
              1,
              "#f0f921"
             ]
            ],
            "type": "heatmap"
           }
          ],
          "histogram": [
           {
            "marker": {
             "pattern": {
              "fillmode": "overlay",
              "size": 10,
              "solidity": 0.2
             }
            },
            "type": "histogram"
           }
          ],
          "histogram2d": [
           {
            "colorbar": {
             "outlinewidth": 0,
             "ticks": ""
            },
            "colorscale": [
             [
              0,
              "#0d0887"
             ],
             [
              0.1111111111111111,
              "#46039f"
             ],
             [
              0.2222222222222222,
              "#7201a8"
             ],
             [
              0.3333333333333333,
              "#9c179e"
             ],
             [
              0.4444444444444444,
              "#bd3786"
             ],
             [
              0.5555555555555556,
              "#d8576b"
             ],
             [
              0.6666666666666666,
              "#ed7953"
             ],
             [
              0.7777777777777778,
              "#fb9f3a"
             ],
             [
              0.8888888888888888,
              "#fdca26"
             ],
             [
              1,
              "#f0f921"
             ]
            ],
            "type": "histogram2d"
           }
          ],
          "histogram2dcontour": [
           {
            "colorbar": {
             "outlinewidth": 0,
             "ticks": ""
            },
            "colorscale": [
             [
              0,
              "#0d0887"
             ],
             [
              0.1111111111111111,
              "#46039f"
             ],
             [
              0.2222222222222222,
              "#7201a8"
             ],
             [
              0.3333333333333333,
              "#9c179e"
             ],
             [
              0.4444444444444444,
              "#bd3786"
             ],
             [
              0.5555555555555556,
              "#d8576b"
             ],
             [
              0.6666666666666666,
              "#ed7953"
             ],
             [
              0.7777777777777778,
              "#fb9f3a"
             ],
             [
              0.8888888888888888,
              "#fdca26"
             ],
             [
              1,
              "#f0f921"
             ]
            ],
            "type": "histogram2dcontour"
           }
          ],
          "mesh3d": [
           {
            "colorbar": {
             "outlinewidth": 0,
             "ticks": ""
            },
            "type": "mesh3d"
           }
          ],
          "parcoords": [
           {
            "line": {
             "colorbar": {
              "outlinewidth": 0,
              "ticks": ""
             }
            },
            "type": "parcoords"
           }
          ],
          "pie": [
           {
            "automargin": true,
            "type": "pie"
           }
          ],
          "scatter": [
           {
            "fillpattern": {
             "fillmode": "overlay",
             "size": 10,
             "solidity": 0.2
            },
            "type": "scatter"
           }
          ],
          "scatter3d": [
           {
            "line": {
             "colorbar": {
              "outlinewidth": 0,
              "ticks": ""
             }
            },
            "marker": {
             "colorbar": {
              "outlinewidth": 0,
              "ticks": ""
             }
            },
            "type": "scatter3d"
           }
          ],
          "scattercarpet": [
           {
            "marker": {
             "colorbar": {
              "outlinewidth": 0,
              "ticks": ""
             }
            },
            "type": "scattercarpet"
           }
          ],
          "scattergeo": [
           {
            "marker": {
             "colorbar": {
              "outlinewidth": 0,
              "ticks": ""
             }
            },
            "type": "scattergeo"
           }
          ],
          "scattergl": [
           {
            "marker": {
             "colorbar": {
              "outlinewidth": 0,
              "ticks": ""
             }
            },
            "type": "scattergl"
           }
          ],
          "scattermap": [
           {
            "marker": {
             "colorbar": {
              "outlinewidth": 0,
              "ticks": ""
             }
            },
            "type": "scattermap"
           }
          ],
          "scattermapbox": [
           {
            "marker": {
             "colorbar": {
              "outlinewidth": 0,
              "ticks": ""
             }
            },
            "type": "scattermapbox"
           }
          ],
          "scatterpolar": [
           {
            "marker": {
             "colorbar": {
              "outlinewidth": 0,
              "ticks": ""
             }
            },
            "type": "scatterpolar"
           }
          ],
          "scatterpolargl": [
           {
            "marker": {
             "colorbar": {
              "outlinewidth": 0,
              "ticks": ""
             }
            },
            "type": "scatterpolargl"
           }
          ],
          "scatterternary": [
           {
            "marker": {
             "colorbar": {
              "outlinewidth": 0,
              "ticks": ""
             }
            },
            "type": "scatterternary"
           }
          ],
          "surface": [
           {
            "colorbar": {
             "outlinewidth": 0,
             "ticks": ""
            },
            "colorscale": [
             [
              0,
              "#0d0887"
             ],
             [
              0.1111111111111111,
              "#46039f"
             ],
             [
              0.2222222222222222,
              "#7201a8"
             ],
             [
              0.3333333333333333,
              "#9c179e"
             ],
             [
              0.4444444444444444,
              "#bd3786"
             ],
             [
              0.5555555555555556,
              "#d8576b"
             ],
             [
              0.6666666666666666,
              "#ed7953"
             ],
             [
              0.7777777777777778,
              "#fb9f3a"
             ],
             [
              0.8888888888888888,
              "#fdca26"
             ],
             [
              1,
              "#f0f921"
             ]
            ],
            "type": "surface"
           }
          ],
          "table": [
           {
            "cells": {
             "fill": {
              "color": "#EBF0F8"
             },
             "line": {
              "color": "white"
             }
            },
            "header": {
             "fill": {
              "color": "#C8D4E3"
             },
             "line": {
              "color": "white"
             }
            },
            "type": "table"
           }
          ]
         },
         "layout": {
          "annotationdefaults": {
           "arrowcolor": "#2a3f5f",
           "arrowhead": 0,
           "arrowwidth": 1
          },
          "autotypenumbers": "strict",
          "coloraxis": {
           "colorbar": {
            "outlinewidth": 0,
            "ticks": ""
           }
          },
          "colorscale": {
           "diverging": [
            [
             0,
             "#8e0152"
            ],
            [
             0.1,
             "#c51b7d"
            ],
            [
             0.2,
             "#de77ae"
            ],
            [
             0.3,
             "#f1b6da"
            ],
            [
             0.4,
             "#fde0ef"
            ],
            [
             0.5,
             "#f7f7f7"
            ],
            [
             0.6,
             "#e6f5d0"
            ],
            [
             0.7,
             "#b8e186"
            ],
            [
             0.8,
             "#7fbc41"
            ],
            [
             0.9,
             "#4d9221"
            ],
            [
             1,
             "#276419"
            ]
           ],
           "sequential": [
            [
             0,
             "#0d0887"
            ],
            [
             0.1111111111111111,
             "#46039f"
            ],
            [
             0.2222222222222222,
             "#7201a8"
            ],
            [
             0.3333333333333333,
             "#9c179e"
            ],
            [
             0.4444444444444444,
             "#bd3786"
            ],
            [
             0.5555555555555556,
             "#d8576b"
            ],
            [
             0.6666666666666666,
             "#ed7953"
            ],
            [
             0.7777777777777778,
             "#fb9f3a"
            ],
            [
             0.8888888888888888,
             "#fdca26"
            ],
            [
             1,
             "#f0f921"
            ]
           ],
           "sequentialminus": [
            [
             0,
             "#0d0887"
            ],
            [
             0.1111111111111111,
             "#46039f"
            ],
            [
             0.2222222222222222,
             "#7201a8"
            ],
            [
             0.3333333333333333,
             "#9c179e"
            ],
            [
             0.4444444444444444,
             "#bd3786"
            ],
            [
             0.5555555555555556,
             "#d8576b"
            ],
            [
             0.6666666666666666,
             "#ed7953"
            ],
            [
             0.7777777777777778,
             "#fb9f3a"
            ],
            [
             0.8888888888888888,
             "#fdca26"
            ],
            [
             1,
             "#f0f921"
            ]
           ]
          },
          "colorway": [
           "#636efa",
           "#EF553B",
           "#00cc96",
           "#ab63fa",
           "#FFA15A",
           "#19d3f3",
           "#FF6692",
           "#B6E880",
           "#FF97FF",
           "#FECB52"
          ],
          "font": {
           "color": "#2a3f5f"
          },
          "geo": {
           "bgcolor": "white",
           "lakecolor": "white",
           "landcolor": "#E5ECF6",
           "showlakes": true,
           "showland": true,
           "subunitcolor": "white"
          },
          "hoverlabel": {
           "align": "left"
          },
          "hovermode": "closest",
          "mapbox": {
           "style": "light"
          },
          "paper_bgcolor": "white",
          "plot_bgcolor": "#E5ECF6",
          "polar": {
           "angularaxis": {
            "gridcolor": "white",
            "linecolor": "white",
            "ticks": ""
           },
           "bgcolor": "#E5ECF6",
           "radialaxis": {
            "gridcolor": "white",
            "linecolor": "white",
            "ticks": ""
           }
          },
          "scene": {
           "xaxis": {
            "backgroundcolor": "#E5ECF6",
            "gridcolor": "white",
            "gridwidth": 2,
            "linecolor": "white",
            "showbackground": true,
            "ticks": "",
            "zerolinecolor": "white"
           },
           "yaxis": {
            "backgroundcolor": "#E5ECF6",
            "gridcolor": "white",
            "gridwidth": 2,
            "linecolor": "white",
            "showbackground": true,
            "ticks": "",
            "zerolinecolor": "white"
           },
           "zaxis": {
            "backgroundcolor": "#E5ECF6",
            "gridcolor": "white",
            "gridwidth": 2,
            "linecolor": "white",
            "showbackground": true,
            "ticks": "",
            "zerolinecolor": "white"
           }
          },
          "shapedefaults": {
           "line": {
            "color": "#2a3f5f"
           }
          },
          "ternary": {
           "aaxis": {
            "gridcolor": "white",
            "linecolor": "white",
            "ticks": ""
           },
           "baxis": {
            "gridcolor": "white",
            "linecolor": "white",
            "ticks": ""
           },
           "bgcolor": "#E5ECF6",
           "caxis": {
            "gridcolor": "white",
            "linecolor": "white",
            "ticks": ""
           }
          },
          "title": {
           "x": 0.05
          },
          "xaxis": {
           "automargin": true,
           "gridcolor": "white",
           "linecolor": "white",
           "ticks": "",
           "title": {
            "standoff": 15
           },
           "zerolinecolor": "white",
           "zerolinewidth": 2
          },
          "yaxis": {
           "automargin": true,
           "gridcolor": "white",
           "linecolor": "white",
           "ticks": "",
           "title": {
            "standoff": 15
           },
           "zerolinecolor": "white",
           "zerolinewidth": 2
          }
         }
        },
        "title": {
         "text": "State-wise Renewable Energy Generation Over Time (2017–2023)"
        },
        "updatemenus": [
         {
          "buttons": [
           {
            "args": [
             null,
             {
              "frame": {
               "duration": 500,
               "redraw": true
              },
              "fromcurrent": true,
              "mode": "immediate",
              "transition": {
               "duration": 500,
               "easing": "linear"
              }
             }
            ],
            "label": "&#9654;",
            "method": "animate"
           },
           {
            "args": [
             [
              null
             ],
             {
              "frame": {
               "duration": 0,
               "redraw": true
              },
              "fromcurrent": true,
              "mode": "immediate",
              "transition": {
               "duration": 0,
               "easing": "linear"
              }
             }
            ],
            "label": "&#9724;",
            "method": "animate"
           }
          ],
          "direction": "left",
          "pad": {
           "r": 10,
           "t": 70
          },
          "showactive": false,
          "type": "buttons",
          "x": 0.1,
          "xanchor": "right",
          "y": 0,
          "yanchor": "top"
         }
        ]
       }
      }
     },
     "metadata": {},
     "output_type": "display_data"
    }
   ],
   "source": [
    "fig = px.scatter_geo(\n",
    "    df_re_long_geo,\n",
    "    lat='Latitude',\n",
    "    lon='Longitude',\n",
    "    color='Region',\n",
    "    hover_name='State',\n",
    "    size='Generation',\n",
    "    animation_frame='Dates',\n",
    "    projection='natural earth',\n",
    "    scope='asia',\n",
    "    title='State-wise Renewable Energy Generation Over Time (2017–2023)'\n",
    ")\n",
    "fig.update_geos(\n",
    "    lataxis_range=[6, 38],  \n",
    "    lonaxis_range=[68, 98],  \n",
    "    showcountries=True,\n",
    "    countrycolor=\"Black\",\n",
    "    subunitcolor=\"black\",\n",
    "    showland=True,\n",
    "    landcolor=\"lightgray\",\n",
    "    showocean=False,  \n",
    "    showlakes=True,\n",
    "    lakecolor=\"lightblue\"\n",
    ")\n",
    "fig.update_layout(\n",
    "    legend_title=\"Region\"\n",
    ")\n",
    "fig.show()"
   ]
  },
  {
   "cell_type": "markdown",
   "id": "9504ca8a",
   "metadata": {},
   "source": [
    "--------------------------"
   ]
  },
  {
   "cell_type": "markdown",
   "id": "79feb9c7",
   "metadata": {},
   "source": [
    "#Top 10 States Contribution to Total RE Generation"
   ]
  },
  {
   "cell_type": "code",
   "execution_count": 241,
   "id": "1a1a992f",
   "metadata": {},
   "outputs": [
    {
     "data": {
      "image/png": "[encoded data removed]",
      "text/plain": [
       "<Figure size 800x800 with 1 Axes>"
      ]
     },
     "metadata": {},
     "output_type": "display_data"
    }
   ],
   "source": [
    "df_pie = df_re_long.groupby('state')['generation'].sum().reset_index()\n",
    "df_pie = df_pie.sort_values('generation', ascending=False).head(10)\n",
    "\n",
    "plt.figure(figsize=(8,8))\n",
    "plt.pie(df_pie['generation'], labels=df_pie['state'], autopct='%1.1f%%', startangle=140)\n",
    "plt.title(\"Top 10 States Contribution to Total RE Generation\")\n",
    "plt.show()\n"
   ]
  },
  {
   "cell_type": "markdown",
   "id": "d1f5d5a7",
   "metadata": {},
   "source": [
    "Plot 6: Top 10 States Contribution to Total RE Generation\n",
    "Chart Type: Pie Chart\n",
    "\n",
    "Title: Top 10 States Contribution to Total RE Generation\n",
    "\n",
    "Description:\n",
    "This pie chart illustrates the proportional contribution of the top 10 states to the total Renewable Energy (RE) generation among this group of states. Each slice represents a state, and its size corresponds to the percentage of the total RE generation from these top 10 that the state accounts for."
   ]
  },
  {
   "cell_type": "markdown",
   "id": "c26c26a4",
   "metadata": {},
   "source": [
    "Observations:\n",
    "\n",
    "The plot clearly shows the relative contribution of each of the top 10 states to the overall RE generation within this group.\n",
    "\n",
    "Himachal Pradesh is the largest contributor among the top 10 states, accounting for 18.1% of the total RE generation from this group.\n",
    "\n",
    "Karnataka is the second-largest contributor at 15.8%.\n",
    "\n",
    "Tamil Nadu (11.5%) and Gujarat (10.0%) are also significant contributors, each accounting for over 10% of the total from this group.\n",
    "\n",
    "Combined, the top four states (Himachal Pradesh, Karnataka, Tamil Nadu, and Gujarat) contribute a substantial portion (over 55%) of the total RE generation among these top 10 states.\n",
    "\n",
    "The remaining states in the top 10 (Rajasthan, Maharashtra, Jammu and Kashmir, Andhra Pradesh, Uttarakhand, and Madhya Pradesh) each contribute between 6% and 8.5%.\n",
    "\n",
    "This plot effectively visualizes the unequal distribution of RE generation even among the leading states."
   ]
  },
  {
   "cell_type": "markdown",
   "id": "06efcd74",
   "metadata": {},
   "source": [
    "-----------"
   ]
  },
  {
   "cell_type": "markdown",
   "id": "ae2c5f51",
   "metadata": {},
   "source": [
    "#Renewable Energy Generation Trends by Source"
   ]
  },
  {
   "cell_type": "code",
   "execution_count": 242,
   "id": "031a65fc",
   "metadata": {},
   "outputs": [
    {
     "data": {
      "application/vnd.plotly.v1+json": {
       "config": {
        "plotlyServerURL": "https://plot.ly"
       },
       "data": [
        {
         "hovertemplate": "source=bio_power<br>year=%{x}<br>generation=%{y}<extra></extra>",
         "legendgroup": "bio_power",
         "line": {
          "color": "#636efa",
          "dash": "solid"
         },
         "marker": {
          "symbol": "circle"
         },
         "mode": "lines+markers",
         "name": "bio_power",
         "orientation": "v",
         "showlegend": true,
         "type": "scatter",
         "x": {
          "bdata": "4gfjB+QH5QfmB+cH",
          "dtype": "i2"
         },
         "xaxis": "x",
         "y": {
          "bdata": "KVyPwnV6xkD2KFyP8lvQQOF6FK4njstA16NwPToN0ECPwvUonGy0QJqZmZkZuahA",
          "dtype": "f8"
         },
         "yaxis": "y"
        },
        {
         "hovertemplate": "source=large_hydro<br>year=%{x}<br>generation=%{y}<extra></extra>",
         "legendgroup": "large_hydro",
         "line": {
          "color": "#EF553B",
          "dash": "solid"
         },
         "marker": {
          "symbol": "circle"
         },
         "mode": "lines+markers",
         "name": "large_hydro",
         "orientation": "v",
         "showlegend": true,
         "type": "scatter",
         "x": {
          "bdata": "4gfjB+QH5QfmB+cH",
          "dtype": "i2"
         },
         "xaxis": "x",
         "y": {
          "bdata": "sHJokdfzAEEVrkfhbHcAQVyPwvXIAwNBj8L1KNxYAkGQwvUoaKj2QI/C9SiWyQNB",
          "dtype": "f8"
         },
         "yaxis": "y"
        },
        {
         "hovertemplate": "source=small_hydro<br>year=%{x}<br>generation=%{y}<extra></extra>",
         "legendgroup": "small_hydro",
         "line": {
          "color": "#00cc96",
          "dash": "solid"
         },
         "marker": {
          "symbol": "circle"
         },
         "mode": "lines+markers",
         "name": "small_hydro",
         "orientation": "v",
         "showlegend": true,
         "type": "scatter",
         "x": {
          "bdata": "4gfjB+QH5QfmB+cH",
          "dtype": "i2"
         },
         "xaxis": "x",
         "y": {
          "bdata": "SOF6FC6WukCF61G4Xv/AQAAAAACgdcJAuB6F6zEJxECamZmZmTe3QM3MzMwM0cVA",
          "dtype": "f8"
         },
         "yaxis": "y"
        },
        {
         "hovertemplate": "source=solar<br>year=%{x}<br>generation=%{y}<extra></extra>",
         "legendgroup": "solar",
         "line": {
          "color": "#ab63fa",
          "dash": "solid"
         },
         "marker": {
          "symbol": "circle"
         },
         "mode": "lines+markers",
         "name": "solar",
         "orientation": "v",
         "showlegend": true,
         "type": "scatter",
         "x": {
          "bdata": "4gfjB+QH5QfmB+cH",
          "dtype": "i2"
         },
         "xaxis": "x",
         "y": {
          "bdata": "pHA9Cjdb0kApXI/ChSzjQDMzMzNjeuhAexSuR0l+7UApXI/C9azgQEfhehSa6fhA",
          "dtype": "f8"
         },
         "yaxis": "y"
        },
        {
         "hovertemplate": "source=wind<br>year=%{x}<br>generation=%{y}<extra></extra>",
         "legendgroup": "wind",
         "line": {
          "color": "#FFA15A",
          "dash": "solid"
         },
         "marker": {
          "symbol": "circle"
         },
         "mode": "lines+markers",
         "name": "wind",
         "orientation": "v",
         "showlegend": true,
         "type": "scatter",
         "x": {
          "bdata": "4gfjB+QH5QfmB+cH",
          "dtype": "i2"
         },
         "xaxis": "x",
         "y": {
          "bdata": "uB6F66kT50CuR+F6jEruQJDC9SjMkO9AhetRuL5e7UD2KFyP2pTnQPYoXI9iiPFA",
          "dtype": "f8"
         },
         "yaxis": "y"
        }
       ],
       "layout": {
        "legend": {
         "title": {
          "text": "source"
         },
         "tracegroupgap": 0
        },
        "template": {
         "data": {
          "bar": [
           {
            "error_x": {
             "color": "#2a3f5f"
            },
            "error_y": {
             "color": "#2a3f5f"
            },
            "marker": {
             "line": {
              "color": "#E5ECF6",
              "width": 0.5
             },
             "pattern": {
              "fillmode": "overlay",
              "size": 10,
              "solidity": 0.2
             }
            },
            "type": "bar"
           }
          ],
          "barpolar": [
           {
            "marker": {
             "line": {
              "color": "#E5ECF6",
              "width": 0.5
             },
             "pattern": {
              "fillmode": "overlay",
              "size": 10,
              "solidity": 0.2
             }
            },
            "type": "barpolar"
           }
          ],
          "carpet": [
           {
            "aaxis": {
             "endlinecolor": "#2a3f5f",
             "gridcolor": "white",
             "linecolor": "white",
             "minorgridcolor": "white",
             "startlinecolor": "#2a3f5f"
            },
            "baxis": {
             "endlinecolor": "#2a3f5f",
             "gridcolor": "white",
             "linecolor": "white",
             "minorgridcolor": "white",
             "startlinecolor": "#2a3f5f"
            },
            "type": "carpet"
           }
          ],
          "choropleth": [
           {
            "colorbar": {
             "outlinewidth": 0,
             "ticks": ""
            },
            "type": "choropleth"
           }
          ],
          "contour": [
           {
            "colorbar": {
             "outlinewidth": 0,
             "ticks": ""
            },
            "colorscale": [
             [
              0,
              "#0d0887"
             ],
             [
              0.1111111111111111,
              "#46039f"
             ],
             [
              0.2222222222222222,
              "#7201a8"
             ],
             [
              0.3333333333333333,
              "#9c179e"
             ],
             [
              0.4444444444444444,
              "#bd3786"
             ],
             [
              0.5555555555555556,
              "#d8576b"
             ],
             [
              0.6666666666666666,
              "#ed7953"
             ],
             [
              0.7777777777777778,
              "#fb9f3a"
             ],
             [
              0.8888888888888888,
              "#fdca26"
             ],
             [
              1,
              "#f0f921"
             ]
            ],
            "type": "contour"
           }
          ],
          "contourcarpet": [
           {
            "colorbar": {
             "outlinewidth": 0,
             "ticks": ""
            },
            "type": "contourcarpet"
           }
          ],
          "heatmap": [
           {
            "colorbar": {
             "outlinewidth": 0,
             "ticks": ""
            },
            "colorscale": [
             [
              0,
              "#0d0887"
             ],
             [
              0.1111111111111111,
              "#46039f"
             ],
             [
              0.2222222222222222,
              "#7201a8"
             ],
             [
              0.3333333333333333,
              "#9c179e"
             ],
             [
              0.4444444444444444,
              "#bd3786"
             ],
             [
              0.5555555555555556,
              "#d8576b"
             ],
             [
              0.6666666666666666,
              "#ed7953"
             ],
             [
              0.7777777777777778,
              "#fb9f3a"
             ],
             [
              0.8888888888888888,
              "#fdca26"
             ],
             [
              1,
              "#f0f921"
             ]
            ],
            "type": "heatmap"
           }
          ],
          "histogram": [
           {
            "marker": {
             "pattern": {
              "fillmode": "overlay",
              "size": 10,
              "solidity": 0.2
             }
            },
            "type": "histogram"
           }
          ],
          "histogram2d": [
           {
            "colorbar": {
             "outlinewidth": 0,
             "ticks": ""
            },
            "colorscale": [
             [
              0,
              "#0d0887"
             ],
             [
              0.1111111111111111,
              "#46039f"
             ],
             [
              0.2222222222222222,
              "#7201a8"
             ],
             [
              0.3333333333333333,
              "#9c179e"
             ],
             [
              0.4444444444444444,
              "#bd3786"
             ],
             [
              0.5555555555555556,
              "#d8576b"
             ],
             [
              0.6666666666666666,
              "#ed7953"
             ],
             [
              0.7777777777777778,
              "#fb9f3a"
             ],
             [
              0.8888888888888888,
              "#fdca26"
             ],
             [
              1,
              "#f0f921"
             ]
            ],
            "type": "histogram2d"
           }
          ],
          "histogram2dcontour": [
           {
            "colorbar": {
             "outlinewidth": 0,
             "ticks": ""
            },
            "colorscale": [
             [
              0,
              "#0d0887"
             ],
             [
              0.1111111111111111,
              "#46039f"
             ],
             [
              0.2222222222222222,
              "#7201a8"
             ],
             [
              0.3333333333333333,
              "#9c179e"
             ],
             [
              0.4444444444444444,
              "#bd3786"
             ],
             [
              0.5555555555555556,
              "#d8576b"
             ],
             [
              0.6666666666666666,
              "#ed7953"
             ],
             [
              0.7777777777777778,
              "#fb9f3a"
             ],
             [
              0.8888888888888888,
              "#fdca26"
             ],
             [
              1,
              "#f0f921"
             ]
            ],
            "type": "histogram2dcontour"
           }
          ],
          "mesh3d": [
           {
            "colorbar": {
             "outlinewidth": 0,
             "ticks": ""
            },
            "type": "mesh3d"
           }
          ],
          "parcoords": [
           {
            "line": {
             "colorbar": {
              "outlinewidth": 0,
              "ticks": ""
             }
            },
            "type": "parcoords"
           }
          ],
          "pie": [
           {
            "automargin": true,
            "type": "pie"
           }
          ],
          "scatter": [
           {
            "fillpattern": {
             "fillmode": "overlay",
             "size": 10,
             "solidity": 0.2
            },
            "type": "scatter"
           }
          ],
          "scatter3d": [
           {
            "line": {
             "colorbar": {
              "outlinewidth": 0,
              "ticks": ""
             }
            },
            "marker": {
             "colorbar": {
              "outlinewidth": 0,
              "ticks": ""
             }
            },
            "type": "scatter3d"
           }
          ],
          "scattercarpet": [
           {
            "marker": {
             "colorbar": {
              "outlinewidth": 0,
              "ticks": ""
             }
            },
            "type": "scattercarpet"
           }
          ],
          "scattergeo": [
           {
            "marker": {
             "colorbar": {
              "outlinewidth": 0,
              "ticks": ""
             }
            },
            "type": "scattergeo"
           }
          ],
          "scattergl": [
           {
            "marker": {
             "colorbar": {
              "outlinewidth": 0,
              "ticks": ""
             }
            },
            "type": "scattergl"
           }
          ],
          "scattermap": [
           {
            "marker": {
             "colorbar": {
              "outlinewidth": 0,
              "ticks": ""
             }
            },
            "type": "scattermap"
           }
          ],
          "scattermapbox": [
           {
            "marker": {
             "colorbar": {
              "outlinewidth": 0,
              "ticks": ""
             }
            },
            "type": "scattermapbox"
           }
          ],
          "scatterpolar": [
           {
            "marker": {
             "colorbar": {
              "outlinewidth": 0,
              "ticks": ""
             }
            },
            "type": "scatterpolar"
           }
          ],
          "scatterpolargl": [
           {
            "marker": {
             "colorbar": {
              "outlinewidth": 0,
              "ticks": ""
             }
            },
            "type": "scatterpolargl"
           }
          ],
          "scatterternary": [
           {
            "marker": {
             "colorbar": {
              "outlinewidth": 0,
              "ticks": ""
             }
            },
            "type": "scatterternary"
           }
          ],
          "surface": [
           {
            "colorbar": {
             "outlinewidth": 0,
             "ticks": ""
            },
            "colorscale": [
             [
              0,
              "#0d0887"
             ],
             [
              0.1111111111111111,
              "#46039f"
             ],
             [
              0.2222222222222222,
              "#7201a8"
             ],
             [
              0.3333333333333333,
              "#9c179e"
             ],
             [
              0.4444444444444444,
              "#bd3786"
             ],
             [
              0.5555555555555556,
              "#d8576b"
             ],
             [
              0.6666666666666666,
              "#ed7953"
             ],
             [
              0.7777777777777778,
              "#fb9f3a"
             ],
             [
              0.8888888888888888,
              "#fdca26"
             ],
             [
              1,
              "#f0f921"
             ]
            ],
            "type": "surface"
           }
          ],
          "table": [
           {
            "cells": {
             "fill": {
              "color": "#EBF0F8"
             },
             "line": {
              "color": "white"
             }
            },
            "header": {
             "fill": {
              "color": "#C8D4E3"
             },
             "line": {
              "color": "white"
             }
            },
            "type": "table"
           }
          ]
         },
         "layout": {
          "annotationdefaults": {
           "arrowcolor": "#2a3f5f",
           "arrowhead": 0,
           "arrowwidth": 1
          },
          "autotypenumbers": "strict",
          "coloraxis": {
           "colorbar": {
            "outlinewidth": 0,
            "ticks": ""
           }
          },
          "colorscale": {
           "diverging": [
            [
             0,
             "#8e0152"
            ],
            [
             0.1,
             "#c51b7d"
            ],
            [
             0.2,
             "#de77ae"
            ],
            [
             0.3,
             "#f1b6da"
            ],
            [
             0.4,
             "#fde0ef"
            ],
            [
             0.5,
             "#f7f7f7"
            ],
            [
             0.6,
             "#e6f5d0"
            ],
            [
             0.7,
             "#b8e186"
            ],
            [
             0.8,
             "#7fbc41"
            ],
            [
             0.9,
             "#4d9221"
            ],
            [
             1,
             "#276419"
            ]
           ],
           "sequential": [
            [
             0,
             "#0d0887"
            ],
            [
             0.1111111111111111,
             "#46039f"
            ],
            [
             0.2222222222222222,
             "#7201a8"
            ],
            [
             0.3333333333333333,
             "#9c179e"
            ],
            [
             0.4444444444444444,
             "#bd3786"
            ],
            [
             0.5555555555555556,
             "#d8576b"
            ],
            [
             0.6666666666666666,
             "#ed7953"
            ],
            [
             0.7777777777777778,
             "#fb9f3a"
            ],
            [
             0.8888888888888888,
             "#fdca26"
            ],
            [
             1,
             "#f0f921"
            ]
           ],
           "sequentialminus": [
            [
             0,
             "#0d0887"
            ],
            [
             0.1111111111111111,
             "#46039f"
            ],
            [
             0.2222222222222222,
             "#7201a8"
            ],
            [
             0.3333333333333333,
             "#9c179e"
            ],
            [
             0.4444444444444444,
             "#bd3786"
            ],
            [
             0.5555555555555556,
             "#d8576b"
            ],
            [
             0.6666666666666666,
             "#ed7953"
            ],
            [
             0.7777777777777778,
             "#fb9f3a"
            ],
            [
             0.8888888888888888,
             "#fdca26"
            ],
            [
             1,
             "#f0f921"
            ]
           ]
          },
          "colorway": [
           "#636efa",
           "#EF553B",
           "#00cc96",
           "#ab63fa",
           "#FFA15A",
           "#19d3f3",
           "#FF6692",
           "#B6E880",
           "#FF97FF",
           "#FECB52"
          ],
          "font": {
           "color": "#2a3f5f"
          },
          "geo": {
           "bgcolor": "white",
           "lakecolor": "white",
           "landcolor": "#E5ECF6",
           "showlakes": true,
           "showland": true,
           "subunitcolor": "white"
          },
          "hoverlabel": {
           "align": "left"
          },
          "hovermode": "closest",
          "mapbox": {
           "style": "light"
          },
          "paper_bgcolor": "white",
          "plot_bgcolor": "#E5ECF6",
          "polar": {
           "angularaxis": {
            "gridcolor": "white",
            "linecolor": "white",
            "ticks": ""
           },
           "bgcolor": "#E5ECF6",
           "radialaxis": {
            "gridcolor": "white",
            "linecolor": "white",
            "ticks": ""
           }
          },
          "scene": {
           "xaxis": {
            "backgroundcolor": "#E5ECF6",
            "gridcolor": "white",
            "gridwidth": 2,
            "linecolor": "white",
            "showbackground": true,
            "ticks": "",
            "zerolinecolor": "white"
           },
           "yaxis": {
            "backgroundcolor": "#E5ECF6",
            "gridcolor": "white",
            "gridwidth": 2,
            "linecolor": "white",
            "showbackground": true,
            "ticks": "",
            "zerolinecolor": "white"
           },
           "zaxis": {
            "backgroundcolor": "#E5ECF6",
            "gridcolor": "white",
            "gridwidth": 2,
            "linecolor": "white",
            "showbackground": true,
            "ticks": "",
            "zerolinecolor": "white"
           }
          },
          "shapedefaults": {
           "line": {
            "color": "#2a3f5f"
           }
          },
          "ternary": {
           "aaxis": {
            "gridcolor": "white",
            "linecolor": "white",
            "ticks": ""
           },
           "baxis": {
            "gridcolor": "white",
            "linecolor": "white",
            "ticks": ""
           },
           "bgcolor": "#E5ECF6",
           "caxis": {
            "gridcolor": "white",
            "linecolor": "white",
            "ticks": ""
           }
          },
          "title": {
           "x": 0.05
          },
          "xaxis": {
           "automargin": true,
           "gridcolor": "white",
           "linecolor": "white",
           "ticks": "",
           "title": {
            "standoff": 15
           },
           "zerolinecolor": "white",
           "zerolinewidth": 2
          },
          "yaxis": {
           "automargin": true,
           "gridcolor": "white",
           "linecolor": "white",
           "ticks": "",
           "title": {
            "standoff": 15
           },
           "zerolinecolor": "white",
           "zerolinewidth": 2
          }
         }
        },
        "title": {
         "text": "Renewable Energy Generation Trends by Source (Interactive)"
        },
        "xaxis": {
         "anchor": "y",
         "domain": [
          0,
          1
         ],
         "title": {
          "text": "Year"
         }
        },
        "yaxis": {
         "anchor": "x",
         "domain": [
          0,
          1
         ],
         "title": {
          "text": "Generation (MU)"
         }
        }
       }
      }
     },
     "metadata": {},
     "output_type": "display_data"
    }
   ],
   "source": [
    "df_line = df_re_long.groupby(['year', 'source'])['generation'].sum().reset_index()\n",
    "\n",
    "fig = px.line(df_line, x='year', y='generation', color='source',\n",
    "              title='Renewable Energy Generation Trends by Source (Interactive)',\n",
    "              markers=True)\n",
    "fig.update_layout(xaxis_title='Year', yaxis_title='Generation (MU)')\n",
    "fig.show()\n"
   ]
  },
  {
   "cell_type": "markdown",
   "id": "1dc48f18",
   "metadata": {},
   "source": [
    "Plot 7: Renewable Energy Generation Trends by Source (Interactive)\n",
    "Chart Type: Line Chart\n",
    "\n",
    "Title: Renewable Energy Generation Trends by Source (Interactive)\n",
    "\n",
    "Axes:\n",
    "\n",
    "X-axis: Year (2018-2023)\n",
    "Y-axis: Generation (MU)\n",
    "Legend:\n",
    "\n",
    "Source: bio_power, large_hydro, small_hydro, solar, wind (each represented by a different colored line)"
   ]
  },
  {
   "cell_type": "markdown",
   "id": "50e66079",
   "metadata": {},
   "source": [
    "Observations:\n",
    "\n",
    "This line chart visualizes the annual generation trends for different renewable energy sources from 2018 to 2023.\n",
    "large_hydro is the dominant source of generation, showing the highest values throughout the years, although its generation fluctuates significantly. \n",
    "\n",
    "There's a noticeable dip in 2022 followed by a strong recovery in 2023.\n",
    "bio_power and small_hydro consistently show very low generation levels compared to the other sources, with relatively flat trends across the years.\n",
    "\n",
    "Solar energy generation shows a clear and strong increasing trend over the entire period, with a particularly steep rise from 2022 to 2023. By 2023, it becomes the second-largest source of generation, surpassing wind.\n",
    "\n",
    "Wind energy generation also shows an increasing trend from 2018 to 2021, experiences a dip in 2022 (similar to large hydro), and then increases again in 2023, though its growth in 2023 is less pronounced than solar's.\n",
    "\n",
    "The plot highlights the dynamic nature of renewable energy generation, particularly the growth in solar and wind power and the fluctuations in hydro generation. The year 2022 appears to be a period where generation dipped for some key sources (large hydro, wind), before a strong rebound in 2023 for large hydro and solar."
   ]
  },
  {
   "cell_type": "markdown",
   "id": "11eafa92",
   "metadata": {},
   "source": [
    "------"
   ]
  },
  {
   "cell_type": "markdown",
   "id": "85d60a19",
   "metadata": {},
   "source": [
    "#Total Generation by Region Over Years"
   ]
  },
  {
   "cell_type": "code",
   "execution_count": 243,
   "id": "d6091415",
   "metadata": {},
   "outputs": [
    {
     "data": {
      "application/vnd.plotly.v1+json": {
       "config": {
        "plotlyServerURL": "https://plot.ly"
       },
       "data": [
        {
         "alignmentgroup": "True",
         "hovertemplate": "region=ER<br>year=%{x}<br>generation=%{y}<extra></extra>",
         "legendgroup": "ER",
         "marker": {
          "color": "#636efa",
          "pattern": {
           "shape": ""
          }
         },
         "name": "ER",
         "offsetgroup": "ER",
         "orientation": "v",
         "showlegend": true,
         "textposition": "auto",
         "type": "bar",
         "x": {
          "bdata": "4gfjB+QH5QfmB+cH",
          "dtype": "i2"
         },
         "xaxis": "x",
         "y": {
          "bdata": "w/UoXN+Q1EDXo3A9ehLVQFK4HoVL+dZAKVyPwhVV10BmZmZm5jLNQGdmZmYmGNZA",
          "dtype": "f8"
         },
         "yaxis": "y"
        },
        {
         "alignmentgroup": "True",
         "hovertemplate": "region=IS<br>year=%{x}<br>generation=%{y}<extra></extra>",
         "legendgroup": "IS",
         "marker": {
          "color": "#EF553B",
          "pattern": {
           "shape": ""
          }
         },
         "name": "IS",
         "offsetgroup": "IS",
         "orientation": "v",
         "showlegend": true,
         "textposition": "auto",
         "type": "bar",
         "x": {
          "bdata": "4gfjB+QH5QfmB+cH",
          "dtype": "i2"
         },
         "xaxis": "x",
         "y": {
          "bdata": "wvUoXI/CMECuR+F6FG4+QM3MzMzMTDFA4XoUrkfBQ0AUrkfhelQwQHE9Ctej8EJA",
          "dtype": "f8"
         },
         "yaxis": "y"
        },
        {
         "alignmentgroup": "True",
         "hovertemplate": "region=NER<br>year=%{x}<br>generation=%{y}<extra></extra>",
         "legendgroup": "NER",
         "marker": {
          "color": "#00cc96",
          "pattern": {
           "shape": ""
          }
         },
         "name": "NER",
         "offsetgroup": "NER",
         "orientation": "v",
         "showlegend": true,
         "textposition": "auto",
         "type": "bar",
         "x": {
          "bdata": "4gfjB+QH5QfmB+cH",
          "dtype": "i2"
         },
         "xaxis": "x",
         "y": {
          "bdata": "/tR46WYMtkBSuB6F6720QM3MzMzM7rNAzczMzIzPt0CkcD0K14iwQClcj8K1Gr5A",
          "dtype": "f8"
         },
         "yaxis": "y"
        },
        {
         "alignmentgroup": "True",
         "hovertemplate": "region=NR<br>year=%{x}<br>generation=%{y}<extra></extra>",
         "legendgroup": "NR",
         "marker": {
          "color": "#ab63fa",
          "pattern": {
           "shape": ""
          }
         },
         "name": "NR",
         "offsetgroup": "NR",
         "orientation": "v",
         "showlegend": true,
         "textposition": "auto",
         "type": "bar",
         "x": {
          "bdata": "4gfjB+QH5QfmB+cH",
          "dtype": "i2"
         },
         "xaxis": "x",
         "y": {
          "bdata": "sHJokVVQ80BI4XoU+qH0QHA9CteDqPZAPQrXo6iV9UBnZmZmZnnrQJDC9Sj89/VA",
          "dtype": "f8"
         },
         "yaxis": "y"
        },
        {
         "alignmentgroup": "True",
         "hovertemplate": "region=SR<br>year=%{x}<br>generation=%{y}<extra></extra>",
         "legendgroup": "SR",
         "marker": {
          "color": "#FFA15A",
          "pattern": {
           "shape": ""
          }
         },
         "name": "SR",
         "offsetgroup": "SR",
         "orientation": "v",
         "showlegend": true,
         "textposition": "auto",
         "type": "bar",
         "x": {
          "bdata": "4gfjB+QH5QfmB+cH",
          "dtype": "i2"
         },
         "xaxis": "x",
         "y": {
          "bdata": "6Pup8S6p8EAK16NwWej1QFyPwvW0HPhAcT0K11cn+UCQwvUodGfvQArXo3D1IfxA",
          "dtype": "f8"
         },
         "yaxis": "y"
        },
        {
         "alignmentgroup": "True",
         "hovertemplate": "region=WR<br>year=%{x}<br>generation=%{y}<extra></extra>",
         "legendgroup": "WR",
         "marker": {
          "color": "#19d3f3",
          "pattern": {
           "shape": ""
          }
         },
         "name": "WR",
         "offsetgroup": "WR",
         "orientation": "v",
         "showlegend": true,
         "textposition": "auto",
         "type": "bar",
         "x": {
          "bdata": "4gfjB+QH5QfmB+cH",
          "dtype": "i2"
         },
         "xaxis": "x",
         "y": {
          "bdata": "L90kBukC6EDD9ShcJ4ntQHsUrkcVCvJA16NwPfqS8kApXI/CbcbmQIXrUbgOAfxA",
          "dtype": "f8"
         },
         "yaxis": "y"
        }
       ],
       "layout": {
        "barmode": "group",
        "legend": {
         "title": {
          "text": "region"
         },
         "tracegroupgap": 0
        },
        "template": {
         "data": {
          "bar": [
           {
            "error_x": {
             "color": "#2a3f5f"
            },
            "error_y": {
             "color": "#2a3f5f"
            },
            "marker": {
             "line": {
              "color": "#E5ECF6",
              "width": 0.5
             },
             "pattern": {
              "fillmode": "overlay",
              "size": 10,
              "solidity": 0.2
             }
            },
            "type": "bar"
           }
          ],
          "barpolar": [
           {
            "marker": {
             "line": {
              "color": "#E5ECF6",
              "width": 0.5
             },
             "pattern": {
              "fillmode": "overlay",
              "size": 10,
              "solidity": 0.2
             }
            },
            "type": "barpolar"
           }
          ],
          "carpet": [
           {
            "aaxis": {
             "endlinecolor": "#2a3f5f",
             "gridcolor": "white",
             "linecolor": "white",
             "minorgridcolor": "white",
             "startlinecolor": "#2a3f5f"
            },
            "baxis": {
             "endlinecolor": "#2a3f5f",
             "gridcolor": "white",
             "linecolor": "white",
             "minorgridcolor": "white",
             "startlinecolor": "#2a3f5f"
            },
            "type": "carpet"
           }
          ],
          "choropleth": [
           {
            "colorbar": {
             "outlinewidth": 0,
             "ticks": ""
            },
            "type": "choropleth"
           }
          ],
          "contour": [
           {
            "colorbar": {
             "outlinewidth": 0,
             "ticks": ""
            },
            "colorscale": [
             [
              0,
              "#0d0887"
             ],
             [
              0.1111111111111111,
              "#46039f"
             ],
             [
              0.2222222222222222,
              "#7201a8"
             ],
             [
              0.3333333333333333,
              "#9c179e"
             ],
             [
              0.4444444444444444,
              "#bd3786"
             ],
             [
              0.5555555555555556,
              "#d8576b"
             ],
             [
              0.6666666666666666,
              "#ed7953"
             ],
             [
              0.7777777777777778,
              "#fb9f3a"
             ],
             [
              0.8888888888888888,
              "#fdca26"
             ],
             [
              1,
              "#f0f921"
             ]
            ],
            "type": "contour"
           }
          ],
          "contourcarpet": [
           {
            "colorbar": {
             "outlinewidth": 0,
             "ticks": ""
            },
            "type": "contourcarpet"
           }
          ],
          "heatmap": [
           {
            "colorbar": {
             "outlinewidth": 0,
             "ticks": ""
            },
            "colorscale": [
             [
              0,
              "#0d0887"
             ],
             [
              0.1111111111111111,
              "#46039f"
             ],
             [
              0.2222222222222222,
              "#7201a8"
             ],
             [
              0.3333333333333333,
              "#9c179e"
             ],
             [
              0.4444444444444444,
              "#bd3786"
             ],
             [
              0.5555555555555556,
              "#d8576b"
             ],
             [
              0.6666666666666666,
              "#ed7953"
             ],
             [
              0.7777777777777778,
              "#fb9f3a"
             ],
             [
              0.8888888888888888,
              "#fdca26"
             ],
             [
              1,
              "#f0f921"
             ]
            ],
            "type": "heatmap"
           }
          ],
          "histogram": [
           {
            "marker": {
             "pattern": {
              "fillmode": "overlay",
              "size": 10,
              "solidity": 0.2
             }
            },
            "type": "histogram"
           }
          ],
          "histogram2d": [
           {
            "colorbar": {
             "outlinewidth": 0,
             "ticks": ""
            },
            "colorscale": [
             [
              0,
              "#0d0887"
             ],
             [
              0.1111111111111111,
              "#46039f"
             ],
             [
              0.2222222222222222,
              "#7201a8"
             ],
             [
              0.3333333333333333,
              "#9c179e"
             ],
             [
              0.4444444444444444,
              "#bd3786"
             ],
             [
              0.5555555555555556,
              "#d8576b"
             ],
             [
              0.6666666666666666,
              "#ed7953"
             ],
             [
              0.7777777777777778,
              "#fb9f3a"
             ],
             [
              0.8888888888888888,
              "#fdca26"
             ],
             [
              1,
              "#f0f921"
             ]
            ],
            "type": "histogram2d"
           }
          ],
          "histogram2dcontour": [
           {
            "colorbar": {
             "outlinewidth": 0,
             "ticks": ""
            },
            "colorscale": [
             [
              0,
              "#0d0887"
             ],
             [
              0.1111111111111111,
              "#46039f"
             ],
             [
              0.2222222222222222,
              "#7201a8"
             ],
             [
              0.3333333333333333,
              "#9c179e"
             ],
             [
              0.4444444444444444,
              "#bd3786"
             ],
             [
              0.5555555555555556,
              "#d8576b"
             ],
             [
              0.6666666666666666,
              "#ed7953"
             ],
             [
              0.7777777777777778,
              "#fb9f3a"
             ],
             [
              0.8888888888888888,
              "#fdca26"
             ],
             [
              1,
              "#f0f921"
             ]
            ],
            "type": "histogram2dcontour"
           }
          ],
          "mesh3d": [
           {
            "colorbar": {
             "outlinewidth": 0,
             "ticks": ""
            },
            "type": "mesh3d"
           }
          ],
          "parcoords": [
           {
            "line": {
             "colorbar": {
              "outlinewidth": 0,
              "ticks": ""
             }
            },
            "type": "parcoords"
           }
          ],
          "pie": [
           {
            "automargin": true,
            "type": "pie"
           }
          ],
          "scatter": [
           {
            "fillpattern": {
             "fillmode": "overlay",
             "size": 10,
             "solidity": 0.2
            },
            "type": "scatter"
           }
          ],
          "scatter3d": [
           {
            "line": {
             "colorbar": {
              "outlinewidth": 0,
              "ticks": ""
             }
            },
            "marker": {
             "colorbar": {
              "outlinewidth": 0,
              "ticks": ""
             }
            },
            "type": "scatter3d"
           }
          ],
          "scattercarpet": [
           {
            "marker": {
             "colorbar": {
              "outlinewidth": 0,
              "ticks": ""
             }
            },
            "type": "scattercarpet"
           }
          ],
          "scattergeo": [
           {
            "marker": {
             "colorbar": {
              "outlinewidth": 0,
              "ticks": ""
             }
            },
            "type": "scattergeo"
           }
          ],
          "scattergl": [
           {
            "marker": {
             "colorbar": {
              "outlinewidth": 0,
              "ticks": ""
             }
            },
            "type": "scattergl"
           }
          ],
          "scattermap": [
           {
            "marker": {
             "colorbar": {
              "outlinewidth": 0,
              "ticks": ""
             }
            },
            "type": "scattermap"
           }
          ],
          "scattermapbox": [
           {
            "marker": {
             "colorbar": {
              "outlinewidth": 0,
              "ticks": ""
             }
            },
            "type": "scattermapbox"
           }
          ],
          "scatterpolar": [
           {
            "marker": {
             "colorbar": {
              "outlinewidth": 0,
              "ticks": ""
             }
            },
            "type": "scatterpolar"
           }
          ],
          "scatterpolargl": [
           {
            "marker": {
             "colorbar": {
              "outlinewidth": 0,
              "ticks": ""
             }
            },
            "type": "scatterpolargl"
           }
          ],
          "scatterternary": [
           {
            "marker": {
             "colorbar": {
              "outlinewidth": 0,
              "ticks": ""
             }
            },
            "type": "scatterternary"
           }
          ],
          "surface": [
           {
            "colorbar": {
             "outlinewidth": 0,
             "ticks": ""
            },
            "colorscale": [
             [
              0,
              "#0d0887"
             ],
             [
              0.1111111111111111,
              "#46039f"
             ],
             [
              0.2222222222222222,
              "#7201a8"
             ],
             [
              0.3333333333333333,
              "#9c179e"
             ],
             [
              0.4444444444444444,
              "#bd3786"
             ],
             [
              0.5555555555555556,
              "#d8576b"
             ],
             [
              0.6666666666666666,
              "#ed7953"
             ],
             [
              0.7777777777777778,
              "#fb9f3a"
             ],
             [
              0.8888888888888888,
              "#fdca26"
             ],
             [
              1,
              "#f0f921"
             ]
            ],
            "type": "surface"
           }
          ],
          "table": [
           {
            "cells": {
             "fill": {
              "color": "#EBF0F8"
             },
             "line": {
              "color": "white"
             }
            },
            "header": {
             "fill": {
              "color": "#C8D4E3"
             },
             "line": {
              "color": "white"
             }
            },
            "type": "table"
           }
          ]
         },
         "layout": {
          "annotationdefaults": {
           "arrowcolor": "#2a3f5f",
           "arrowhead": 0,
           "arrowwidth": 1
          },
          "autotypenumbers": "strict",
          "coloraxis": {
           "colorbar": {
            "outlinewidth": 0,
            "ticks": ""
           }
          },
          "colorscale": {
           "diverging": [
            [
             0,
             "#8e0152"
            ],
            [
             0.1,
             "#c51b7d"
            ],
            [
             0.2,
             "#de77ae"
            ],
            [
             0.3,
             "#f1b6da"
            ],
            [
             0.4,
             "#fde0ef"
            ],
            [
             0.5,
             "#f7f7f7"
            ],
            [
             0.6,
             "#e6f5d0"
            ],
            [
             0.7,
             "#b8e186"
            ],
            [
             0.8,
             "#7fbc41"
            ],
            [
             0.9,
             "#4d9221"
            ],
            [
             1,
             "#276419"
            ]
           ],
           "sequential": [
            [
             0,
             "#0d0887"
            ],
            [
             0.1111111111111111,
             "#46039f"
            ],
            [
             0.2222222222222222,
             "#7201a8"
            ],
            [
             0.3333333333333333,
             "#9c179e"
            ],
            [
             0.4444444444444444,
             "#bd3786"
            ],
            [
             0.5555555555555556,
             "#d8576b"
            ],
            [
             0.6666666666666666,
             "#ed7953"
            ],
            [
             0.7777777777777778,
             "#fb9f3a"
            ],
            [
             0.8888888888888888,
             "#fdca26"
            ],
            [
             1,
             "#f0f921"
            ]
           ],
           "sequentialminus": [
            [
             0,
             "#0d0887"
            ],
            [
             0.1111111111111111,
             "#46039f"
            ],
            [
             0.2222222222222222,
             "#7201a8"
            ],
            [
             0.3333333333333333,
             "#9c179e"
            ],
            [
             0.4444444444444444,
             "#bd3786"
            ],
            [
             0.5555555555555556,
             "#d8576b"
            ],
            [
             0.6666666666666666,
             "#ed7953"
            ],
            [
             0.7777777777777778,
             "#fb9f3a"
            ],
            [
             0.8888888888888888,
             "#fdca26"
            ],
            [
             1,
             "#f0f921"
            ]
           ]
          },
          "colorway": [
           "#636efa",
           "#EF553B",
           "#00cc96",
           "#ab63fa",
           "#FFA15A",
           "#19d3f3",
           "#FF6692",
           "#B6E880",
           "#FF97FF",
           "#FECB52"
          ],
          "font": {
           "color": "#2a3f5f"
          },
          "geo": {
           "bgcolor": "white",
           "lakecolor": "white",
           "landcolor": "#E5ECF6",
           "showlakes": true,
           "showland": true,
           "subunitcolor": "white"
          },
          "hoverlabel": {
           "align": "left"
          },
          "hovermode": "closest",
          "mapbox": {
           "style": "light"
          },
          "paper_bgcolor": "white",
          "plot_bgcolor": "#E5ECF6",
          "polar": {
           "angularaxis": {
            "gridcolor": "white",
            "linecolor": "white",
            "ticks": ""
           },
           "bgcolor": "#E5ECF6",
           "radialaxis": {
            "gridcolor": "white",
            "linecolor": "white",
            "ticks": ""
           }
          },
          "scene": {
           "xaxis": {
            "backgroundcolor": "#E5ECF6",
            "gridcolor": "white",
            "gridwidth": 2,
            "linecolor": "white",
            "showbackground": true,
            "ticks": "",
            "zerolinecolor": "white"
           },
           "yaxis": {
            "backgroundcolor": "#E5ECF6",
            "gridcolor": "white",
            "gridwidth": 2,
            "linecolor": "white",
            "showbackground": true,
            "ticks": "",
            "zerolinecolor": "white"
           },
           "zaxis": {
            "backgroundcolor": "#E5ECF6",
            "gridcolor": "white",
            "gridwidth": 2,
            "linecolor": "white",
            "showbackground": true,
            "ticks": "",
            "zerolinecolor": "white"
           }
          },
          "shapedefaults": {
           "line": {
            "color": "#2a3f5f"
           }
          },
          "ternary": {
           "aaxis": {
            "gridcolor": "white",
            "linecolor": "white",
            "ticks": ""
           },
           "baxis": {
            "gridcolor": "white",
            "linecolor": "white",
            "ticks": ""
           },
           "bgcolor": "#E5ECF6",
           "caxis": {
            "gridcolor": "white",
            "linecolor": "white",
            "ticks": ""
           }
          },
          "title": {
           "x": 0.05
          },
          "xaxis": {
           "automargin": true,
           "gridcolor": "white",
           "linecolor": "white",
           "ticks": "",
           "title": {
            "standoff": 15
           },
           "zerolinecolor": "white",
           "zerolinewidth": 2
          },
          "yaxis": {
           "automargin": true,
           "gridcolor": "white",
           "linecolor": "white",
           "ticks": "",
           "title": {
            "standoff": 15
           },
           "zerolinecolor": "white",
           "zerolinewidth": 2
          }
         }
        },
        "title": {
         "text": "Total Generation by Region Over Years"
        },
        "xaxis": {
         "anchor": "y",
         "domain": [
          0,
          1
         ],
         "title": {
          "text": "year"
         }
        },
        "yaxis": {
         "anchor": "x",
         "domain": [
          0,
          1
         ],
         "title": {
          "text": "generation"
         }
        }
       }
      }
     },
     "metadata": {},
     "output_type": "display_data"
    }
   ],
   "source": [
    "df_region = df_re_long.groupby(['year', 'region'])['generation'].sum().reset_index()\n",
    "fig = px.bar(df_region, x='year', y='generation', color='region', barmode='group',\n",
    "             title='Total Generation by Region Over Years')\n",
    "fig.show()\n"
   ]
  },
  {
   "cell_type": "markdown",
   "id": "ffb032c6",
   "metadata": {},
   "source": [
    "PLot 8:Total Generation by Region Over Years\n",
    "Chart Type: Grouped Bar Chart\n",
    "\n",
    "Title: Total Generation by Region Over Years\n",
    "\n",
    "Axes:\n",
    "\n",
    "X-axis: Year (2018-2023)\n",
    "Y-axis: Generation\n",
    "Legend:\n",
    "\n",
    "Region: ER, IS, NER, NR, SR, WR (represented by different colors)"
   ]
  },
  {
   "cell_type": "markdown",
   "id": "fc8ccb78",
   "metadata": {},
   "source": [
    "This chart displays the trend of total generation for each region year-on-year from 2018 to 2023.\n",
    "\n",
    "\n",
    "IS and NER regions consistently show the lowest generation levels throughout all the years, with minimal variation.\n",
    "\n",
    "ER region's generation remains relatively constant across the years displayed.\n",
    "\n",
    "NR, SR, and WR regions are the primary contributors to total generation and show more significant changes over time.\n",
    "\n",
    "NR generation fluctuates, generally showing higher levels from 2019-2021 compared to 2018 and a dip in 2022 before recovering slightly in 2023.\n",
    "\n",
    "SR generation generally trends upwards from 2018 to 2021, shows a noticeable dip in 2022, and then experiences a significant surge in 2023, reaching \n",
    "the highest levels among all regions in that year.\n",
    "\n",
    "WR generation also shows an increasing trend from 2018 to 2021, dips in 2022, and then sees a dramatic increase in 2023, reaching levels comparable to SR in 2023.\n",
    "\n",
    "A common pattern observed in NR, SR, and WR is a dip in generation in 2022 followed by a strong increase in 2023."
   ]
  },
  {
   "cell_type": "markdown",
   "id": "fc4f729e",
   "metadata": {},
   "source": [
    "---------------------------------------"
   ]
  },
  {
   "cell_type": "markdown",
   "id": "e3a462f7",
   "metadata": {},
   "source": [
    "#Distribution of Generation by Source (with outliers)\n"
   ]
  },
  {
   "cell_type": "code",
   "execution_count": 244,
   "id": "5662636a",
   "metadata": {},
   "outputs": [
    {
     "data": {
      "image/png": "[encoded data removed]",
      "text/plain": [
       "<Figure size 640x480 with 1 Axes>"
      ]
     },
     "metadata": {},
     "output_type": "display_data"
    }
   ],
   "source": [
    "sns.boxplot(data=df_re_long, x='source', y='generation')\n",
    "plt.title(\"Distribution of Generation by Source (with outliers)\")\n",
    "plt.xticks(rotation=45)\n",
    "plt.show()\n"
   ]
  },
  {
   "cell_type": "markdown",
   "id": "31ad947b",
   "metadata": {},
   "source": [
    "Plot 9: Distribution of Generation by Source (with outliers)\n",
    "Chart Type: Box Plot\n",
    "\n",
    "Title: Distribution of Generation by Source (with outliers)\n",
    "\n",
    "Axes:\n",
    "\n",
    "X-axis: Source (wind, solar, small_hydro, bio_power, large_hydro)\n",
    "Y-axis: Generation\n",
    "Description:\n",
    "This plot displays the distribution of generation values for each renewable energy source using box plots. Each box plot shows the median (line in the box), the interquartile range (IQR, the box), the whiskers (extending to a certain range beyond the IQR), and individual points representing outliers."
   ]
  },
  {
   "cell_type": "markdown",
   "id": "d44f3093",
   "metadata": {},
   "source": [
    "Observations:\n",
    "\n",
    "The box plots reveal the spread and central tendency of generation for each renewable energy source, as well as the presence of extreme values (outliers).\n",
    "\n",
    "large_hydro has the highest median generation and the largest interquartile range (box), indicating that it generally produces significantly more energy and has a wider variation in generation compared to all other sources. It also has outliers representing very high generation instances.\n",
    "\n",
    "wind and solar have much lower median and IQR values compared to large hydro, but show a considerable number of outliers that extend to moderate to high generation values, suggesting that while their typical generation is lower, they can have periods of high output.\n",
    "\n",
    "small_hydro and bio_power consistently show the lowest median and IQR values, concentrated close to zero. They also have outliers, but these outliers represent much lower generation values compared to the outliers seen in wind, solar, or large hydro.\n",
    "\n",
    "The plot clearly shows that large_hydro operates at a significantly different scale of generation compared to the other renewable sources.\n",
    "\n",
    "The presence of numerous outliers for wind and solar highlights the variability and intermittent nature of these sources, where generation can sometimes be much higher than the typical levels."
   ]
  },
  {
   "cell_type": "markdown",
   "id": "05b99e9e",
   "metadata": {},
   "source": [
    "-----------------"
   ]
  },
  {
   "cell_type": "markdown",
   "id": "37e2d619",
   "metadata": {},
   "source": [
    "Overall EDA Summary: Renewable Energy Generation Analysis\n",
    "\n",
    "This Exploratory Data Analysis (EDA) focuses on understanding the trends, distributions, and contributions of various renewable energy sources across different regions and states, as well as their correlations, primarily covering the period from 2018 to 2023.\n",
    "\n",
    "Key Findings and Trends:\n",
    "\n",
    "Regional Disparity: \n",
    "\n",
    "The total renewable energy generation is highly concentrated in a few key regions, namely NR (Northern Region), SR (Southern Region), and WR (Western Region). Regions like IS (Island States) and NER (North Eastern Region) consistently show very low generation.\n",
    "\n",
    "Growth and Fluctuations Over Time:\n",
    "\n",
    "Overall RE generation has shown an upward trend, particularly in the Post-Covid period (2021-23) compared to pre-Covid (2018-19).\n",
    "A notable pattern is observed in the major generating regions and sources: a dip in generation in 2022, followed by a strong recovery or surge in 2023. This suggests a potential widespread factor affecting generation in 2022.\n",
    "\n",
    "Dominant Sources and Emerging Trends:\n",
    "\n",
    "Large Hydro is currently the largest contributor to renewable energy generation, but its output shows significant year-on-year fluctuations, including a notable dip in 2022 before a strong recovery in 2023.\n",
    "Solar energy exhibits a consistent and robust increasing trend throughout the analysis period (2018-2023). It experienced a particularly steep rise from 2022 to 2023, eventually surpassing wind generation to become the second-largest source.\n",
    "Wind energy is also a substantial contributor, showing growth over the years, though its growth trajectory and recovery in 2023 are less pronounced than solar. It also experienced a dip in 2022.\n",
    "Bio-power and Small Hydro contribute minimally to the overall renewable energy mix and maintain relatively stable and low generation levels across all periods.\n",
    "\n",
    "Geographical Specialization and Contribution:\n",
    "\n",
    "The RE generation is highly localized, with only a handful of states contributing significantly.\n",
    "The Top 10 contributing states are Himachal Pradesh, Karnataka, Tamil Nadu, and Gujarat, collectively accounting for a substantial portion of the total RE generation among this leading group.\n",
    "States often show specialization in particular renewable energy sources:\n",
    "Himachal Pradesh excels in both Large Hydro and Small Hydro.\n",
    "Tamil Nadu is a leader in Wind energy generation.\n",
    "Rajasthan stands out as the top state for Solar energy generation, showing a significant increase in recent years (2022-2023).\n",
    "Karnataka and Maharashtra are notable for their Bio Power generation.\n",
    "\n",
    "Correlations and Distribution Characteristics:\n",
    "\n",
    "A strong positive correlation (0.81) exists between large_hydro and small_hydro generation, indicating that these sources often perform similarly.\n",
    "A moderate positive correlation (0.61) is observed between solar and wind generation, suggesting some level of synchronized output, which is crucial for grid management.\n",
    "\n",
    "The distributions of generation by source highlight the varying scales and variabilities:\n",
    "\n",
    "Large Hydro has the highest median generation and the widest interquartile range, indicating its significant output and inherent variability.\n",
    "Wind and Solar sources, while having lower typical generation, show numerous outliers representing periods of very high generation, underscoring their intermittent nature.\n",
    "Small Hydro and Bio-power have very low generation distributions, mostly concentrated near zero, with limited high-value outliers.\n",
    "\n",
    "Overall Conclusion for EDA:\n",
    "\n",
    "The analysis reveals that India's renewable energy landscape is characterized by strong growth, particularly in solar and wind sectors, concentrated within specific regions and states. While large hydro remains a major contributor, its generation shows more volatility. The observed dip in 2022 across multiple major sources and regions warrants further investigation, as does the substantial rebound in 2023. Understanding the geographical strengths in different RE sources can inform strategic planning for future renewable energy expansion and grid integration."
   ]
  },
  {
   "cell_type": "markdown",
   "id": "c3d3b175",
   "metadata": {},
   "source": []
  },
  {
   "cell_type": "code",
   "execution_count": 245,
   "id": "f5c29136",
   "metadata": {},
   "outputs": [
    {
     "name": "stdout",
     "output_type": "stream",
     "text": [
      "     Dates  Generation\n",
      "0  2017-18        1.46\n",
      "1  2018-19        1.11\n",
      "2  2019-20        0.66\n",
      "3  2020-21        0.45\n",
      "4  2021-22        0.15\n",
      "5  2022-23        0.10\n"
     ]
    }
   ],
   "source": [
    "lakshadweep_data = df_re_long_geo[df_re_long_geo['State'].str.lower() == 'lakshadweep']\n",
    "\n",
    "# Group by year (or \"Dates\", depending on your column name) and sum generation\n",
    "generation_by_year = lakshadweep_data.groupby('Dates')['Generation'].sum().reset_index()\n",
    "\n",
    "# Display result\n",
    "print(generation_by_year)"
   ]
  },
  {
   "cell_type": "code",
   "execution_count": null,
   "id": "555f6735",
   "metadata": {},
   "outputs": [],
   "source": []
  }
 ],
 "metadata": {
  "kernelspec": {
   "display_name": "Python 3",
   "language": "python",
   "name": "python3"
  },
  "language_info": {
   "codemirror_mode": {
    "name": "ipython",
    "version": 3
   },
   "file_extension": ".py",
   "mimetype": "text/x-python",
   "name": "python",
   "nbconvert_exporter": "python",
   "pygments_lexer": "ipython3",
   "version": "3.12.6"
  }
 },
 "nbformat": 4,
 "nbformat_minor": 5
}
