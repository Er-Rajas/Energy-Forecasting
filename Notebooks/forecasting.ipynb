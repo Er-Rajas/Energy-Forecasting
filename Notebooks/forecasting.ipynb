{
 "cells": [
  {
   "cell_type": "code",
   "execution_count": 1,
   "id": "39c5bea3",
   "metadata": {},
   "outputs": [],
   "source": [
    "import pandas as pd\n",
    "import numpy as np\n",
    "import statsmodels.api as sm\n",
    "import matplotlib.pyplot as plt\n",
    "import seaborn as sns\n",
    "from sklearn.metrics import mean_absolute_error, mean_squared_error,r2_score\n",
    "from sklearn.decomposition import PCA"
   ]
  },
  {
   "cell_type": "code",
   "execution_count": null,
   "id": "58f43f3c",
   "metadata": {},
   "outputs": [],
   "source": []
  },
  {
   "cell_type": "code",
   "execution_count": 2,
   "id": "81a58b8f",
   "metadata": {},
   "outputs": [],
   "source": [
    "df = pd.read_csv(r'C:\\Users\\rajas\\Documents\\GitHub\\Post-COVID-Energy-Forecasting\\data_set\\RE_LONG_FORMAT_2017_2023_WITH_GEO_CLEANED.csv')\n",
    "\n",
    "df['year'] = df['year'].astype(str).str[-2:].astype(int) + 2000\n",
    "df['state'] = df['state'].astype(str)\n",
    "df['generation'] = df['generation'].fillna(0)"
   ]
  },
  {
   "cell_type": "code",
   "execution_count": 3,
   "id": "91c23df0",
   "metadata": {},
   "outputs": [
    {
     "data": {
      "application/vnd.microsoft.datawrangler.viewer.v0+json": {
       "columns": [
        {
         "name": "index",
         "rawType": "int64",
         "type": "integer"
        },
        {
         "name": "year",
         "rawType": "int32",
         "type": "integer"
        },
        {
         "name": "state",
         "rawType": "object",
         "type": "string"
        },
        {
         "name": "region",
         "rawType": "object",
         "type": "string"
        },
        {
         "name": "latitude",
         "rawType": "float64",
         "type": "float"
        },
        {
         "name": "longitude",
         "rawType": "float64",
         "type": "float"
        },
        {
         "name": "source",
         "rawType": "object",
         "type": "string"
        },
        {
         "name": "generation",
         "rawType": "float64",
         "type": "float"
        }
       ],
       "conversionMethod": "pd.DataFrame",
       "ref": "e4b474bf-be58-4d34-a764-52881cc7303d",
       "rows": [
        [
         "0",
         "2018",
         "Chandigarh",
         "NR",
         "30.7333",
         "76.7794",
         "wind",
         "0.0"
        ],
        [
         "1",
         "2018",
         "Delhi",
         "NR",
         "28.7041",
         "77.1025",
         "wind",
         "0.0"
        ],
        [
         "2",
         "2018",
         "Haryana",
         "NR",
         "29.0588",
         "76.0856",
         "wind",
         "0.0"
        ],
        [
         "3",
         "2018",
         "Himachal Pradesh",
         "NR",
         "31.1048",
         "77.1734",
         "wind",
         "0.0"
        ],
        [
         "4",
         "2018",
         "Jammu and Kashmir",
         "NR",
         "33.7782",
         "76.5762",
         "wind",
         "0.0"
        ],
        [
         "5",
         "2018",
         "Punjab",
         "NR",
         "31.1471",
         "75.3412",
         "wind",
         "0.0"
        ],
        [
         "6",
         "2018",
         "Rajasthan",
         "WR",
         "27.0238",
         "74.2179",
         "wind",
         "5060.64"
        ],
        [
         "7",
         "2018",
         "Uttar Pradesh",
         "NR",
         "26.8467",
         "80.9462",
         "wind",
         "0.0"
        ],
        [
         "8",
         "2018",
         "Uttarakhand",
         "NR",
         "30.0668",
         "79.0193",
         "wind",
         "0.0"
        ],
        [
         "9",
         "2018",
         "Chhattisgarh",
         "WR",
         "21.2787",
         "81.8661",
         "wind",
         "0.0"
        ],
        [
         "10",
         "2018",
         "Gujarat",
         "WR",
         "22.2587",
         "71.1924",
         "wind",
         "8522.0"
        ],
        [
         "11",
         "2018",
         "Madhya Pradesh",
         "WR",
         "22.9734",
         "78.6569",
         "wind",
         "3619.82"
        ],
        [
         "12",
         "2018",
         "Maharashtra",
         "WR",
         "19.7515",
         "75.7139",
         "wind",
         "6099.69"
        ],
        [
         "13",
         "2018",
         "Dadra and Nagar Haveli",
         "WR",
         "20.1809",
         "73.0169",
         "wind",
         "0.0"
        ],
        [
         "14",
         "2018",
         "Daman and Diu",
         "WR",
         "20.4283",
         "72.8397",
         "wind",
         "0.0"
        ],
        [
         "15",
         "2018",
         "Andhra Pradesh",
         "SR",
         "15.9129",
         "79.74",
         "wind",
         "5576.89"
        ],
        [
         "16",
         "2018",
         "Telangana",
         "SR",
         "18.1124",
         "79.0193",
         "wind",
         "180.23"
        ],
        [
         "17",
         "2018",
         "Karnataka",
         "SR",
         "15.3173",
         "75.7139",
         "wind",
         "6623.48"
        ],
        [
         "18",
         "2018",
         "Kerala",
         "SR",
         "10.8505",
         "76.2711",
         "wind",
         "86.75"
        ],
        [
         "19",
         "2018",
         "Tamil Nadu",
         "SR",
         "11.1271",
         "78.6569",
         "wind",
         "11491.81"
        ],
        [
         "20",
         "2018",
         "Lakshadweep",
         "SR",
         "10.5667",
         "72.6417",
         "wind",
         "0.0"
        ],
        [
         "21",
         "2018",
         "Puducherry",
         "SR",
         "11.9416",
         "79.8083",
         "wind",
         "0.0"
        ],
        [
         "22",
         "2018",
         "Andaman Nicobar",
         "IS",
         "11.7401",
         "92.6586",
         "wind",
         "0.0"
        ],
        [
         "23",
         "2018",
         "Bihar",
         "ER",
         "25.0961",
         "85.3131",
         "wind",
         "0.0"
        ],
        [
         "24",
         "2018",
         "Jharkhand",
         "ER",
         "23.6102",
         "85.2799",
         "wind",
         "0.0"
        ],
        [
         "25",
         "2018",
         "Odisha",
         "ER",
         "20.9517",
         "85.0985",
         "wind",
         "0.0"
        ],
        [
         "26",
         "2018",
         "Sikkim",
         "ER",
         "27.533",
         "88.5122",
         "wind",
         "0.0"
        ],
        [
         "27",
         "2018",
         "West Bengal",
         "ER",
         "22.9868",
         "87.855",
         "wind",
         "0.0"
        ],
        [
         "28",
         "2018",
         "Arunachal Pradesh",
         "NER",
         "28.218",
         "94.7278",
         "wind",
         "0.0"
        ],
        [
         "29",
         "2018",
         "Assam",
         "NER",
         "26.2006",
         "92.9376",
         "wind",
         "0.0"
        ],
        [
         "30",
         "2018",
         "Manipur",
         "NER",
         "24.6637",
         "93.9063",
         "wind",
         "0.0"
        ],
        [
         "31",
         "2018",
         "Meghalaya",
         "NER",
         "25.467",
         "91.3662",
         "wind",
         "0.0"
        ],
        [
         "32",
         "2018",
         "Mizoram",
         "NER",
         "23.1645",
         "92.9376",
         "wind",
         "0.0"
        ],
        [
         "33",
         "2018",
         "Nagaland",
         "NER",
         "26.1584",
         "94.5624",
         "wind",
         "0.0"
        ],
        [
         "34",
         "2018",
         "Tripura",
         "NER",
         "23.9408",
         "91.9882",
         "wind",
         "0.0"
        ],
        [
         "35",
         "2018",
         "Chandigarh",
         "NR",
         "30.7333",
         "76.7794",
         "solar",
         "6.35"
        ],
        [
         "36",
         "2018",
         "Delhi",
         "NR",
         "28.7041",
         "77.1025",
         "solar",
         "11.03"
        ],
        [
         "37",
         "2018",
         "Haryana",
         "NR",
         "29.0588",
         "76.0856",
         "solar",
         "51.84"
        ],
        [
         "38",
         "2018",
         "Himachal Pradesh",
         "NR",
         "31.1048",
         "77.1734",
         "solar",
         "0.0"
        ],
        [
         "39",
         "2018",
         "Jammu and Kashmir",
         "NR",
         "33.7782",
         "76.5762",
         "solar",
         "0.0"
        ],
        [
         "40",
         "2018",
         "Punjab",
         "NR",
         "31.1471",
         "75.3412",
         "solar",
         "1194.18"
        ],
        [
         "41",
         "2018",
         "Rajasthan",
         "WR",
         "27.0238",
         "74.2179",
         "solar",
         "2802.06"
        ],
        [
         "42",
         "2018",
         "Uttar Pradesh",
         "NR",
         "26.8467",
         "80.9462",
         "solar",
         "476.52"
        ],
        [
         "43",
         "2018",
         "Uttarakhand",
         "NR",
         "30.0668",
         "79.0193",
         "solar",
         "201.32"
        ],
        [
         "44",
         "2018",
         "Chhattisgarh",
         "WR",
         "21.2787",
         "81.8661",
         "solar",
         "96.48"
        ],
        [
         "45",
         "2018",
         "Gujarat",
         "WR",
         "22.2587",
         "71.1924",
         "solar",
         "1634.78"
        ],
        [
         "46",
         "2018",
         "Madhya Pradesh",
         "WR",
         "22.9734",
         "78.6569",
         "solar",
         "1430.77"
        ],
        [
         "47",
         "2018",
         "Maharashtra",
         "WR",
         "19.7515",
         "75.7139",
         "solar",
         "848.25"
        ],
        [
         "48",
         "2018",
         "Dadra and Nagar Haveli",
         "WR",
         "20.1809",
         "73.0169",
         "solar",
         "4.5"
        ],
        [
         "49",
         "2018",
         "Daman and Diu",
         "WR",
         "20.4283",
         "72.8397",
         "solar",
         "15.12"
        ]
       ],
       "shape": {
        "columns": 7,
        "rows": 1100
       }
      },
      "text/html": [
       "<div>\n",
       "<style scoped>\n",
       "    .dataframe tbody tr th:only-of-type {\n",
       "        vertical-align: middle;\n",
       "    }\n",
       "\n",
       "    .dataframe tbody tr th {\n",
       "        vertical-align: top;\n",
       "    }\n",
       "\n",
       "    .dataframe thead th {\n",
       "        text-align: right;\n",
       "    }\n",
       "</style>\n",
       "<table border=\"1\" class=\"dataframe\">\n",
       "  <thead>\n",
       "    <tr style=\"text-align: right;\">\n",
       "      <th></th>\n",
       "      <th>year</th>\n",
       "      <th>state</th>\n",
       "      <th>region</th>\n",
       "      <th>latitude</th>\n",
       "      <th>longitude</th>\n",
       "      <th>source</th>\n",
       "      <th>generation</th>\n",
       "    </tr>\n",
       "  </thead>\n",
       "  <tbody>\n",
       "    <tr>\n",
       "      <th>0</th>\n",
       "      <td>2018</td>\n",
       "      <td>Chandigarh</td>\n",
       "      <td>NR</td>\n",
       "      <td>30.7333</td>\n",
       "      <td>76.7794</td>\n",
       "      <td>wind</td>\n",
       "      <td>0.00</td>\n",
       "    </tr>\n",
       "    <tr>\n",
       "      <th>1</th>\n",
       "      <td>2018</td>\n",
       "      <td>Delhi</td>\n",
       "      <td>NR</td>\n",
       "      <td>28.7041</td>\n",
       "      <td>77.1025</td>\n",
       "      <td>wind</td>\n",
       "      <td>0.00</td>\n",
       "    </tr>\n",
       "    <tr>\n",
       "      <th>2</th>\n",
       "      <td>2018</td>\n",
       "      <td>Haryana</td>\n",
       "      <td>NR</td>\n",
       "      <td>29.0588</td>\n",
       "      <td>76.0856</td>\n",
       "      <td>wind</td>\n",
       "      <td>0.00</td>\n",
       "    </tr>\n",
       "    <tr>\n",
       "      <th>3</th>\n",
       "      <td>2018</td>\n",
       "      <td>Himachal Pradesh</td>\n",
       "      <td>NR</td>\n",
       "      <td>31.1048</td>\n",
       "      <td>77.1734</td>\n",
       "      <td>wind</td>\n",
       "      <td>0.00</td>\n",
       "    </tr>\n",
       "    <tr>\n",
       "      <th>4</th>\n",
       "      <td>2018</td>\n",
       "      <td>Jammu and Kashmir</td>\n",
       "      <td>NR</td>\n",
       "      <td>33.7782</td>\n",
       "      <td>76.5762</td>\n",
       "      <td>wind</td>\n",
       "      <td>0.00</td>\n",
       "    </tr>\n",
       "    <tr>\n",
       "      <th>...</th>\n",
       "      <td>...</td>\n",
       "      <td>...</td>\n",
       "      <td>...</td>\n",
       "      <td>...</td>\n",
       "      <td>...</td>\n",
       "      <td>...</td>\n",
       "      <td>...</td>\n",
       "    </tr>\n",
       "    <tr>\n",
       "      <th>1095</th>\n",
       "      <td>2023</td>\n",
       "      <td>Mizoram</td>\n",
       "      <td>NER</td>\n",
       "      <td>23.1645</td>\n",
       "      <td>92.9376</td>\n",
       "      <td>large_hydro</td>\n",
       "      <td>204.13</td>\n",
       "    </tr>\n",
       "    <tr>\n",
       "      <th>1096</th>\n",
       "      <td>2023</td>\n",
       "      <td>Nagaland</td>\n",
       "      <td>NER</td>\n",
       "      <td>26.1584</td>\n",
       "      <td>94.5624</td>\n",
       "      <td>large_hydro</td>\n",
       "      <td>177.37</td>\n",
       "    </tr>\n",
       "    <tr>\n",
       "      <th>1097</th>\n",
       "      <td>2023</td>\n",
       "      <td>Tripura</td>\n",
       "      <td>NER</td>\n",
       "      <td>23.9408</td>\n",
       "      <td>91.9882</td>\n",
       "      <td>large_hydro</td>\n",
       "      <td>0.00</td>\n",
       "    </tr>\n",
       "    <tr>\n",
       "      <th>1098</th>\n",
       "      <td>2023</td>\n",
       "      <td>Dadra and Nagar Haveli</td>\n",
       "      <td>WR</td>\n",
       "      <td>20.1809</td>\n",
       "      <td>73.0169</td>\n",
       "      <td>large_hydro</td>\n",
       "      <td>0.00</td>\n",
       "    </tr>\n",
       "    <tr>\n",
       "      <th>1099</th>\n",
       "      <td>2023</td>\n",
       "      <td>Daman and Diu</td>\n",
       "      <td>WR</td>\n",
       "      <td>20.4283</td>\n",
       "      <td>72.8397</td>\n",
       "      <td>large_hydro</td>\n",
       "      <td>0.00</td>\n",
       "    </tr>\n",
       "  </tbody>\n",
       "</table>\n",
       "<p>1100 rows × 7 columns</p>\n",
       "</div>"
      ],
      "text/plain": [
       "      year                   state region  latitude  longitude       source  \\\n",
       "0     2018              Chandigarh     NR   30.7333    76.7794         wind   \n",
       "1     2018                   Delhi     NR   28.7041    77.1025         wind   \n",
       "2     2018                 Haryana     NR   29.0588    76.0856         wind   \n",
       "3     2018        Himachal Pradesh     NR   31.1048    77.1734         wind   \n",
       "4     2018       Jammu and Kashmir     NR   33.7782    76.5762         wind   \n",
       "...    ...                     ...    ...       ...        ...          ...   \n",
       "1095  2023                 Mizoram    NER   23.1645    92.9376  large_hydro   \n",
       "1096  2023                Nagaland    NER   26.1584    94.5624  large_hydro   \n",
       "1097  2023                 Tripura    NER   23.9408    91.9882  large_hydro   \n",
       "1098  2023  Dadra and Nagar Haveli     WR   20.1809    73.0169  large_hydro   \n",
       "1099  2023           Daman and Diu     WR   20.4283    72.8397  large_hydro   \n",
       "\n",
       "      generation  \n",
       "0           0.00  \n",
       "1           0.00  \n",
       "2           0.00  \n",
       "3           0.00  \n",
       "4           0.00  \n",
       "...          ...  \n",
       "1095      204.13  \n",
       "1096      177.37  \n",
       "1097        0.00  \n",
       "1098        0.00  \n",
       "1099        0.00  \n",
       "\n",
       "[1100 rows x 7 columns]"
      ]
     },
     "execution_count": 3,
     "metadata": {},
     "output_type": "execute_result"
    }
   ],
   "source": [
    "df"
   ]
  },
  {
   "cell_type": "code",
   "execution_count": 4,
   "id": "e3874d3d",
   "metadata": {},
   "outputs": [],
   "source": [
    "train_df = df[df['year'] <= 2022]\n",
    "test_df = df[df['year'] == 2023]"
   ]
  },
  {
   "cell_type": "code",
   "execution_count": 5,
   "id": "9458a4f5",
   "metadata": {},
   "outputs": [],
   "source": [
    "predictions = []"
   ]
  },
  {
   "cell_type": "code",
   "execution_count": 6,
   "id": "ca52c4d4",
   "metadata": {},
   "outputs": [
    {
     "name": "stdout",
     "output_type": "stream",
     "text": [
      "Skipped Andaman Nicobar - bio_power: All-zero generation.\n",
      "Skipped Andaman Nicobar - large_hydro: All-zero generation.\n",
      "Skipped Andaman Nicobar - wind: All-zero generation.\n",
      "Skipped Arunachal Pradesh - bio_power: All-zero generation.\n",
      "Skipped Arunachal Pradesh - wind: All-zero generation.\n",
      "Skipped Assam - bio_power: All-zero generation.\n",
      "Skipped Assam - wind: All-zero generation.\n",
      "Skipped Bihar - large_hydro: All-zero generation.\n",
      "Skipped Chandigarh - bio_power: All-zero generation.\n",
      "Skipped Chandigarh - large_hydro: All-zero generation.\n",
      "Skipped Chandigarh - small_hydro: All-zero generation.\n",
      "Skipped Chandigarh - wind: All-zero generation.\n",
      "Skipped Chhattisgarh - wind: All-zero generation.\n",
      "Skipped Dadra and Nagar Haveli - bio_power: All-zero generation.\n",
      "Skipped Dadra and Nagar Haveli - large_hydro: All-zero generation.\n",
      "Skipped Dadra and Nagar Haveli - small_hydro: All-zero generation.\n",
      "Skipped Dadra and Nagar Haveli - wind: All-zero generation.\n",
      "Skipped Daman and Diu - large_hydro: All-zero generation.\n",
      "Skipped Daman and Diu - small_hydro: All-zero generation.\n",
      "Skipped Daman and Diu - wind: All-zero generation.\n",
      "Skipped Delhi - large_hydro: All-zero generation.\n",
      "Skipped Delhi - small_hydro: All-zero generation.\n",
      "Skipped Delhi - wind: All-zero generation.\n",
      "Skipped Goa - bio_power: All-zero generation.\n",
      "Skipped Goa - large_hydro: All-zero generation.\n",
      "Skipped Goa - small_hydro: All-zero generation.\n",
      "Skipped Goa - wind: All-zero generation.\n",
      "Skipped Haryana - large_hydro: All-zero generation.\n",
      "Skipped Haryana - wind: All-zero generation.\n",
      "Skipped Himachal Pradesh - bio_power: All-zero generation.\n",
      "Skipped Himachal Pradesh - wind: All-zero generation.\n",
      "Skipped Jammu and Kashmir - bio_power: All-zero generation.\n",
      "Skipped Jammu and Kashmir - wind: All-zero generation.\n",
      "Skipped Jharkhand - wind: All-zero generation.\n",
      "Skipped Ladkh - bio_power: All-zero generation.\n",
      "Skipped Ladkh - small_hydro: All-zero generation.\n",
      "Skipped Ladkh - solar: All-zero generation.\n",
      "Skipped Ladkh - wind: All-zero generation.\n",
      "Skipped Lakshadweep - bio_power: All-zero generation.\n",
      "Skipped Lakshadweep - large_hydro: All-zero generation.\n",
      "Skipped Lakshadweep - small_hydro: All-zero generation.\n",
      "Skipped Lakshadweep - wind: All-zero generation.\n",
      "Skipped Manipur - bio_power: All-zero generation.\n",
      "Skipped Manipur - wind: All-zero generation.\n",
      "Skipped Meghalaya - bio_power: All-zero generation.\n",
      "Skipped Meghalaya - solar: All-zero generation.\n",
      "Skipped Meghalaya - wind: All-zero generation.\n",
      "Skipped Mizoram - bio_power: All-zero generation.\n",
      "Skipped Mizoram - wind: All-zero generation.\n",
      "Skipped Nagaland - bio_power: All-zero generation.\n",
      "Skipped Nagaland - solar: All-zero generation.\n",
      "Skipped Nagaland - wind: All-zero generation.\n",
      "Skipped Puducherry - bio_power: All-zero generation.\n",
      "Skipped Puducherry - large_hydro: All-zero generation.\n",
      "Skipped Puducherry - small_hydro: All-zero generation.\n",
      "Skipped Puducherry - wind: All-zero generation.\n",
      "Skipped Sikkim - bio_power: All-zero generation.\n",
      "Skipped Sikkim - solar: All-zero generation.\n",
      "Skipped Sikkim - wind: All-zero generation.\n",
      "Skipped Tripura - bio_power: All-zero generation.\n",
      "Skipped Tripura - large_hydro: All-zero generation.\n",
      "Skipped Tripura - wind: All-zero generation.\n",
      "Skipped Uttar Pradesh - wind: All-zero generation.\n",
      "Skipped Uttarakhand - wind: All-zero generation.\n",
      "Skipped West Bengal - wind: All-zero generation.\n"
     ]
    }
   ],
   "source": [
    "for (state, source), group in train_df.groupby(['state', 'source']):\n",
    "    try:\n",
    "        if group['generation'].sum() == 0:\n",
    "            print(f\"Skipped {state} - {source}: All-zero generation.\")\n",
    "            continue\n",
    "\n",
    "        group_sorted = group.sort_values('year')\n",
    "        X_train = pd.DataFrame({'year': group_sorted['year']})\n",
    "        X_train = sm.add_constant(X_train, has_constant='add')\n",
    "        y_train = group_sorted['generation']\n",
    "\n",
    "        model = sm.GLM(y_train, X_train, family=sm.families.Poisson()).fit()\n",
    "\n",
    "        X_test = pd.DataFrame({'year': [2023]})\n",
    "        X_test = sm.add_constant(X_test, has_constant='add')\n",
    "        y_pred = model.predict(X_test)[0]\n",
    "\n",
    "        y_true = test_df[(test_df['state'] == state) & (test_df['source'] == source)]['generation']\n",
    "        y_true_val = y_true.values[0] if not y_true.empty else np.nan\n",
    "\n",
    "        predictions.append({\n",
    "            'state': state,\n",
    "            'source': source,\n",
    "            # 'year' : 2023,\n",
    "            'actual_2023': y_true_val,\n",
    "            'predicted_2023': y_pred\n",
    "        })\n",
    "\n",
    "    except Exception as e:\n",
    "        print(f\"Failed for {state} - {source}: {e}\")\n"
   ]
  },
  {
   "cell_type": "code",
   "execution_count": 7,
   "id": "f4b841a9",
   "metadata": {},
   "outputs": [],
   "source": [
    "pred_df = pd.DataFrame(predictions).dropna()"
   ]
  },
  {
   "cell_type": "code",
   "execution_count": 8,
   "id": "185007ba",
   "metadata": {},
   "outputs": [
    {
     "name": "stderr",
     "output_type": "stream",
     "text": [
      "c:\\ProgramData\\anaconda3\\Lib\\site-packages\\sklearn\\metrics\\_regression.py:492: FutureWarning: 'squared' is deprecated in version 1.4 and will be removed in 1.6. To calculate the root mean squared error, use the function'root_mean_squared_error'.\n",
      "  warnings.warn(\n"
     ]
    }
   ],
   "source": [
    "mae = mean_absolute_error(pred_df['actual_2023'], pred_df['predicted_2023'])\n",
    "rmse = mean_squared_error(pred_df['actual_2023'], pred_df['predicted_2023'], squared=False)\n",
    "mape = (np.abs(pred_df['actual_2023'] - pred_df['predicted_2023']) / pred_df['actual_2023']).mean() * 100"
   ]
  },
  {
   "cell_type": "code",
   "execution_count": 9,
   "id": "5dc0cb3e",
   "metadata": {},
   "outputs": [
    {
     "data": {
      "application/vnd.microsoft.datawrangler.viewer.v0+json": {
       "columns": [
        {
         "name": "index",
         "rawType": "int64",
         "type": "integer"
        },
        {
         "name": "state",
         "rawType": "object",
         "type": "string"
        },
        {
         "name": "source",
         "rawType": "object",
         "type": "string"
        },
        {
         "name": "actual_2023",
         "rawType": "float64",
         "type": "float"
        },
        {
         "name": "predicted_2023",
         "rawType": "float64",
         "type": "float"
        }
       ],
       "conversionMethod": "pd.DataFrame",
       "ref": "cb37dde9-ccd8-4766-8105-694a1cd595a9",
       "rows": [
        [
         "0",
         "Andaman Nicobar",
         "small_hydro",
         "13.94",
         "7.943997435986181"
        ],
        [
         "1",
         "Andaman Nicobar",
         "solar",
         "23.94",
         "20.148560908578254"
        ],
        [
         "2",
         "Andhra Pradesh",
         "bio_power",
         "54.86",
         "140.53571622383473"
        ],
        [
         "3",
         "Andhra Pradesh",
         "large_hydro",
         "3747.58",
         "2046.6175087923589"
        ],
        [
         "4",
         "Andhra Pradesh",
         "small_hydro",
         "410.9",
         "276.0102610986543"
        ],
        [
         "5",
         "Andhra Pradesh",
         "solar",
         "8140.72",
         "6301.908223891994"
        ],
        [
         "6",
         "Andhra Pradesh",
         "wind",
         "7426.46",
         "5974.8188689985445"
        ],
        [
         "7",
         "Arunachal Pradesh",
         "large_hydro",
         "4820.94",
         "3024.727562406291"
        ],
        [
         "8",
         "Arunachal Pradesh",
         "small_hydro",
         "2.55",
         "0.30366070147218305"
        ],
        [
         "9",
         "Arunachal Pradesh",
         "solar",
         "22.27",
         "1.7045959696808248"
        ],
        [
         "10",
         "Assam",
         "large_hydro",
         "481.6",
         "412.80672483539087"
        ],
        [
         "11",
         "Assam",
         "small_hydro",
         "62.66",
         "43.10082442757911"
        ],
        [
         "12",
         "Assam",
         "solar",
         "216.35",
         "41.03005964944987"
        ],
        [
         "13",
         "Bihar",
         "bio_power",
         "0.0",
         "29.41502589043108"
        ],
        [
         "14",
         "Bihar",
         "small_hydro",
         "12.63",
         "23.52278463789687"
        ],
        [
         "15",
         "Bihar",
         "solar",
         "169.53",
         "116.98187919351335"
        ],
        [
         "16",
         "Bihar",
         "wind",
         "0.0",
         "0.33272591694070636"
        ],
        [
         "17",
         "Chandigarh",
         "solar",
         "12.61",
         "9.68658455862458"
        ],
        [
         "18",
         "Chhattisgarh",
         "bio_power",
         "1194.6",
         "857.9952512612263"
        ],
        [
         "19",
         "Chhattisgarh",
         "large_hydro",
         "237.37",
         "308.28933275702957"
        ],
        [
         "20",
         "Chhattisgarh",
         "small_hydro",
         "155.92",
         "211.8671839432819"
        ],
        [
         "21",
         "Chhattisgarh",
         "solar",
         "635.42",
         "338.5385890714586"
        ],
        [
         "22",
         "Dadra and Nagar Haveli",
         "solar",
         "27.4",
         "29.13731110601799"
        ],
        [
         "23",
         "Daman and Diu",
         "bio_power",
         "3.22",
         "23.184485871788315"
        ],
        [
         "24",
         "Daman and Diu",
         "solar",
         "27.4",
         "25.147429986635892"
        ],
        [
         "25",
         "Delhi",
         "bio_power",
         "0.0",
         "166.71059822046925"
        ],
        [
         "26",
         "Delhi",
         "solar",
         "236.11",
         "281.2253220558496"
        ],
        [
         "27",
         "Goa",
         "solar",
         "14.87",
         "1.6707545456807962"
        ],
        [
         "28",
         "Gujarat",
         "bio_power",
         "0.0",
         "49.99498321741089"
        ],
        [
         "29",
         "Gujarat",
         "large_hydro",
         "6133.14",
         "2788.0495992200267"
        ],
        [
         "30",
         "Gujarat",
         "small_hydro",
         "213.1",
         "192.80488394926542"
        ],
        [
         "31",
         "Gujarat",
         "solar",
         "10335.32",
         "4821.404844584393"
        ],
        [
         "32",
         "Gujarat",
         "wind",
         "19206.22",
         "13648.021886863453"
        ],
        [
         "33",
         "Haryana",
         "bio_power",
         "356.07",
         "189.5493477361268"
        ],
        [
         "34",
         "Haryana",
         "small_hydro",
         "241.9",
         "205.3939919249672"
        ],
        [
         "35",
         "Haryana",
         "solar",
         "555.2",
         "344.0497049172846"
        ],
        [
         "36",
         "Himachal Pradesh",
         "large_hydro",
         "38666.98",
         "30258.260843845357"
        ],
        [
         "37",
         "Himachal Pradesh",
         "small_hydro",
         "2854.19",
         "1565.8318119780072"
        ],
        [
         "38",
         "Himachal Pradesh",
         "solar",
         "58.76",
         "71.70196640663123"
        ],
        [
         "39",
         "Jammu and Kashmir",
         "large_hydro",
         "16777.42",
         "13743.059556229155"
        ],
        [
         "40",
         "Jammu and Kashmir",
         "small_hydro",
         "393.2",
         "380.37544481251945"
        ],
        [
         "41",
         "Jammu and Kashmir",
         "solar",
         "0.0",
         "11.351734064183654"
        ],
        [
         "42",
         "Jharkhand",
         "bio_power",
         "0.0",
         "0.2227231457965222"
        ],
        [
         "43",
         "Jharkhand",
         "large_hydro",
         "305.47",
         "338.4132148524186"
        ],
        [
         "44",
         "Jharkhand",
         "small_hydro",
         "0.0",
         "6.634668778351113"
        ],
        [
         "45",
         "Jharkhand",
         "solar",
         "19.7",
         "11.447169252289726"
        ],
        [
         "46",
         "Karnataka",
         "bio_power",
         "106.9",
         "1759.382990747142"
        ],
        [
         "47",
         "Karnataka",
         "large_hydro",
         "13157.34",
         "8890.493798460582"
        ],
        [
         "48",
         "Karnataka",
         "small_hydro",
         "2309.55",
         "1747.2941420908755"
        ],
        [
         "49",
         "Karnataka",
         "solar",
         "14153.79",
         "13986.130898582078"
        ]
       ],
       "shape": {
        "columns": 4,
        "rows": 120
       }
      },
      "text/html": [
       "<div>\n",
       "<style scoped>\n",
       "    .dataframe tbody tr th:only-of-type {\n",
       "        vertical-align: middle;\n",
       "    }\n",
       "\n",
       "    .dataframe tbody tr th {\n",
       "        vertical-align: top;\n",
       "    }\n",
       "\n",
       "    .dataframe thead th {\n",
       "        text-align: right;\n",
       "    }\n",
       "</style>\n",
       "<table border=\"1\" class=\"dataframe\">\n",
       "  <thead>\n",
       "    <tr style=\"text-align: right;\">\n",
       "      <th></th>\n",
       "      <th>state</th>\n",
       "      <th>source</th>\n",
       "      <th>actual_2023</th>\n",
       "      <th>predicted_2023</th>\n",
       "    </tr>\n",
       "  </thead>\n",
       "  <tbody>\n",
       "    <tr>\n",
       "      <th>0</th>\n",
       "      <td>Andaman Nicobar</td>\n",
       "      <td>small_hydro</td>\n",
       "      <td>13.94</td>\n",
       "      <td>7.943997</td>\n",
       "    </tr>\n",
       "    <tr>\n",
       "      <th>1</th>\n",
       "      <td>Andaman Nicobar</td>\n",
       "      <td>solar</td>\n",
       "      <td>23.94</td>\n",
       "      <td>20.148561</td>\n",
       "    </tr>\n",
       "    <tr>\n",
       "      <th>2</th>\n",
       "      <td>Andhra Pradesh</td>\n",
       "      <td>bio_power</td>\n",
       "      <td>54.86</td>\n",
       "      <td>140.535716</td>\n",
       "    </tr>\n",
       "    <tr>\n",
       "      <th>3</th>\n",
       "      <td>Andhra Pradesh</td>\n",
       "      <td>large_hydro</td>\n",
       "      <td>3747.58</td>\n",
       "      <td>2046.617509</td>\n",
       "    </tr>\n",
       "    <tr>\n",
       "      <th>4</th>\n",
       "      <td>Andhra Pradesh</td>\n",
       "      <td>small_hydro</td>\n",
       "      <td>410.90</td>\n",
       "      <td>276.010261</td>\n",
       "    </tr>\n",
       "    <tr>\n",
       "      <th>...</th>\n",
       "      <td>...</td>\n",
       "      <td>...</td>\n",
       "      <td>...</td>\n",
       "      <td>...</td>\n",
       "    </tr>\n",
       "    <tr>\n",
       "      <th>115</th>\n",
       "      <td>Uttarakhand</td>\n",
       "      <td>solar</td>\n",
       "      <td>331.80</td>\n",
       "      <td>240.153962</td>\n",
       "    </tr>\n",
       "    <tr>\n",
       "      <th>116</th>\n",
       "      <td>West Bengal</td>\n",
       "      <td>bio_power</td>\n",
       "      <td>0.00</td>\n",
       "      <td>954.861863</td>\n",
       "    </tr>\n",
       "    <tr>\n",
       "      <th>117</th>\n",
       "      <td>West Bengal</td>\n",
       "      <td>large_hydro</td>\n",
       "      <td>3423.73</td>\n",
       "      <td>2353.593979</td>\n",
       "    </tr>\n",
       "    <tr>\n",
       "      <th>118</th>\n",
       "      <td>West Bengal</td>\n",
       "      <td>small_hydro</td>\n",
       "      <td>204.44</td>\n",
       "      <td>82.213746</td>\n",
       "    </tr>\n",
       "    <tr>\n",
       "      <th>119</th>\n",
       "      <td>West Bengal</td>\n",
       "      <td>solar</td>\n",
       "      <td>125.04</td>\n",
       "      <td>87.369494</td>\n",
       "    </tr>\n",
       "  </tbody>\n",
       "</table>\n",
       "<p>120 rows × 4 columns</p>\n",
       "</div>"
      ],
      "text/plain": [
       "               state       source  actual_2023  predicted_2023\n",
       "0    Andaman Nicobar  small_hydro        13.94        7.943997\n",
       "1    Andaman Nicobar        solar        23.94       20.148561\n",
       "2     Andhra Pradesh    bio_power        54.86      140.535716\n",
       "3     Andhra Pradesh  large_hydro      3747.58     2046.617509\n",
       "4     Andhra Pradesh  small_hydro       410.90      276.010261\n",
       "..               ...          ...          ...             ...\n",
       "115      Uttarakhand        solar       331.80      240.153962\n",
       "116      West Bengal    bio_power         0.00      954.861863\n",
       "117      West Bengal  large_hydro      3423.73     2353.593979\n",
       "118      West Bengal  small_hydro       204.44       82.213746\n",
       "119      West Bengal        solar       125.04       87.369494\n",
       "\n",
       "[120 rows x 4 columns]"
      ]
     },
     "execution_count": 9,
     "metadata": {},
     "output_type": "execute_result"
    }
   ],
   "source": [
    "pred_df"
   ]
  },
  {
   "cell_type": "code",
   "execution_count": 10,
   "id": "ddbf7253",
   "metadata": {},
   "outputs": [],
   "source": [
    "pred_df.to_csv(\"forecast_2023_comparison.csv\", index=False)"
   ]
  },
  {
   "cell_type": "code",
   "execution_count": 11,
   "id": "89357e20",
   "metadata": {},
   "outputs": [
    {
     "name": "stdout",
     "output_type": "stream",
     "text": [
      "MAE: 982.10, RMSE: 2631.41, MAPE: inf%\n"
     ]
    },
    {
     "data": {
      "image/png": "[encoded data removed]",
      "text/plain": [
       "<Figure size 1400x600 with 1 Axes>"
      ]
     },
     "metadata": {},
     "output_type": "display_data"
    }
   ],
   "source": [
    "print(f\"MAE: {mae:.2f}, RMSE: {rmse:.2f}, MAPE: {mape:.2f}%\")\n",
    "\n",
    "# Visualization\n",
    "plt.figure(figsize=(14, 6))\n",
    "sns.scatterplot(data=pred_df, x='actual_2023', y='predicted_2023', hue='source')\n",
    "plt.plot([pred_df['actual_2023'].min(), pred_df['actual_2023'].max()],\n",
    "         [pred_df['actual_2023'].min(), pred_df['actual_2023'].max()], 'k--')\n",
    "plt.title(\"Forecast vs Actual (2023) — Poisson Regression\")\n",
    "plt.xlabel(\"Actual 2023 Generation\")\n",
    "plt.ylabel(\"Predicted 2023 Generation\")\n",
    "plt.legend()\n",
    "plt.tight_layout()\n",
    "# plt.savefig(\"output/forecast_2023_scatter.png\")\n",
    "plt.show()"
   ]
  },
  {
   "cell_type": "code",
   "execution_count": 12,
   "id": "48bcfccd",
   "metadata": {},
   "outputs": [],
   "source": [
    "def safe_mape(y_true, y_pred):\n",
    "    \"\"\"MAPE that excludes zero and extreme outliers\"\"\"\n",
    "    y_true, y_pred = np.array(y_true), np.array(y_pred)\n",
    "    mask = y_true != 0\n",
    "    y_true, y_pred = y_true[mask], y_pred[mask]\n",
    "    mape = np.abs((y_true - y_pred) / y_true)\n",
    "    mape = mape[mape < 10]  # Exclude insane outliers >1000%\n",
    "    return np.mean(mape) * 100\n",
    "\n",
    "def smape(y_true, y_pred):\n",
    "    \"\"\"Symmetric MAPE (handles zero values better)\"\"\"\n",
    "    y_true, y_pred = np.array(y_true), np.array(y_pred)\n",
    "    denominator = (np.abs(y_true) + np.abs(y_pred)) / 2\n",
    "    smape_val = np.abs(y_true - y_pred) / denominator\n",
    "    smape_val = smape_val[~np.isnan(smape_val)]  # remove NaNs\n",
    "    return np.mean(smape_val) * 100\n",
    "\n",
    "def evaluate_model(y_true, y_pred):\n",
    "    mae = mean_absolute_error(y_true, y_pred)\n",
    "    rmse = np.sqrt(mean_squared_error(y_true, y_pred))\n",
    "    mape_val = safe_mape(y_true, y_pred)\n",
    "    smape_val = smape(y_true, y_pred)\n",
    "    \n",
    "    print(f\"✅ MAE: {mae:.2f}\")\n",
    "    print(f\"✅ RMSE: {rmse:.2f}\")\n",
    "    print(f\"✅ MAPE (cleaned): {mape_val:.2f}%\")\n",
    "    print(f\"✅ SMAPE: {smape_val:.2f}%\")"
   ]
  },
  {
   "cell_type": "code",
   "execution_count": 13,
   "id": "6846a0ec",
   "metadata": {},
   "outputs": [
    {
     "name": "stdout",
     "output_type": "stream",
     "text": [
      "✅ MAE: 982.10\n",
      "✅ RMSE: 2631.41\n",
      "✅ MAPE (cleaned): 58.89%\n",
      "✅ SMAPE: 68.33%\n"
     ]
    }
   ],
   "source": [
    "# Merge actual and predicted values to ensure matching rows\n",
    "merged_df = pd.merge(\n",
    "    test_df, \n",
    "    pred_df, \n",
    "    on=['state', 'source'], \n",
    "    how='inner', \n",
    "    suffixes=('_actual', '_predicted')\n",
    ")\n",
    "\n",
    "# Now get aligned values\n",
    "y_true = merged_df['actual_2023'].values\n",
    "y_pred = merged_df['predicted_2023'].values  # or 'generation_predicted' based on your column name\n",
    "\n",
    "# Evaluate\n",
    "evaluate_model(y_true, y_pred)\n"
   ]
  },
  {
   "cell_type": "code",
   "execution_count": 14,
   "id": "5f54807c",
   "metadata": {},
   "outputs": [
    {
     "name": "stdout",
     "output_type": "stream",
     "text": [
      "R² Score: 0.8093\n"
     ]
    }
   ],
   "source": [
    "r2 = r2_score(y_true, y_pred)\n",
    "print(f\"R² Score: {r2:.4f}\")"
   ]
  },
  {
   "cell_type": "code",
   "execution_count": 15,
   "id": "bde47aa5",
   "metadata": {},
   "outputs": [],
   "source": [
    "from sklearn.preprocessing import StandardScaler\n",
    "from sklearn.cluster import KMeans"
   ]
  },
  {
   "cell_type": "code",
   "execution_count": 16,
   "id": "29614275",
   "metadata": {},
   "outputs": [],
   "source": [
    "pivot_df = df.groupby(['state', 'source'])['generation'].mean().reset_index()\n",
    "pivot_wide = pivot_df.pivot_table(index='state', columns='source', values='generation', aggfunc='sum',fill_value = 0)\n"
   ]
  },
  {
   "cell_type": "code",
   "execution_count": 17,
   "id": "8d9408b3",
   "metadata": {},
   "outputs": [],
   "source": [
    "# scaler = StandardScaler()\n",
    "# scaled_data = scaler.fit_transform(pivot_wide)"
   ]
  },
  {
   "cell_type": "code",
   "execution_count": 18,
   "id": "13aae089",
   "metadata": {},
   "outputs": [
    {
     "name": "stderr",
     "output_type": "stream",
     "text": [
      "c:\\ProgramData\\anaconda3\\Lib\\site-packages\\sklearn\\cluster\\_kmeans.py:1429: UserWarning: KMeans is known to have a memory leak on Windows with MKL, when there are less chunks than available threads. You can avoid it by setting the environment variable OMP_NUM_THREADS=1.\n",
      "  warnings.warn(\n"
     ]
    }
   ],
   "source": [
    "kmeans = KMeans(n_clusters=3, random_state=42)\n",
    "pivot_wide['cluster'] = kmeans.fit_predict(pivot_wide)\n",
    "final_clusters = pivot_wide.reset_index()[['state', 'cluster']]"
   ]
  },
  {
   "cell_type": "code",
   "execution_count": 19,
   "id": "9618fd72",
   "metadata": {},
   "outputs": [
    {
     "name": "stdout",
     "output_type": "stream",
     "text": [
      "Index(['state', 'cluster'], dtype='object', name='source')\n"
     ]
    }
   ],
   "source": [
    "print(final_clusters.columns)\n"
   ]
  },
  {
   "cell_type": "code",
   "execution_count": 20,
   "id": "f1aa39aa",
   "metadata": {},
   "outputs": [
    {
     "name": "stdout",
     "output_type": "stream",
     "text": [
      "source                   state  cluster\n",
      "13            Himachal Pradesh        0\n",
      "0              Andaman Nicobar        1\n",
      "19                 Lakshadweep        1\n",
      "20              Madhya Pradesh        1\n",
      "22                     Manipur        1\n",
      "23                   Meghalaya        1\n",
      "24                     Mizoram        1\n",
      "35                 Uttarakhand        1\n",
      "25                    Nagaland        1\n",
      "27                  Puducherry        1\n",
      "28                      Punjab        1\n",
      "30                      Sikkim        1\n",
      "32                   Telangana        1\n",
      "33                     Tripura        1\n",
      "34               Uttar Pradesh        1\n",
      "26                      Odisha        1\n",
      "17                      Kerala        1\n",
      "18                       Ladkh        1\n",
      "15                   Jharkhand        1\n",
      "2            Arunachal Pradesh        1\n",
      "3                        Assam        1\n",
      "4                        Bihar        1\n",
      "5                   Chandigarh        1\n",
      "7       Dadra and Nagar Haveli        1\n",
      "8                Daman and Diu        1\n",
      "6                 Chhattisgarh        1\n",
      "10                         Goa        1\n",
      "12                     Haryana        1\n",
      "14           Jammu and Kashmir        1\n",
      "9                        Delhi        1\n",
      "36                 West Bengal        1\n",
      "16                   Karnataka        2\n",
      "11                     Gujarat        2\n",
      "29                   Rajasthan        2\n",
      "21                 Maharashtra        2\n",
      "31                  Tamil Nadu        2\n",
      "1               Andhra Pradesh        2\n"
     ]
    }
   ],
   "source": [
    "print(final_clusters.sort_values('cluster'))"
   ]
  },
  {
   "cell_type": "code",
   "execution_count": 21,
   "id": "c17b2198",
   "metadata": {},
   "outputs": [
    {
     "data": {
      "image/png": "[encoded data removed]",
      "text/plain": [
       "<Figure size 1000x600 with 2 Axes>"
      ]
     },
     "metadata": {},
     "output_type": "display_data"
    }
   ],
   "source": [
    "from sklearn.decomposition import PCA\n",
    "\n",
    "pca = PCA(n_components=2)\n",
    "components = pca.fit_transform(pivot_wide.drop('cluster', axis=1))\n",
    "\n",
    "plt.figure(figsize=(10, 6))\n",
    "scatter = plt.scatter(components[:, 0], components[:, 1], c=pivot_wide['cluster'], cmap='Set1')\n",
    "plt.title(\"States clustered by renewable energy profiles (2017–2023)\")\n",
    "plt.xlabel(\"PCA Component 1\")\n",
    "plt.ylabel(\"PCA Component 2\")\n",
    "plt.colorbar(scatter, label=\"Cluster\")\n",
    "plt.grid(True)\n",
    "plt.show()\n"
   ]
  },
  {
   "cell_type": "code",
   "execution_count": 22,
   "id": "1b739370",
   "metadata": {},
   "outputs": [],
   "source": [
    "pivot_wide['cluster'] = kmeans.labels_\n"
   ]
  },
  {
   "cell_type": "code",
   "execution_count": null,
   "id": "897d93c6",
   "metadata": {},
   "outputs": [],
   "source": []
  },
  {
   "cell_type": "code",
   "execution_count": 23,
   "id": "c271df0a",
   "metadata": {},
   "outputs": [
    {
     "name": "stdout",
     "output_type": "stream",
     "text": [
      "source    bio_power   large_hydro  small_hydro        solar         wind\n",
      "cluster                                                                 \n",
      "0          0.000000  35820.984000  2077.793333    21.548333     0.000000\n",
      "1        198.764778   2493.747600   116.853611   446.267878   147.160556\n",
      "2        872.817500   4756.682333   523.106944  6231.605278  9103.170278\n"
     ]
    }
   ],
   "source": [
    "cluster_summary = pivot_wide.groupby('cluster').mean()\n",
    "print(cluster_summary)\n"
   ]
  },
  {
   "cell_type": "code",
   "execution_count": 24,
   "id": "b952b842",
   "metadata": {},
   "outputs": [
    {
     "data": {
      "image/png": "[encoded data removed]",
      "text/plain": [
       "<Figure size 1200x600 with 1 Axes>"
      ]
     },
     "metadata": {},
     "output_type": "display_data"
    }
   ],
   "source": [
    "cluster_summary.T.plot(kind='bar', figsize=(12, 6))\n",
    "plt.title('Average Renewable Energy Generation per Source by Cluster')\n",
    "plt.xlabel('Energy Source')\n",
    "plt.ylabel('Average Generation')\n",
    "plt.grid(True)\n",
    "plt.legend(title='Cluster')\n",
    "plt.tight_layout()\n",
    "plt.show()\n"
   ]
  },
  {
   "cell_type": "markdown",
   "id": "7c87ff36",
   "metadata": {},
   "source": [
    " Strategic Mapping (Qualitative View)\n",
    " \n",
    "Cluster 0 (Hydro-heavy): These are the water-rich, terrain-driven states relying on large-scale hydro projects.\n",
    "\n",
    "Cluster 1 (Low-gen): Either smaller UTs or states without major renewable projects.\n",
    "\n",
    "Cluster 2 (Diversified/Modern): Likely states adopting solar/wind aggressively due to policies or terrain (coastal or arid regions)."
   ]
  },
  {
   "cell_type": "code",
   "execution_count": 25,
   "id": "bad3882c",
   "metadata": {},
   "outputs": [],
   "source": [
    "df_features = pivot_wide[['bio_power', 'large_hydro', 'small_hydro', 'solar', 'wind']]\n",
    "cluster_labels = pivot_wide['cluster']"
   ]
  },
  {
   "cell_type": "code",
   "execution_count": 26,
   "id": "ee8e7ca9",
   "metadata": {},
   "outputs": [],
   "source": [
    "pca = PCA(n_components=2)\n",
    "pca_result = pca.fit_transform(df_features)\n",
    "\n",
    "df_pca = pd.DataFrame(pca_result , columns=['PC1','PC2'])\n",
    "df_pca['Cluster'] = cluster_labels.values\n",
    "df_pca['state'] = pivot_wide.index"
   ]
  },
  {
   "cell_type": "code",
   "execution_count": 27,
   "id": "1d9785ff",
   "metadata": {},
   "outputs": [
    {
     "data": {
      "image/png": "[encoded data removed]",
      "text/plain": [
       "<Figure size 1200x800 with 1 Axes>"
      ]
     },
     "metadata": {},
     "output_type": "display_data"
    }
   ],
   "source": [
    "plt.figure(figsize=(12, 8))\n",
    "sns.scatterplot(data=df_pca, x='PC1', y='PC2', hue='Cluster', palette='Set1', s=100)\n",
    "\n",
    "# Add state labels to each point\n",
    "for i in range(df_pca.shape[0]):\n",
    "    plt.text(df_pca['PC1'][i] + 100, df_pca['PC2'][i] + 100, df_pca['state'][i], \n",
    "             fontsize=9, alpha=0.9)\n",
    "\n",
    "plt.title('PCA Projection of States Based on Renewable Energy Profile')\n",
    "plt.xlabel(f\"PC1 ({pca.explained_variance_ratio_[0]*100:.2f}% Variance)\")\n",
    "plt.ylabel(f\"PC2 ({pca.explained_variance_ratio_[1]*100:.2f}% Variance)\")\n",
    "plt.grid(True)\n",
    "plt.legend(title='Cluster')\n",
    "plt.tight_layout()\n",
    "plt.show()\n"
   ]
  },
  {
   "cell_type": "markdown",
   "id": "0cbae8a9",
   "metadata": {},
   "source": [
    "Himachal Pradesh has a hydro-heavy profile — great, but also imbalanced. This makes it structurally different from other states.\n",
    "\n",
    "Tamil Nadu, Gujarat, etc. form a well-diversified, high-output cluster — they are your leaders in large-scale renewable implementation across wind, solar, and bio.\n",
    "\n",
    "The rest (Cluster 1) are still developing, experimenting, or lagging in balanced renewable rollout."
   ]
  },
  {
   "cell_type": "code",
   "execution_count": 28,
   "id": "583512eb",
   "metadata": {},
   "outputs": [
    {
     "data": {
      "text/plain": [
       "source\n",
       "bio_power          0.000000\n",
       "large_hydro    35820.984000\n",
       "small_hydro     2077.793333\n",
       "solar             21.548333\n",
       "wind               0.000000\n",
       "cluster            0.000000\n",
       "Name: Himachal Pradesh, dtype: float64"
      ]
     },
     "execution_count": 28,
     "metadata": {},
     "output_type": "execute_result"
    }
   ],
   "source": [
    "pivot_wide.loc['Himachal Pradesh']\n"
   ]
  },
  {
   "cell_type": "code",
   "execution_count": null,
   "id": "d7c6308e",
   "metadata": {},
   "outputs": [],
   "source": []
  }
 ],
 "metadata": {
  "kernelspec": {
   "display_name": "base",
   "language": "python",
   "name": "python3"
  },
  "language_info": {
   "codemirror_mode": {
    "name": "ipython",
    "version": 3
   },
   "file_extension": ".py",
   "mimetype": "text/x-python",
   "name": "python",
   "nbconvert_exporter": "python",
   "pygments_lexer": "ipython3",
   "version": "3.12.7"
  }
 },
 "nbformat": 4,
 "nbformat_minor": 5
}
